{
 "cells": [
  {
   "cell_type": "code",
   "execution_count": 1,
   "metadata": {
    "id": "9bApoFTy2tRy"
   },
   "outputs": [],
   "source": [
    "import sympy\n",
    "from sympy import  Symbol, symbols, S, Point, Line, Plane, Point3D, Matrix, latex\n",
    "from IPython.display import display, Latex"
   ]
  },
  {
   "cell_type": "markdown",
   "metadata": {
    "id": "5ZqL6UH72tR0"
   },
   "source": [
    "# Занятие 6\n",
    "# Алгебра\n",
    "\n",
    "##  Прямые и плоскости в пространстве. Geometry.\n",
    "### Задание 1.\n",
    "Найти угол между плоскостями $ABC$ и  $ABD$, где \n",
    "$A(-1, 2, -4)$,\n",
    "$B(2, -2, 1)$,\n",
    "$C(5, 3, -6)$,\n",
    "$D(0, 3, -6)$."
   ]
  },
  {
   "cell_type": "code",
   "execution_count": 2,
   "metadata": {
    "id": "wgUA2izF2tR2"
   },
   "outputs": [
    {
     "data": {
      "text/plain": [
       "False"
      ]
     },
     "metadata": {},
     "output_type": "display_data"
    },
    {
     "data": {
      "text/plain": [
       "False"
      ]
     },
     "metadata": {},
     "output_type": "display_data"
    },
    {
     "data": {
      "text/latex": [
       "$\\displaystyle \\operatorname{acos}{\\left(\\frac{33 \\sqrt{1130}}{1130} \\right)}$"
      ],
      "text/plain": [
       "acos(33*sqrt(1130)/1130)"
      ]
     },
     "metadata": {},
     "output_type": "display_data"
    }
   ],
   "source": [
    "A = Point(-1, 2, -4)\n",
    "B = Point(2, -2, 1)\n",
    "C = Point(5, 3, -6)\n",
    "D = Point(0, 3, -6)\n",
    "display(Point3D.are_collinear(A, B, C))\n",
    "display(Point3D.are_collinear(A, C, D))\n",
    "ABC = Plane(A, B, C)\n",
    "ABD = Plane(A, C, D)\n",
    "display(ABC.angle_between(ABD))"
   ]
  },
  {
   "cell_type": "markdown",
   "metadata": {
    "id": "3Cr8SC_p2tR2"
   },
   "source": [
    "### Задание 2.\n",
    "Найти угол между прямой, проходящей через точки $A(-3,5,1)$ и $B(5,2,-3)$ и плоскостью, в которой лежат точки \n",
    "$K(4,3,0)$, $M(2,4,-2)$ и $N(-2,2,-1)$."
   ]
  },
  {
   "cell_type": "code",
   "execution_count": 3,
   "metadata": {
    "id": "L_BT23AN2tR2"
   },
   "outputs": [
    {
     "data": {
      "text/plain": [
       "False"
      ]
     },
     "metadata": {},
     "output_type": "display_data"
    },
    {
     "data": {
      "text/latex": [
       "$\\displaystyle - \\operatorname{asin}{\\left(\\frac{86 \\sqrt{15397}}{15397} \\right)}$"
      ],
      "text/plain": [
       "-asin(86*sqrt(15397)/15397)"
      ]
     },
     "execution_count": 3,
     "metadata": {},
     "output_type": "execute_result"
    }
   ],
   "source": [
    "A = Point(-3, 5, 1)\n",
    "B = Point(5, 2, -3)\n",
    "K = Point(4, 3, 0)\n",
    "M = Point(2, 4, -2)\n",
    "N = Point(-2, 2, -1)\n",
    "display(Point3D.are_collinear(K, M, N))\n",
    "AB = Line(A, B)\n",
    "KMN = Plane(K, M, N)\n",
    "KMN.angle_between(AB)"
   ]
  },
  {
   "cell_type": "markdown",
   "metadata": {
    "id": "Frcu2NPw2tR3"
   },
   "source": [
    "### Задание 3.\n",
    "Проверить, лежат ли точки в одной плоскости\n",
    "\n",
    "а) $A(3, 2, -1)$, $B(2, -1, 0)$, $C(5, 2, -6)$, $D(6, 5, -7)$\n",
    "\n",
    "b) $A(-1, 5, -4)$, $B(7, -2, 1)$, $C(6, 3, -8)$, $D(0, 3, 0)$\n",
    "\n",
    "Вывести на экран сообщение \"Точки лежат в одной плоскости\" или \"Точки не лежат в одной плоскости\"."
   ]
  },
  {
   "cell_type": "code",
   "execution_count": 4,
   "metadata": {
    "id": "vG9cg7R-2tR3"
   },
   "outputs": [
    {
     "name": "stdout",
     "output_type": "stream",
     "text": [
      "Точки A, B, C, D лежат в одной плоскости\n"
     ]
    }
   ],
   "source": [
    "A = Point(3, 2, -1)\n",
    "B = Point(2, -1, 0)\n",
    "C = Point(5, 2, -6)\n",
    "D = Point(6, 5, -7)\n",
    "print(f'Точки A, B, C, D {\"не \" * (not Point3D.are_coplanar(A, B, C, D))}лежат в одной плоскости')"
   ]
  },
  {
   "cell_type": "code",
   "execution_count": 5,
   "metadata": {},
   "outputs": [
    {
     "name": "stdout",
     "output_type": "stream",
     "text": [
      "Точки A, B, C, D не лежат в одной плоскости\n"
     ]
    }
   ],
   "source": [
    "A = Point(-1, 5, -4)\n",
    "B = Point(7, -2, 1)\n",
    "C = Point(6, 3, -8)\n",
    "D = Point(0, 3, 0)\n",
    "print(f'Точки A, B, C, D {\"не \" * (not Point3D.are_coplanar(A, B, C, D))}лежат в одной плоскости')"
   ]
  },
  {
   "cell_type": "markdown",
   "metadata": {
    "id": "F8_2pF5ZhKb8"
   },
   "source": [
    "###  Задание 4.\n",
    "Для плоскостей Задания 1 найти векторы нормали (воспользоваться свойством normal_vector), преобразовать их в матрицы-столбцы и вычислить угол между плоскостями с помощью скалярного произведения. Сравнить с результатом Задания 1."
   ]
  },
  {
   "cell_type": "code",
   "execution_count": 6,
   "metadata": {
    "id": "W3WTaq8WhOEL"
   },
   "outputs": [
    {
     "data": {
      "text/latex": [
       "$\\displaystyle \\left[\\begin{matrix}3\\\\36\\\\27\\end{matrix}\\right]$"
      ],
      "text/plain": [
       "Matrix([\n",
       "[ 3],\n",
       "[36],\n",
       "[27]])"
      ]
     },
     "metadata": {},
     "output_type": "display_data"
    },
    {
     "data": {
      "text/latex": [
       "$\\displaystyle \\left[\\begin{matrix}0\\\\10\\\\5\\end{matrix}\\right]$"
      ],
      "text/plain": [
       "Matrix([\n",
       "[ 0],\n",
       "[10],\n",
       "[ 5]])"
      ]
     },
     "metadata": {},
     "output_type": "display_data"
    },
    {
     "data": {
      "text/latex": [
       "$\\displaystyle \\operatorname{acos}{\\left(\\frac{33 \\sqrt{1130}}{1130} \\right)}$"
      ],
      "text/plain": [
       "acos(33*sqrt(1130)/1130)"
      ]
     },
     "metadata": {},
     "output_type": "display_data"
    },
    {
     "data": {
      "text/plain": [
       "True"
      ]
     },
     "execution_count": 6,
     "metadata": {},
     "output_type": "execute_result"
    }
   ],
   "source": [
    "A = Point(-1, 2, -4)\n",
    "B = Point(2, -2, 1)\n",
    "C = Point(5, 3, -6)\n",
    "D = Point(0, 3, -6)\n",
    "ABC = Plane(A, B, C)\n",
    "ABD = Plane(A, C, D)\n",
    "nABC = Matrix(ABC.normal_vector)\n",
    "nABD = Matrix(ABD.normal_vector)\n",
    "cos_phi = nABC.dot(nABD) / sympy.sqrt((nABC.dot(nABC)) * (nABD.dot(nABD)))\n",
    "phi = sympy.acos(cos_phi)\n",
    "display(nABC, nABD, phi)\n",
    "ABC.angle_between(ABD) == phi"
   ]
  },
  {
   "cell_type": "markdown",
   "metadata": {
    "id": "QZ_bFRbf2tR3"
   },
   "source": [
    "###  Задание 5.\n",
    "Прямая задана параметрическими уравнениями:\n",
    "$$\n",
    "\\left\\{\\begin{matrix}\n",
    "x=2+5t\\\\\n",
    "y=-1-2t\\\\\n",
    "z=4-3t\n",
    "\\end{matrix}\\right..\n",
    "$$\n",
    "Представить прямую в виде линии пересечения двух плоскостей (вывести на экран уравнения плоскостей), \n",
    "одна из которых проходит через начало координат, а вторая плоскость перпендикулярна первой плоскости.\n",
    "\n",
    "Указание: сначала составить список правых частей параметрических уравнений, затем составить две различные точки на прямой и далее решить средствами для работы с прямыми и плоскостями из модуля Geometry."
   ]
  },
  {
   "cell_type": "code",
   "execution_count": 7,
   "metadata": {
    "id": "deDKiQhH2tR3"
   },
   "outputs": [
    {
     "data": {
      "text/latex": [
       "$\\displaystyle 11 x + 26 y + z = 0$"
      ],
      "text/plain": [
       "Eq(11*x + 26*y + z, 0)"
      ]
     },
     "metadata": {},
     "output_type": "display_data"
    },
    {
     "data": {
      "text/latex": [
       "$\\displaystyle 76 x - 38 y + 152 z - 798 = 0$"
      ],
      "text/plain": [
       "Eq(76*x - 38*y + 152*z - 798, 0)"
      ]
     },
     "metadata": {},
     "output_type": "display_data"
    }
   ],
   "source": [
    "t = Symbol('t')\n",
    "System = Matrix([2, -1, 4]) + t*Matrix([5, -2, -3])\n",
    "A = Point(System.subs(t, 0))\n",
    "B = Point(System.subs(t, 1))\n",
    "O = Point(0, 0, 0)\n",
    "Plane1 = Plane(A, B, O)\n",
    "Plane2 = Plane1.perpendicular_plane(A, B)\n",
    "display(sympy.Eq(Plane1.equation(), 0), sympy.Eq(Plane2.equation(), 0))"
   ]
  },
  {
   "cell_type": "markdown",
   "metadata": {
    "id": "zOUIWmYZ2tR4"
   },
   "source": [
    "###  Задание 6*.\n",
    "Даны точки  пространстве\n",
    "$A(-2, 7, -5)$, $B(6, 2, -4)$, $C(14, -3, -2)$, $D(22, -8, -2)$, $K(30, -7, -4)$,\n",
    "$M(94, -35, -2)$.\n",
    "\n",
    "Определить, какие тройки точек лежат на одной прямой, какие четверки - в одной плоскости.\n",
    "\n",
    "Для проверки того, что три точки лежат на одной прямой использовать Point3D.are_collinear.\n",
    "\n",
    "Вывести на экран тройки точек, лежащие на одной прямой и четверки точек, лежащих в одной плоскости."
   ]
  },
  {
   "cell_type": "code",
   "execution_count": 8,
   "metadata": {
    "id": "I2eyOGQy2tR4"
   },
   "outputs": [
    {
     "name": "stdout",
     "output_type": "stream",
     "text": [
      "На одной прямой: (A, B, D), (A, K, M)\n",
      "В одной плоскости: (A, B, C, D), (A, B, D, K), (A, B, D, M), (A, B, K, M), (A, C, K, M), (A, D, K, M), (B, D, K, M)\n"
     ]
    }
   ],
   "source": [
    "A = Point(-2, 7, -5)\n",
    "B = Point(6, 2, -4)\n",
    "C = Point(14, -3, -2)\n",
    "D = Point(22, -8, -2)\n",
    "K = Point(30, -7, -4)\n",
    "M = Point(94, -35, -2)\n",
    "points = (A, B, C, D, K, M)\n",
    "point_names = ('A', 'B', 'C', 'D', 'K', 'M')\n",
    "num = len(points)\n",
    "collinears = []\n",
    "for i in range(num):\n",
    "    for j in range(i + 1, num):\n",
    "        for k in range(j + 1, num):\n",
    "            if Point3D.are_collinear(points[i], points[j], points[k]):\n",
    "                collinears.append([point_names[i], point_names[j], point_names[k]])\n",
    "print(\"На одной прямой: (\" + \"), (\".join([\", \".join(i) for i in collinears])+\")\")\n",
    "coplanars = []\n",
    "for i in range(num):\n",
    "    for j in range(i + 1, num):\n",
    "        for k in range(j + 1, num):\n",
    "            for l in range(k + 1, num):\n",
    "                if Point3D.are_coplanar(points[i], points[j], points[k], points[l]):\n",
    "                    coplanars.append([point_names[i], point_names[j], point_names[k], point_names[l]])\n",
    "print(\"В одной плоскости: (\" + \"), (\".join([\", \".join(i) for i in coplanars])+\")\")"
   ]
  },
  {
   "cell_type": "markdown",
   "metadata": {
    "id": "pkTcIdfl2tR4"
   },
   "source": [
    "###  Задание 7*.\n",
    "Составить уравнения всех (различных!) плоскостей, определяемых точками задания 1.\n",
    "\n",
    "Указание: решать аналогично Примеру 11, проверить, что $A$, $B$, $C$ не лежат на одной прямой и составить плоскость $ABC$, включить ее в список плоскостей. "
   ]
  },
  {
   "cell_type": "code",
   "execution_count": 9,
   "metadata": {
    "id": "qATyCaiv2tR4"
   },
   "outputs": [
    {
     "data": {
      "text/latex": [
       "ABC:\\ 3 x + 36 y + 27 z + 39 = 0"
      ],
      "text/plain": [
       "<IPython.core.display.Latex object>"
      ]
     },
     "metadata": {},
     "output_type": "display_data"
    },
    {
     "data": {
      "text/latex": [
       "ABD:\\ 3 x + 11 y + 7 z + 9 = 0"
      ],
      "text/plain": [
       "<IPython.core.display.Latex object>"
      ]
     },
     "metadata": {},
     "output_type": "display_data"
    },
    {
     "data": {
      "text/latex": [
       "ACD:\\ 10 y + 5 z = 0"
      ],
      "text/plain": [
       "<IPython.core.display.Latex object>"
      ]
     },
     "metadata": {},
     "output_type": "display_data"
    },
    {
     "data": {
      "text/latex": [
       "BCD:\\ 35 y + 25 z + 45 = 0"
      ],
      "text/plain": [
       "<IPython.core.display.Latex object>"
      ]
     },
     "metadata": {},
     "output_type": "display_data"
    }
   ],
   "source": [
    "A = Point(-1, 2, -4)\n",
    "B = Point(2, -2, 1)\n",
    "C = Point(5, 3, -6)\n",
    "D = Point(0, 3, -6)\n",
    "points = (A, B, C, D)\n",
    "point_names = ('A', 'B', 'C', 'D')\n",
    "num = len(points)\n",
    "planes = []\n",
    "for i in range(num):\n",
    "    for j in range(i + 1, num):\n",
    "        for k in range(j + 1, num):\n",
    "            if not Point3D.are_collinear(points[i], points[j], points[k]):\n",
    "                planes.append([point_names[i]+point_names[j]+point_names[k], Plane(points[i], points[j], points[k])])\n",
    "for i in planes:\n",
    "    display(Latex(f'{i[0]}:\\ {latex(sympy.Eq(i[1].equation(), 0))}'))"
   ]
  },
  {
   "cell_type": "markdown",
   "metadata": {
    "id": "MAw3Av4Y2tR5"
   },
   "source": [
    "### Индивидуальное задание\n",
    "Даны точки в пространстве\n",
    "$A (0, -2, -4)$, $B (2, 1, -1)$, $C (3, 3, 3)$, $D (-2, 1, -1)$ и $M (2, -2, -3)$.\n",
    "\n",
    "Найти угол между прямой $AB$ и плоскостью $CDM$, угол между $AC$ и $CM$, угол между плоскостями $ABC$ и $CDM$.\n",
    "\n",
    "Составить уравнение: \n",
    "\n",
    "a) плоскости, параллельной $ABC$ и проходящей через $M$,\n",
    "\n",
    "b) плоскости, перпендикулярной $ABC$ и проходящей через $A$ и $M$,\n",
    "\n",
    "c) прямой (параметрическое!), перпендикулярной $ABC$ и проходящей через $C$."
   ]
  },
  {
   "cell_type": "code",
   "execution_count": 12,
   "metadata": {
    "id": "__YmDMZK2tR5"
   },
   "outputs": [
    {
     "data": {
      "text/latex": [
       "$\\displaystyle - \\operatorname{asin}{\\left(\\frac{25 \\sqrt{3102}}{9306} \\right)}$"
      ],
      "text/plain": [
       "-asin(25*sqrt(3102)/9306)"
      ]
     },
     "metadata": {},
     "output_type": "display_data"
    },
    {
     "data": {
      "text/latex": [
       "$\\displaystyle \\operatorname{acos}{\\left(- \\frac{35 \\sqrt{5146}}{2573} \\right)}$"
      ],
      "text/plain": [
       "acos(-35*sqrt(5146)/2573)"
      ]
     },
     "metadata": {},
     "output_type": "display_data"
    },
    {
     "data": {
      "text/latex": [
       "$\\displaystyle \\operatorname{acos}{\\left(\\frac{35 \\sqrt{8742}}{8742} \\right)}$"
      ],
      "text/plain": [
       "acos(35*sqrt(8742)/8742)"
      ]
     },
     "metadata": {},
     "output_type": "display_data"
    },
    {
     "data": {
      "text/latex": [
       "$\\displaystyle 6 x - 5 y + z - 19 = 0$"
      ],
      "text/plain": [
       "Eq(6*x - 5*y + z - 19, 0)"
      ]
     },
     "metadata": {},
     "output_type": "display_data"
    },
    {
     "data": {
      "text/latex": [
       "$\\displaystyle 5 x + 4 y - 10 z - 32 = 0$"
      ],
      "text/plain": [
       "Eq(5*x + 4*y - 10*z - 32, 0)"
      ]
     },
     "metadata": {},
     "output_type": "display_data"
    },
    {
     "data": {
      "text/latex": [
       "$\\displaystyle x = 6 t - 15$"
      ],
      "text/plain": [
       "Eq(x, 6*t - 15)"
      ]
     },
     "metadata": {},
     "output_type": "display_data"
    },
    {
     "data": {
      "text/latex": [
       "$\\displaystyle y = 18 - 5 t$"
      ],
      "text/plain": [
       "Eq(y, 18 - 5*t)"
      ]
     },
     "metadata": {},
     "output_type": "display_data"
    },
    {
     "data": {
      "text/latex": [
       "$\\displaystyle z = t$"
      ],
      "text/plain": [
       "Eq(z, t)"
      ]
     },
     "metadata": {},
     "output_type": "display_data"
    }
   ],
   "source": [
    "A = Point(0, -2, -4)\n",
    "B = Point(2, 1, -1)\n",
    "C = Point(3, 3, 3)\n",
    "D = Point(-2, 1, -1)\n",
    "M = Point(2, -2, -3)\n",
    "AB = Line(A, B)\n",
    "AC = Line(A, C)\n",
    "CM = Line(C, M)\n",
    "CDM = Plane(C, D, M)\n",
    "ABC = Plane(A, B, C)\n",
    "display(CDM.angle_between(AB), AC.angle_between(CM), ABC.angle_between(CDM))\n",
    "display(sympy.Eq(ABC.parallel_plane(M).equation(), 0), sympy.Eq(ABC.perpendicular_plane(A, M).equation(), 0))\n",
    "P = ABC.perpendicular_line(C)\n",
    "x,y,z,t = symbols(\"x y z t\")\n",
    "X = Matrix([x, y, z])\n",
    "CP = Matrix(*sympy.linsolve(P.equation(x, y, z), x, y, z))\n",
    "CP_sys = [sympy.Eq(X[i], CP[i].subs(z, t)) for i in range(len(CP))]\n",
    "display(*CP_sys)"
   ]
  }
 ],
 "metadata": {
  "colab": {
   "provenance": []
  },
  "kernelspec": {
   "display_name": "Python 3 (ipykernel)",
   "language": "python",
   "name": "python3"
  },
  "language_info": {
   "codemirror_mode": {
    "name": "ipython",
    "version": 3
   },
   "file_extension": ".py",
   "mimetype": "text/x-python",
   "name": "python",
   "nbconvert_exporter": "python",
   "pygments_lexer": "ipython3",
   "version": "3.9.13"
  }
 },
 "nbformat": 4,
 "nbformat_minor": 1
}
