{
 "cells": [
  {
   "cell_type": "markdown",
   "metadata": {
    "id": "KqMzidc80GGB"
   },
   "source": [
    "# Занятие 3\n",
    "# Алгебра\n",
    "## Решение систем линейных алгебраических уравнений (СЛАУ)"
   ]
  },
  {
   "cell_type": "markdown",
   "metadata": {
    "id": "675Fb5ND0GGK"
   },
   "source": [
    "https://docs.sympy.org/latest/modules/solvers/solveset.html#sympy.solvers.solveset.linsolve"
   ]
  },
  {
   "cell_type": "code",
   "execution_count": 1,
   "metadata": {
    "id": "TNk5d0Si0GGK"
   },
   "outputs": [],
   "source": [
    "from sympy import linsolve, Matrix, S, Symbol, symbols, Eq, linear_eq_to_matrix, simplify, diag"
   ]
  },
  {
   "cell_type": "markdown",
   "metadata": {
    "id": "dMGJ1uQC0GGM"
   },
   "source": [
    "### Задание 1.\n",
    "Решить СЛАУ, представив их тремя различными способами (расширенная матрица, список уравнений, матричный вид)\n",
    "$$\n",
    "a)\\ \\left\\{\n",
    "\\begin{matrix}\n",
    "-x+5y-3z=8\\\\\n",
    "4x-y+5z=-1\\\\\n",
    "3x+4y+5z=10\n",
    "\\end{matrix}\n",
    "\\right., \\quad \n",
    "b)\\ \\left\\{\n",
    "\\begin{matrix}\n",
    "-x+5y-3z=8\\\\\n",
    "4x-y+5z=-1\\\\\n",
    "3x+4y+2z=7\n",
    "\\end{matrix}\n",
    "\\right., \\quad \n",
    "c)\\ \\left\\{\n",
    "\\begin{matrix}\n",
    "-x+5y-3z=8\\\\\n",
    "4x-y+5z=-1\\\\\n",
    "3x+4y+2z=5\n",
    "\\end{matrix}\n",
    "\\right.\n",
    "$$"
   ]
  },
  {
   "cell_type": "code",
   "execution_count": 2,
   "metadata": {
    "id": "mGOuiK5h0GGN"
   },
   "outputs": [
    {
     "name": "stdout",
     "output_type": "stream",
     "text": [
      "РАСШИРЕННАЯ МАТРИЦА:\n"
     ]
    },
    {
     "data": {
      "text/latex": [
       "$\\displaystyle \\left[\\begin{matrix}-1 & 5 & -3 & 8\\\\4 & -1 & 5 & -1\\\\3 & 4 & 5 & 10\\end{matrix}\\right]$"
      ],
      "text/plain": [
       "Matrix([\n",
       "[-1,  5, -3,  8],\n",
       "[ 4, -1,  5, -1],\n",
       "[ 3,  4,  5, 10]])"
      ]
     },
     "metadata": {},
     "output_type": "display_data"
    },
    {
     "name": "stdout",
     "output_type": "stream",
     "text": [
      "Решение:\n"
     ]
    },
    {
     "data": {
      "text/latex": [
       "$\\displaystyle \\left\\{\\left( -1, \\  2, \\  1\\right)\\right\\}$"
      ],
      "text/plain": [
       "{(-1, 2, 1)}"
      ]
     },
     "metadata": {},
     "output_type": "display_data"
    },
    {
     "name": "stdout",
     "output_type": "stream",
     "text": [
      "\n"
     ]
    },
    {
     "data": {
      "text/latex": [
       "$\\displaystyle \\left[\\begin{matrix}-1 & 5 & -3 & 8\\\\4 & -1 & 5 & -1\\\\3 & 4 & 2 & 7\\end{matrix}\\right]$"
      ],
      "text/plain": [
       "Matrix([\n",
       "[-1,  5, -3,  8],\n",
       "[ 4, -1,  5, -1],\n",
       "[ 3,  4,  2,  7]])"
      ]
     },
     "metadata": {},
     "output_type": "display_data"
    },
    {
     "name": "stdout",
     "output_type": "stream",
     "text": [
      "Решение:\n"
     ]
    },
    {
     "data": {
      "text/latex": [
       "$\\displaystyle \\left\\{\\left( \\frac{3}{19} - \\frac{22 \\tau_{0}}{19}, \\  \\frac{7 \\tau_{0}}{19} + \\frac{31}{19}, \\  \\tau_{0}\\right)\\right\\}$"
      ],
      "text/plain": [
       "{(3/19 - 22*tau0/19, 7*tau0/19 + 31/19, tau0)}"
      ]
     },
     "metadata": {},
     "output_type": "display_data"
    },
    {
     "name": "stdout",
     "output_type": "stream",
     "text": [
      "\n"
     ]
    },
    {
     "data": {
      "text/latex": [
       "$\\displaystyle \\left[\\begin{matrix}-1 & 5 & -3 & 8\\\\4 & -1 & 5 & -1\\\\3 & 4 & 2 & 5\\end{matrix}\\right]$"
      ],
      "text/plain": [
       "Matrix([\n",
       "[-1,  5, -3,  8],\n",
       "[ 4, -1,  5, -1],\n",
       "[ 3,  4,  2,  5]])"
      ]
     },
     "metadata": {},
     "output_type": "display_data"
    },
    {
     "name": "stdout",
     "output_type": "stream",
     "text": [
      "Решение:\n"
     ]
    },
    {
     "data": {
      "text/latex": [
       "$\\displaystyle \\emptyset$"
      ],
      "text/plain": [
       "EmptySet"
      ]
     },
     "metadata": {},
     "output_type": "display_data"
    },
    {
     "name": "stdout",
     "output_type": "stream",
     "text": [
      "\n",
      "СПИСОК УРАВНЕНИЙ:\n"
     ]
    },
    {
     "data": {
      "text/latex": [
       "$\\displaystyle - x + 5 y - 3 z - 8$"
      ],
      "text/plain": [
       "-x + 5*y - 3*z - 8"
      ]
     },
     "metadata": {},
     "output_type": "display_data"
    },
    {
     "data": {
      "text/latex": [
       "$\\displaystyle 4 x - y + 5 z + 1$"
      ],
      "text/plain": [
       "4*x - y + 5*z + 1"
      ]
     },
     "metadata": {},
     "output_type": "display_data"
    },
    {
     "data": {
      "text/latex": [
       "$\\displaystyle 3 x + 4 y + 5 z - 10$"
      ],
      "text/plain": [
       "3*x + 4*y + 5*z - 10"
      ]
     },
     "metadata": {},
     "output_type": "display_data"
    },
    {
     "name": "stdout",
     "output_type": "stream",
     "text": [
      "Решение:\n"
     ]
    },
    {
     "data": {
      "text/latex": [
       "$\\displaystyle \\left\\{\\left( -1, \\  2, \\  1\\right)\\right\\}$"
      ],
      "text/plain": [
       "{(-1, 2, 1)}"
      ]
     },
     "metadata": {},
     "output_type": "display_data"
    },
    {
     "name": "stdout",
     "output_type": "stream",
     "text": [
      "\n"
     ]
    },
    {
     "data": {
      "text/latex": [
       "$\\displaystyle - x + 5 y - 3 z - 8$"
      ],
      "text/plain": [
       "-x + 5*y - 3*z - 8"
      ]
     },
     "metadata": {},
     "output_type": "display_data"
    },
    {
     "data": {
      "text/latex": [
       "$\\displaystyle 4 x - y + 5 z + 1$"
      ],
      "text/plain": [
       "4*x - y + 5*z + 1"
      ]
     },
     "metadata": {},
     "output_type": "display_data"
    },
    {
     "data": {
      "text/latex": [
       "$\\displaystyle 3 x + 4 y + 2 z - 7$"
      ],
      "text/plain": [
       "3*x + 4*y + 2*z - 7"
      ]
     },
     "metadata": {},
     "output_type": "display_data"
    },
    {
     "name": "stdout",
     "output_type": "stream",
     "text": [
      "Решение:\n"
     ]
    },
    {
     "data": {
      "text/latex": [
       "$\\displaystyle \\left\\{\\left( \\frac{3}{19} - \\frac{22 z}{19}, \\  \\frac{7 z}{19} + \\frac{31}{19}, \\  z\\right)\\right\\}$"
      ],
      "text/plain": [
       "{(3/19 - 22*z/19, 7*z/19 + 31/19, z)}"
      ]
     },
     "metadata": {},
     "output_type": "display_data"
    },
    {
     "name": "stdout",
     "output_type": "stream",
     "text": [
      "\n"
     ]
    },
    {
     "data": {
      "text/latex": [
       "$\\displaystyle - x + 5 y - 3 z - 8$"
      ],
      "text/plain": [
       "-x + 5*y - 3*z - 8"
      ]
     },
     "metadata": {},
     "output_type": "display_data"
    },
    {
     "data": {
      "text/latex": [
       "$\\displaystyle 4 x - y + 5 z + 1$"
      ],
      "text/plain": [
       "4*x - y + 5*z + 1"
      ]
     },
     "metadata": {},
     "output_type": "display_data"
    },
    {
     "data": {
      "text/latex": [
       "$\\displaystyle 3 x + 4 y + 2 z - 5$"
      ],
      "text/plain": [
       "3*x + 4*y + 2*z - 5"
      ]
     },
     "metadata": {},
     "output_type": "display_data"
    },
    {
     "name": "stdout",
     "output_type": "stream",
     "text": [
      "Решение:\n"
     ]
    },
    {
     "data": {
      "text/latex": [
       "$\\displaystyle \\emptyset$"
      ],
      "text/plain": [
       "EmptySet"
      ]
     },
     "metadata": {},
     "output_type": "display_data"
    },
    {
     "name": "stdout",
     "output_type": "stream",
     "text": [
      "\n",
      "МАТРИЧНЫЙ ВИД:\n"
     ]
    },
    {
     "data": {
      "text/latex": [
       "$\\displaystyle \\left[\\begin{matrix}-1 & 5 & -3\\\\4 & -1 & 5\\\\3 & 4 & 5\\end{matrix}\\right]$"
      ],
      "text/plain": [
       "Matrix([\n",
       "[-1,  5, -3],\n",
       "[ 4, -1,  5],\n",
       "[ 3,  4,  5]])"
      ]
     },
     "metadata": {},
     "output_type": "display_data"
    },
    {
     "data": {
      "text/latex": [
       "$\\displaystyle \\left[\\begin{matrix}8\\\\-1\\\\10\\end{matrix}\\right]$"
      ],
      "text/plain": [
       "Matrix([\n",
       "[ 8],\n",
       "[-1],\n",
       "[10]])"
      ]
     },
     "metadata": {},
     "output_type": "display_data"
    },
    {
     "name": "stdout",
     "output_type": "stream",
     "text": [
      "Решение:\n"
     ]
    },
    {
     "data": {
      "text/latex": [
       "$\\displaystyle \\left\\{\\left( -1, \\  2, \\  1\\right)\\right\\}$"
      ],
      "text/plain": [
       "{(-1, 2, 1)}"
      ]
     },
     "metadata": {},
     "output_type": "display_data"
    },
    {
     "name": "stdout",
     "output_type": "stream",
     "text": [
      "\n"
     ]
    },
    {
     "data": {
      "text/latex": [
       "$\\displaystyle \\left[\\begin{matrix}-1 & 5 & -3\\\\4 & -1 & 5\\\\3 & 4 & 2\\end{matrix}\\right]$"
      ],
      "text/plain": [
       "Matrix([\n",
       "[-1,  5, -3],\n",
       "[ 4, -1,  5],\n",
       "[ 3,  4,  2]])"
      ]
     },
     "metadata": {},
     "output_type": "display_data"
    },
    {
     "data": {
      "text/latex": [
       "$\\displaystyle \\left[\\begin{matrix}8\\\\-1\\\\7\\end{matrix}\\right]$"
      ],
      "text/plain": [
       "Matrix([\n",
       "[ 8],\n",
       "[-1],\n",
       "[ 7]])"
      ]
     },
     "metadata": {},
     "output_type": "display_data"
    },
    {
     "name": "stdout",
     "output_type": "stream",
     "text": [
      "Решение:\n"
     ]
    },
    {
     "data": {
      "text/latex": [
       "$\\displaystyle \\left\\{\\left( \\frac{3}{19} - \\frac{22 \\tau_{0}}{19}, \\  \\frac{7 \\tau_{0}}{19} + \\frac{31}{19}, \\  \\tau_{0}\\right)\\right\\}$"
      ],
      "text/plain": [
       "{(3/19 - 22*tau0/19, 7*tau0/19 + 31/19, tau0)}"
      ]
     },
     "metadata": {},
     "output_type": "display_data"
    },
    {
     "name": "stdout",
     "output_type": "stream",
     "text": [
      "\n"
     ]
    },
    {
     "data": {
      "text/latex": [
       "$\\displaystyle \\left[\\begin{matrix}-1 & 5 & -3\\\\4 & -1 & 5\\\\3 & 4 & 2\\end{matrix}\\right]$"
      ],
      "text/plain": [
       "Matrix([\n",
       "[-1,  5, -3],\n",
       "[ 4, -1,  5],\n",
       "[ 3,  4,  2]])"
      ]
     },
     "metadata": {},
     "output_type": "display_data"
    },
    {
     "data": {
      "text/latex": [
       "$\\displaystyle \\left[\\begin{matrix}8\\\\-1\\\\5\\end{matrix}\\right]$"
      ],
      "text/plain": [
       "Matrix([\n",
       "[ 8],\n",
       "[-1],\n",
       "[ 5]])"
      ]
     },
     "metadata": {},
     "output_type": "display_data"
    },
    {
     "name": "stdout",
     "output_type": "stream",
     "text": [
      "Решение:\n"
     ]
    },
    {
     "data": {
      "text/latex": [
       "$\\displaystyle \\emptyset$"
      ],
      "text/plain": [
       "EmptySet"
      ]
     },
     "metadata": {},
     "output_type": "display_data"
    },
    {
     "name": "stdout",
     "output_type": "stream",
     "text": [
      "\n"
     ]
    }
   ],
   "source": [
    "p, q = symbols(\"p q\")\n",
    "Subs = [[5, 10], [2, 7], [2, 5]]\n",
    "print(\"РАСШИРЕННАЯ МАТРИЦА:\")\n",
    "Ab = Matrix([[-1, 5, -3, 8], [4, -1, 5, -1], [3, 4, p, q]])\n",
    "for i in Subs:\n",
    "    display(Ab.subs([(p, i[0]), (q, i[1])]))\n",
    "    print(\"Решение:\")\n",
    "    display(linsolve(Ab.subs([(p, i[0]), (q, i[1])])))\n",
    "    print()\n",
    "print(\"СПИСОК УРАВНЕНИЙ:\")\n",
    "x, y, z = symbols('x y z')\n",
    "System = [-x + 5*y - 3*z - 8, 4*x - y + 5*z + 1, 3*x + 4*y + p*z - q]\n",
    "for i in Subs:\n",
    "    display(*[j.subs([(p, i[0]), (q, i[1])]) for j in System])\n",
    "    print(\"Решение:\")\n",
    "    display(linsolve([j.subs([(p, i[0]), (q, i[1])]) for j in System], x, y, z))\n",
    "    print()\n",
    "print(\"МАТРИЧНЫЙ ВИД:\")\n",
    "A = Matrix([[-1, 5, -3], [4, -1, 5], [3, 4, p]])\n",
    "b = Matrix([8, -1, q])\n",
    "for i in Subs:\n",
    "    display(A.subs(p, i[0]), b.subs(q, i[1]))\n",
    "    print(\"Решение:\")\n",
    "    display(linsolve((A.subs(p, i[0]), b.subs(q, i[1]))))\n",
    "    print()"
   ]
  },
  {
   "cell_type": "markdown",
   "metadata": {
    "id": "sJLNktgn0GGO"
   },
   "source": [
    "### Задание 2.\n",
    "\n",
    "Решить СЛАУ с параметром $a$, представив их списком уравнений, а затем приведя к матричному виду с помощью linear_eq_to_matrix\n",
    "$$\n",
    "a)\\ \\left\\{\n",
    "\\begin{matrix}\n",
    "ax+5y-3z=8\\\\\n",
    "4x-y+5z=-1\\\\\n",
    "3x+4y+5z=10\n",
    "\\end{matrix}\n",
    "\\right., \\quad \n",
    "b)\\ \\left\\{\n",
    "\\begin{matrix}\n",
    "(a-1)x+5y-3z=8\\\\\n",
    "(4+a)x-y+5z=-1\\\\\n",
    "(3+2a)x+4y+2z=7\n",
    "\\end{matrix}\n",
    "\\right., \\quad \n",
    "c) \\left\\{\n",
    "\\begin{matrix}\n",
    "-x+5y-3z=8a\\\\\n",
    "4x-ay+5z=-a\\\\\n",
    "3x+4y+2z=5a\n",
    "\\end{matrix}\n",
    "\\right.\n",
    "$$\n",
    "Решить СЛАУ а) при $a=-82/25$, b) при $a=-19/6$, $-3.17$ и $-3.167$, c) при $a=1$.\n",
    "\n",
    "Проанализировать результаты. Для каждого случая (кроме случая несовместной СЛАУ) провести проверку подстановкой.\n",
    "\n",
    "При подстановке дробей пользоваться конструкцией вида $S(num)/den$, например,\n",
    "$S(2)/3$"
   ]
  },
  {
   "cell_type": "code",
   "execution_count": 3,
   "metadata": {
    "id": "aSNNtMhc0GGP"
   },
   "outputs": [
    {
     "name": "stdout",
     "output_type": "stream",
     "text": [
      "a)\n"
     ]
    },
    {
     "data": {
      "text/latex": [
       "$\\displaystyle a x + 5 y - 3 z = 8$"
      ],
      "text/plain": [
       "Eq(a*x + 5*y - 3*z, 8)"
      ]
     },
     "metadata": {},
     "output_type": "display_data"
    },
    {
     "data": {
      "text/latex": [
       "$\\displaystyle 4 x - y + 5 z = -1$"
      ],
      "text/plain": [
       "Eq(4*x - y + 5*z, -1)"
      ]
     },
     "metadata": {},
     "output_type": "display_data"
    },
    {
     "data": {
      "text/latex": [
       "$\\displaystyle 3 x + 4 y + 5 z = 10$"
      ],
      "text/plain": [
       "Eq(3*x + 4*y + 5*z, 10)"
      ]
     },
     "metadata": {},
     "output_type": "display_data"
    },
    {
     "data": {
      "text/latex": [
       "$\\displaystyle \\left[\\begin{matrix}a & 5 & -3\\\\4 & -1 & 5\\\\3 & 4 & 5\\end{matrix}\\right]$"
      ],
      "text/plain": [
       "Matrix([\n",
       "[a,  5, -3],\n",
       "[4, -1,  5],\n",
       "[3,  4,  5]])"
      ]
     },
     "metadata": {},
     "output_type": "display_data"
    },
    {
     "data": {
      "text/latex": [
       "$\\displaystyle \\left[\\begin{matrix}8\\\\-1\\\\10\\end{matrix}\\right]$"
      ],
      "text/plain": [
       "Matrix([\n",
       "[ 8],\n",
       "[-1],\n",
       "[10]])"
      ]
     },
     "metadata": {},
     "output_type": "display_data"
    },
    {
     "data": {
      "text/latex": [
       "$\\displaystyle \\left\\{\\left( - \\frac{57}{25 a + 82}, \\  \\frac{55 a + 169}{25 a + 82}, \\  \\frac{6 a + 63}{25 a + 82}\\right)\\right\\}$"
      ],
      "text/plain": [
       "{(-57/(25*a + 82), (55*a + 169)/(25*a + 82), (6*a + 63)/(25*a + 82))}"
      ]
     },
     "metadata": {},
     "output_type": "display_data"
    },
    {
     "name": "stdout",
     "output_type": "stream",
     "text": [
      "при a = -82/25\n"
     ]
    },
    {
     "data": {
      "text/latex": [
       "$\\displaystyle \\emptyset$"
      ],
      "text/plain": [
       "EmptySet"
      ]
     },
     "metadata": {},
     "output_type": "display_data"
    },
    {
     "name": "stdout",
     "output_type": "stream",
     "text": [
      "b)\n"
     ]
    },
    {
     "data": {
      "text/latex": [
       "$\\displaystyle x \\left(a - 1\\right) + 5 y - 3 z = 8$"
      ],
      "text/plain": [
       "Eq(x*(a - 1) + 5*y - 3*z, 8)"
      ]
     },
     "metadata": {},
     "output_type": "display_data"
    },
    {
     "data": {
      "text/latex": [
       "$\\displaystyle x \\left(a + 4\\right) - y + 5 z = -1$"
      ],
      "text/plain": [
       "Eq(x*(a + 4) - y + 5*z, -1)"
      ]
     },
     "metadata": {},
     "output_type": "display_data"
    },
    {
     "data": {
      "text/latex": [
       "$\\displaystyle x \\left(2 a + 3\\right) + 4 y + 2 z = 7$"
      ],
      "text/plain": [
       "Eq(x*(2*a + 3) + 4*y + 2*z, 7)"
      ]
     },
     "metadata": {},
     "output_type": "display_data"
    },
    {
     "data": {
      "text/latex": [
       "$\\displaystyle \\left[\\begin{matrix}a - 1 & 5 & -3\\\\a + 4 & -1 & 5\\\\2 a + 3 & 4 & 2\\end{matrix}\\right]$"
      ],
      "text/plain": [
       "Matrix([\n",
       "[  a - 1,  5, -3],\n",
       "[  a + 4, -1,  5],\n",
       "[2*a + 3,  4,  2]])"
      ]
     },
     "metadata": {},
     "output_type": "display_data"
    },
    {
     "data": {
      "text/latex": [
       "$\\displaystyle \\left[\\begin{matrix}8\\\\-1\\\\7\\end{matrix}\\right]$"
      ],
      "text/plain": [
       "Matrix([\n",
       "[ 8],\n",
       "[-1],\n",
       "[ 7]])"
      ]
     },
     "metadata": {},
     "output_type": "display_data"
    },
    {
     "data": {
      "text/latex": [
       "$\\displaystyle \\left\\{\\left( - \\frac{22 \\tau_{0}}{6 a + 19} + \\frac{3}{6 a + 19}, \\  \\frac{\\tau_{0} \\cdot \\left(8 a + 7\\right)}{6 a + 19} + \\frac{9 a + 31}{6 a + 19}, \\  \\tau_{0}\\right)\\right\\}$"
      ],
      "text/plain": [
       "{(-22*tau0/(6*a + 19) + 3/(6*a + 19), tau0*(8*a + 7)/(6*a + 19) + (9*a + 31)/(6*a + 19), tau0)}"
      ]
     },
     "metadata": {},
     "output_type": "display_data"
    },
    {
     "name": "stdout",
     "output_type": "stream",
     "text": [
      "при a = -19/6\n"
     ]
    },
    {
     "data": {
      "text/latex": [
       "$\\displaystyle \\left\\{\\left( - \\frac{342}{17}, \\  - \\frac{31}{17}, \\  \\frac{264}{17}\\right)\\right\\}$"
      ],
      "text/plain": [
       "{(-342/17, -31/17, 264/17)}"
      ]
     },
     "metadata": {},
     "output_type": "display_data"
    },
    {
     "name": "stdout",
     "output_type": "stream",
     "text": [
      "Проверка:\n"
     ]
    },
    {
     "data": {
      "text/latex": [
       "$\\displaystyle \\left[\\begin{matrix}0\\\\0\\\\0\\end{matrix}\\right]$"
      ],
      "text/plain": [
       "Matrix([\n",
       "[0],\n",
       "[0],\n",
       "[0]])"
      ]
     },
     "metadata": {},
     "output_type": "display_data"
    },
    {
     "name": "stdout",
     "output_type": "stream",
     "text": [
      "при a = -317/100\n"
     ]
    },
    {
     "data": {
      "text/latex": [
       "$\\displaystyle \\left\\{\\left( - \\frac{228}{11}, \\  - \\frac{107}{55}, \\  \\frac{4398}{275}\\right)\\right\\}$"
      ],
      "text/plain": [
       "{(-228/11, -107/55, 4398/275)}"
      ]
     },
     "metadata": {},
     "output_type": "display_data"
    },
    {
     "name": "stdout",
     "output_type": "stream",
     "text": [
      "Проверка:\n"
     ]
    },
    {
     "data": {
      "text/latex": [
       "$\\displaystyle \\left[\\begin{matrix}0\\\\0\\\\0\\end{matrix}\\right]$"
      ],
      "text/plain": [
       "Matrix([\n",
       "[0],\n",
       "[0],\n",
       "[0]])"
      ]
     },
     "metadata": {},
     "output_type": "display_data"
    },
    {
     "name": "stdout",
     "output_type": "stream",
     "text": [
      "при a = -3167/1000\n"
     ]
    },
    {
     "data": {
      "text/latex": [
       "$\\displaystyle \\left\\{\\left( - \\frac{2280}{113}, \\  - \\frac{1037}{565}, \\  \\frac{43998}{2825}\\right)\\right\\}$"
      ],
      "text/plain": [
       "{(-2280/113, -1037/565, 43998/2825)}"
      ]
     },
     "metadata": {},
     "output_type": "display_data"
    },
    {
     "name": "stdout",
     "output_type": "stream",
     "text": [
      "Проверка:\n"
     ]
    },
    {
     "data": {
      "text/latex": [
       "$\\displaystyle \\left[\\begin{matrix}0\\\\0\\\\0\\end{matrix}\\right]$"
      ],
      "text/plain": [
       "Matrix([\n",
       "[0],\n",
       "[0],\n",
       "[0]])"
      ]
     },
     "metadata": {},
     "output_type": "display_data"
    },
    {
     "name": "stdout",
     "output_type": "stream",
     "text": [
      "c)\n"
     ]
    },
    {
     "data": {
      "text/latex": [
       "$\\displaystyle - x + 5 y - 3 z = 8 a$"
      ],
      "text/plain": [
       "Eq(-x + 5*y - 3*z, 8*a)"
      ]
     },
     "metadata": {},
     "output_type": "display_data"
    },
    {
     "data": {
      "text/latex": [
       "$\\displaystyle - a y + 4 x + 5 z = - a$"
      ],
      "text/plain": [
       "Eq(-a*y + 4*x + 5*z, -a)"
      ]
     },
     "metadata": {},
     "output_type": "display_data"
    },
    {
     "data": {
      "text/latex": [
       "$\\displaystyle 3 x + 4 y + 2 z = 5 a$"
      ],
      "text/plain": [
       "Eq(3*x + 4*y + 2*z, 5*a)"
      ]
     },
     "metadata": {},
     "output_type": "display_data"
    },
    {
     "data": {
      "text/latex": [
       "$\\displaystyle \\left[\\begin{matrix}-1 & 5 & -3\\\\4 & - a & 5\\\\3 & 4 & 2\\end{matrix}\\right]$"
      ],
      "text/plain": [
       "Matrix([\n",
       "[-1,  5, -3],\n",
       "[ 4, -a,  5],\n",
       "[ 3,  4,  2]])"
      ]
     },
     "metadata": {},
     "output_type": "display_data"
    },
    {
     "data": {
      "text/latex": [
       "$\\displaystyle \\left[\\begin{matrix}8 a\\\\- a\\\\5 a\\end{matrix}\\right]$"
      ],
      "text/plain": [
       "Matrix([\n",
       "[8*a],\n",
       "[ -a],\n",
       "[5*a]])"
      ]
     },
     "metadata": {},
     "output_type": "display_data"
    },
    {
     "data": {
      "text/latex": [
       "$\\displaystyle \\left\\{\\left( \\frac{31 a^{2} + 13 a}{7 a - 7}, \\  - \\frac{2 a}{a - 1}, \\  \\frac{- 29 a^{2} - 9 a}{7 a - 7}\\right)\\right\\}$"
      ],
      "text/plain": [
       "{((31*a**2 + 13*a)/(7*a - 7), -2*a/(a - 1), (-29*a**2 - 9*a)/(7*a - 7))}"
      ]
     },
     "metadata": {},
     "output_type": "display_data"
    },
    {
     "name": "stdout",
     "output_type": "stream",
     "text": [
      "при a = 1\n"
     ]
    },
    {
     "data": {
      "text/latex": [
       "$\\displaystyle \\emptyset$"
      ],
      "text/plain": [
       "EmptySet"
      ]
     },
     "metadata": {},
     "output_type": "display_data"
    }
   ],
   "source": [
    "x, y, z, a = symbols('x y z a')\n",
    "System_a = [Eq(a*x + 5*y - 3*z,  8), Eq(4*x - y + 5*z, -1), Eq(3*x + 4*y + 5*z, 10)]\n",
    "System_b = [Eq((a-1)*x + 5*y - 3*z,  8), Eq((4+a)*x - y + 5*z, -1), Eq((3+2*a)*x + 4*y + 2*z, 7)]\n",
    "System_c= [Eq(-x + 5*y - 3*z,  8*a), Eq(4*x - a*y + 5*z, -a), Eq(3*x + 4*y + 2*z, 5*a)]\n",
    "A_a, b_a = linear_eq_to_matrix(System_a, [x, y, z])\n",
    "A_b, b_b = linear_eq_to_matrix(System_b, [x, y, z])\n",
    "A_c, b_c = linear_eq_to_matrix(System_c, [x, y, z])\n",
    "a_a = -S(82)/25\n",
    "a_b = [-S(19)/6, -S(317)/100, -S(3167)/1000] \n",
    "a_c = 1\n",
    "\n",
    "print(\"a)\")\n",
    "display(*System_a)\n",
    "display(A_a, b_a)\n",
    "display(linsolve((A_a, b_a)))\n",
    "print(f\"при a = {a_a}\")\n",
    "display(linsolve((A_a.subs(a, a_a), b_a)))\n",
    "\n",
    "print(\"b)\")\n",
    "display(*System_b)\n",
    "display(A_b, b_b)\n",
    "display(linsolve((A_b, b_b)))\n",
    "for i in a_b:\n",
    "    print(f\"при a = {i}\")\n",
    "    res = linsolve((A_a.subs(a, i), b_a))\n",
    "    display(res)\n",
    "    print('Проверка:')\n",
    "    display(simplify(A_a.subs(a, i)*Matrix(*res)-b_a))\n",
    "\n",
    "print(\"c)\")\n",
    "display(*System_c)\n",
    "display(A_c, b_c)\n",
    "display(linsolve((A_c, b_c)))\n",
    "print(f\"при a = {a_c}\")\n",
    "display(linsolve((A_c.subs(a, a_c), b_c.subs(a, a_c))))"
   ]
  },
  {
   "cell_type": "markdown",
   "metadata": {
    "id": "m8SPA6yz0GGP"
   },
   "source": [
    "### Задание 3\n",
    "В расширенной матрице СЛАУ из Задания 1 а) \n",
    "\n",
    "1) выделить матрицу левой части\n",
    "\n",
    "2) выделить столбец правой части\n",
    "\n",
    "3) транспонировать матрицу, полученную в 1)\n",
    "\n",
    "4) получить расширенную матрицу из матрицы 3) и столбца 2)\n",
    "\n",
    "5) создать на основе лямбда-функции матрицу $3\\times 4$ из расположенных в шахматном порядке чисел 1 и $-1$."
   ]
  },
  {
   "cell_type": "code",
   "execution_count": 4,
   "metadata": {
    "id": "kLp-wnly0GGQ"
   },
   "outputs": [
    {
     "data": {
      "text/latex": [
       "$\\displaystyle \\left[\\begin{matrix}-1 & 5 & -3 & 8\\\\4 & -1 & 5 & -1\\\\3 & 4 & 5 & 10\\end{matrix}\\right]$"
      ],
      "text/plain": [
       "Matrix([\n",
       "[-1,  5, -3,  8],\n",
       "[ 4, -1,  5, -1],\n",
       "[ 3,  4,  5, 10]])"
      ]
     },
     "metadata": {},
     "output_type": "display_data"
    },
    {
     "name": "stdout",
     "output_type": "stream",
     "text": [
      "1) матрица левой части\n"
     ]
    },
    {
     "data": {
      "text/latex": [
       "$\\displaystyle \\left[\\begin{matrix}-1 & 5 & -3\\\\4 & -1 & 5\\\\3 & 4 & 5\\end{matrix}\\right]$"
      ],
      "text/plain": [
       "Matrix([\n",
       "[-1,  5, -3],\n",
       "[ 4, -1,  5],\n",
       "[ 3,  4,  5]])"
      ]
     },
     "metadata": {},
     "output_type": "display_data"
    },
    {
     "name": "stdout",
     "output_type": "stream",
     "text": [
      "2) столбец правой части\n"
     ]
    },
    {
     "data": {
      "text/latex": [
       "$\\displaystyle \\left[\\begin{matrix}8\\\\-1\\\\10\\end{matrix}\\right]$"
      ],
      "text/plain": [
       "Matrix([\n",
       "[ 8],\n",
       "[-1],\n",
       "[10]])"
      ]
     },
     "metadata": {},
     "output_type": "display_data"
    },
    {
     "name": "stdout",
     "output_type": "stream",
     "text": [
      "3) транспонированная матрица\n"
     ]
    },
    {
     "data": {
      "text/latex": [
       "$\\displaystyle \\left[\\begin{matrix}-1 & 4 & 3\\\\5 & -1 & 4\\\\-3 & 5 & 5\\end{matrix}\\right]$"
      ],
      "text/plain": [
       "Matrix([\n",
       "[-1,  4, 3],\n",
       "[ 5, -1, 4],\n",
       "[-3,  5, 5]])"
      ]
     },
     "metadata": {},
     "output_type": "display_data"
    },
    {
     "name": "stdout",
     "output_type": "stream",
     "text": [
      "4) расширенная матрица\n"
     ]
    },
    {
     "data": {
      "text/latex": [
       "$\\displaystyle \\left[\\begin{matrix}-1 & 4 & 3 & 8\\\\5 & -1 & 4 & -1\\\\-3 & 5 & 5 & 10\\end{matrix}\\right]$"
      ],
      "text/plain": [
       "Matrix([\n",
       "[-1,  4, 3,  8],\n",
       "[ 5, -1, 4, -1],\n",
       "[-3,  5, 5, 10]])"
      ]
     },
     "metadata": {},
     "output_type": "display_data"
    },
    {
     "name": "stdout",
     "output_type": "stream",
     "text": [
      "5)\n"
     ]
    },
    {
     "data": {
      "text/latex": [
       "$\\displaystyle \\left[\\begin{matrix}1 & -1 & 1 & -1\\\\-1 & 1 & -1 & 1\\\\1 & -1 & 1 & -1\\end{matrix}\\right]$"
      ],
      "text/plain": [
       "Matrix([\n",
       "[ 1, -1,  1, -1],\n",
       "[-1,  1, -1,  1],\n",
       "[ 1, -1,  1, -1]])"
      ]
     },
     "metadata": {},
     "output_type": "display_data"
    }
   ],
   "source": [
    "Ab = Matrix([[-1, 5, -3, 8], [4, -1, 5, -1], [3, 4, 5, 10]])\n",
    "display(Ab)\n",
    "print(\"1) матрица левой части\")\n",
    "A = Ab[:, 0:(Ab.shape[1]-1)]\n",
    "display(A)\n",
    "print(\"2) столбец правой части\")\n",
    "b = Ab[:, Ab.shape[1]-1]\n",
    "display(b)\n",
    "print(\"3) транспонированная матрица\")\n",
    "A_T = A.transpose()\n",
    "display(A_T)\n",
    "print(\"4) расширенная матрица\")\n",
    "A_Tb = A_T.row_join(b)\n",
    "display(A_Tb)\n",
    "print(\"5)\")\n",
    "M = Matrix(3, 4, lambda i, j: (-1) ** (i+j))\n",
    "display(M)"
   ]
  },
  {
   "cell_type": "markdown",
   "metadata": {
    "id": "PtPxOU3a0GGR"
   },
   "source": [
    "### Индивидуальное задание.\n",
    "Решить СЛАУ c параметром тремя способами. Вначале составить список уравнений и решить вторым способом, затем список уравнений преобразовать в матричный вид и решить третьим способом. Затем составить из матрицы левой части и столбца правой расширенную матрицу СЛАУ и решить первым способом. После этого провести проверку подстановкой.\n",
    "\n",
    "\\begin{align*}\n",
    " A = \\left[\\begin{matrix}4 & -2 & -5 & 0\\\\-7 & 0 & 9 & 6\\\\\\beta & 0 & -3 & 2\\\\11 & -2 & -14 & -6\\end{matrix}\\right],\n",
    "\\qquad b = \\left[\\begin{matrix}-25\\\\74\\\\14\\\\-99\\end{matrix}\\right]. \n",
    " \\end{align*}\n",
    "\n",
    "Затем отдельно рассмотреть значение параметра, при котором решение СЛАУ нельзя получить по общей формуле, полученной ранее.\n",
    "Найти решение СЛАУ при этом значении параметра первым или третьим способом, используя подстановку subs."
   ]
  },
  {
   "cell_type": "code",
   "execution_count": 5,
   "metadata": {
    "id": "FurJsbH00GGR",
    "scrolled": true
   },
   "outputs": [
    {
     "name": "stdout",
     "output_type": "stream",
     "text": [
      "Решение через систему уравнений\n"
     ]
    },
    {
     "data": {
      "text/latex": [
       "$\\displaystyle 4 x - 2 y - 5 z = -25$"
      ],
      "text/plain": [
       "Eq(4*x - 2*y - 5*z, -25)"
      ]
     },
     "metadata": {},
     "output_type": "display_data"
    },
    {
     "data": {
      "text/latex": [
       "$\\displaystyle 6 t - 7 x + 9 z = 74$"
      ],
      "text/plain": [
       "Eq(6*t - 7*x + 9*z, 74)"
      ]
     },
     "metadata": {},
     "output_type": "display_data"
    },
    {
     "data": {
      "text/latex": [
       "$\\displaystyle \\beta x + 2 t - 3 z = 14$"
      ],
      "text/plain": [
       "Eq(\\beta*x + 2*t - 3*z, 14)"
      ]
     },
     "metadata": {},
     "output_type": "display_data"
    },
    {
     "data": {
      "text/latex": [
       "$\\displaystyle - 6 t + 11 x - 2 y - 14 z = -99$"
      ],
      "text/plain": [
       "Eq(-6*t + 11*x - 2*y - 14*z, -99)"
      ]
     },
     "metadata": {},
     "output_type": "display_data"
    },
    {
     "data": {
      "text/latex": [
       "$\\displaystyle \\left\\{\\left( - \\frac{12 t}{3 \\beta - 7} + \\frac{116}{3 \\beta - 7}, \\  \\frac{t \\left(15 \\beta - 37\\right)}{9 \\beta - 21} + \\frac{377 - 145 \\beta}{18 \\beta - 42}, \\  \\frac{t \\left(- 6 \\beta - 14\\right)}{9 \\beta - 21} + \\frac{74 \\beta + 98}{9 \\beta - 21}, \\  t\\right)\\right\\}$"
      ],
      "text/plain": [
       "{(-12*t/(3*\\beta - 7) + 116/(3*\\beta - 7), t*(15*\\beta - 37)/(9*\\beta - 21) + (377 - 145*\\beta)/(18*\\beta - 42), t*(-6*\\beta - 14)/(9*\\beta - 21) + (74*\\beta + 98)/(9*\\beta - 21), t)}"
      ]
     },
     "metadata": {},
     "output_type": "display_data"
    },
    {
     "name": "stdout",
     "output_type": "stream",
     "text": [
      "Решение через матрицы левой части и правого столбца\n"
     ]
    },
    {
     "data": {
      "text/latex": [
       "$\\displaystyle \\left[\\begin{matrix}4 & -2 & -5 & 0\\\\-7 & 0 & 9 & 6\\\\\\beta & 0 & -3 & 2\\\\11 & -2 & -14 & -6\\end{matrix}\\right]$"
      ],
      "text/plain": [
       "Matrix([\n",
       "[    4, -2,  -5,  0],\n",
       "[   -7,  0,   9,  6],\n",
       "[\\beta,  0,  -3,  2],\n",
       "[   11, -2, -14, -6]])"
      ]
     },
     "metadata": {},
     "output_type": "display_data"
    },
    {
     "data": {
      "text/latex": [
       "$\\displaystyle \\left[\\begin{matrix}-25\\\\74\\\\14\\\\-99\\end{matrix}\\right]$"
      ],
      "text/plain": [
       "Matrix([\n",
       "[-25],\n",
       "[ 74],\n",
       "[ 14],\n",
       "[-99]])"
      ]
     },
     "metadata": {},
     "output_type": "display_data"
    },
    {
     "data": {
      "text/latex": [
       "$\\displaystyle \\left\\{\\left( - \\frac{12 \\tau_{0}}{3 \\beta - 7} + \\frac{116}{3 \\beta - 7}, \\  \\frac{\\tau_{0} \\cdot \\left(15 \\beta - 37\\right)}{9 \\beta - 21} + \\frac{377 - 145 \\beta}{18 \\beta - 42}, \\  \\frac{\\tau_{0} \\left(- 6 \\beta - 14\\right)}{9 \\beta - 21} + \\frac{74 \\beta + 98}{9 \\beta - 21}, \\  \\tau_{0}\\right)\\right\\}$"
      ],
      "text/plain": [
       "{(-12*tau0/(3*\\beta - 7) + 116/(3*\\beta - 7), tau0*(15*\\beta - 37)/(9*\\beta - 21) + (377 - 145*\\beta)/(18*\\beta - 42), tau0*(-6*\\beta - 14)/(9*\\beta - 21) + (74*\\beta + 98)/(9*\\beta - 21), tau0)}"
      ]
     },
     "metadata": {},
     "output_type": "display_data"
    },
    {
     "name": "stdout",
     "output_type": "stream",
     "text": [
      "Решение через расширенную матрицу\n"
     ]
    },
    {
     "data": {
      "text/latex": [
       "$\\displaystyle \\left[\\begin{matrix}4 & -2 & -5 & 0 & -25\\\\-7 & 0 & 9 & 6 & 74\\\\\\beta & 0 & -3 & 2 & 14\\\\11 & -2 & -14 & -6 & -99\\end{matrix}\\right]$"
      ],
      "text/plain": [
       "Matrix([\n",
       "[    4, -2,  -5,  0, -25],\n",
       "[   -7,  0,   9,  6,  74],\n",
       "[\\beta,  0,  -3,  2,  14],\n",
       "[   11, -2, -14, -6, -99]])"
      ]
     },
     "metadata": {},
     "output_type": "display_data"
    },
    {
     "data": {
      "text/latex": [
       "$\\displaystyle \\left\\{\\left( - \\frac{12 \\tau_{0}}{3 \\beta - 7} + \\frac{116}{3 \\beta - 7}, \\  \\frac{\\tau_{0} \\cdot \\left(15 \\beta - 37\\right)}{9 \\beta - 21} + \\frac{377 - 145 \\beta}{18 \\beta - 42}, \\  \\frac{\\tau_{0} \\left(- 6 \\beta - 14\\right)}{9 \\beta - 21} + \\frac{74 \\beta + 98}{9 \\beta - 21}, \\  \\tau_{0}\\right)\\right\\}$"
      ],
      "text/plain": [
       "{(-12*tau0/(3*\\beta - 7) + 116/(3*\\beta - 7), tau0*(15*\\beta - 37)/(9*\\beta - 21) + (377 - 145*\\beta)/(18*\\beta - 42), tau0*(-6*\\beta - 14)/(9*\\beta - 21) + (74*\\beta + 98)/(9*\\beta - 21), tau0)}"
      ]
     },
     "metadata": {},
     "output_type": "display_data"
    },
    {
     "name": "stdout",
     "output_type": "stream",
     "text": [
      "Проверка:\n"
     ]
    },
    {
     "data": {
      "text/latex": [
       "$\\displaystyle \\left[\\begin{matrix}0\\\\0\\\\0\\\\0\\end{matrix}\\right]$"
      ],
      "text/plain": [
       "Matrix([\n",
       "[0],\n",
       "[0],\n",
       "[0],\n",
       "[0]])"
      ]
     },
     "metadata": {},
     "output_type": "display_data"
    },
    {
     "name": "stdout",
     "output_type": "stream",
     "text": [
      "Данные решения верны для всех значений, кроме\n"
     ]
    },
    {
     "data": {
      "text/latex": [
       "$\\displaystyle \\beta = \\frac{7}{3}$"
      ],
      "text/plain": [
       "Eq(\\beta, 7/3)"
      ]
     },
     "metadata": {},
     "output_type": "display_data"
    },
    {
     "name": "stdout",
     "output_type": "stream",
     "text": [
      "Рассмотрим его отдельно.\n"
     ]
    },
    {
     "data": {
      "text/latex": [
       "$\\displaystyle \\left[\\begin{matrix}4 & -2 & -5 & 0 & -25\\\\-7 & 0 & 9 & 6 & 74\\\\\\frac{7}{3} & 0 & -3 & 2 & 14\\\\11 & -2 & -14 & -6 & -99\\end{matrix}\\right]$"
      ],
      "text/plain": [
       "Matrix([\n",
       "[  4, -2,  -5,  0, -25],\n",
       "[ -7,  0,   9,  6,  74],\n",
       "[7/3,  0,  -3,  2,  14],\n",
       "[ 11, -2, -14, -6, -99]])"
      ]
     },
     "metadata": {},
     "output_type": "display_data"
    },
    {
     "data": {
      "text/latex": [
       "$\\displaystyle \\left\\{\\left( \\frac{9 \\tau_{0}}{7} - \\frac{16}{7}, \\  \\frac{\\tau_{0}}{14} + \\frac{111}{14}, \\  \\tau_{0}, \\  \\frac{29}{3}\\right)\\right\\}$"
      ],
      "text/plain": [
       "{(9*tau0/7 - 16/7, tau0/14 + 111/14, tau0, 29/3)}"
      ]
     },
     "metadata": {},
     "output_type": "display_data"
    }
   ],
   "source": [
    "x, y, z, t = symbols(\"x y z t\")\n",
    "beta = Symbol(\"\\\\beta\")\n",
    "print(\"Решение через систему уравнений\")\n",
    "System = [Eq(4*x - 2*y - 5*z + 0*t, -25), Eq(-7*x + 0*y + 9*z + 6*t, 74), Eq(beta*x + 0*y - 3*z + 2*t, 14), Eq(11*x - 2*y - 14*z - 6*t, -99)]\n",
    "display(*System)\n",
    "res1 = simplify(linsolve(System, x, y, z, t))\n",
    "display(res1)\n",
    "print(\"Решение через матрицы левой части и правого столбца\")\n",
    "A, b = linear_eq_to_matrix(System, [x, y, z, t])\n",
    "display(A,b)\n",
    "res2 = linsolve((A, b))\n",
    "display(res2)\n",
    "print(\"Решение через расширенную матрицу\")\n",
    "Ab = A.row_join(b)\n",
    "display(Ab)\n",
    "res3 = linsolve(Ab)\n",
    "display(res3)\n",
    "print('Проверка:')\n",
    "display(simplify(A*Matrix(*res3)-b))\n",
    "\n",
    "print('Данные решения верны для всех значений, кроме')\n",
    "display(Eq(beta, S(7)/3))\n",
    "print('Рассмотрим его отдельно.')\n",
    "Ab_1 = Ab.subs(beta, S(7)/3)\n",
    "display(Ab_1)\n",
    "res4 = (linsolve(Ab_1))\n",
    "display(res4)"
   ]
  }
 ],
 "metadata": {
  "colab": {
   "collapsed_sections": [],
   "provenance": []
  },
  "kernelspec": {
   "display_name": "Python 3 (ipykernel)",
   "language": "python",
   "name": "python3"
  },
  "language_info": {
   "codemirror_mode": {
    "name": "ipython",
    "version": 3
   },
   "file_extension": ".py",
   "mimetype": "text/x-python",
   "name": "python",
   "nbconvert_exporter": "python",
   "pygments_lexer": "ipython3",
   "version": "3.9.13"
  }
 },
 "nbformat": 4,
 "nbformat_minor": 1
}
