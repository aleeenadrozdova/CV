{
 "cells": [
  {
   "cell_type": "markdown",
   "metadata": {
    "id": "B600zaglO8R5"
   },
   "source": [
    "## Занятие 4\n",
    "## Компьютерный практикум по алгебре на Python\n",
    "## Фундаментальная система решений однородной СЛАУ"
   ]
  },
  {
   "cell_type": "markdown",
   "metadata": {
    "id": "z-MBGjqlO8R-"
   },
   "source": [
    "https://docs.sympy.org/latest/modules"
   ]
  },
  {
   "cell_type": "code",
   "execution_count": 1,
   "metadata": {
    "id": "mbuIM2VjO8SA"
   },
   "outputs": [],
   "source": [
    "from sympy import linsolve, Matrix, S, Symbol, symbols, Eq, linear_eq_to_matrix, simplify, zeros, latex\n",
    "from IPython.display import Latex"
   ]
  },
  {
   "cell_type": "markdown",
   "metadata": {
    "id": "MCakxRL6O8SC"
   },
   "source": [
    "### Задание 1.\n",
    "Проверить по теореме Кронекера-Капелли совместность СЛАУ $AX = b$, если\n",
    "\\begin{align*}\n",
    "a)\\ A = \\left(\n",
    "\\begin{matrix}\n",
    "-1 & -3 & 5 & 2\\\\\n",
    "2 & -1 & 4 & 7\\\\\n",
    "3 & 4 & -1 & 0\\\\\n",
    "5 & 0 & 1 & -3\n",
    "\\end{matrix}\n",
    "\\right), \\quad \n",
    "b = \\left(\n",
    "\\begin{matrix}\n",
    "14\\\\ 56\\\\ 5\\\\ -6\n",
    "\\end{matrix}\n",
    "\\right), \\quad \n",
    "b)\\ A = \\left(\n",
    "\\begin{matrix}\n",
    "1 & 3 & 5 & 2\\\\\n",
    "2 & -1 & 4 & 1\\\\\n",
    "3 & 4 & -1 & 0\\\\\n",
    "5 & 3 & 3 & 1\n",
    "\\end{matrix}\n",
    "\\right), \\quad \n",
    "b = \\left(\n",
    "\\begin{matrix}\n",
    "24\\\\ 20\\\\ 5\\\\ 5\n",
    "\\end{matrix}\n",
    "\\right), \\quad \n",
    "c)\\ A = \\left(\n",
    "\\begin{matrix}\n",
    "1 & 3 & 5 & 2\\\\\n",
    "2 & -1 & 4 & 1\\\\\n",
    "3 & 2 & 9 & 3\\\\\n",
    "1 & -4 & -1 & -1\n",
    "\\end{matrix}\n",
    "\\right), \\quad \n",
    "b = \\left(\n",
    "\\begin{matrix}\n",
    "24\\\\ 20\\\\ 44\\\\ -4\n",
    "\\end{matrix}\n",
    "\\right)\n",
    "\\end{align*}"
   ]
  },
  {
   "cell_type": "code",
   "execution_count": 2,
   "metadata": {
    "colab": {
     "base_uri": "https://localhost:8080/",
     "height": 730
    },
    "id": "MRp9NWkdce6K",
    "outputId": "1e5dca51-9d6a-4b11-fcc5-a9ef80ed52b2"
   },
   "outputs": [
    {
     "name": "stdout",
     "output_type": "stream",
     "text": [
      "a)\n"
     ]
    },
    {
     "data": {
      "text/latex": [
       "$\\displaystyle \\left[\\begin{matrix}-1 & -3 & 5 & 2\\\\2 & -1 & 4 & 7\\\\3 & 4 & -1 & 0\\\\5 & 0 & 1 & -3\\end{matrix}\\right]$"
      ],
      "text/plain": [
       "Matrix([\n",
       "[-1, -3,  5,  2],\n",
       "[ 2, -1,  4,  7],\n",
       "[ 3,  4, -1,  0],\n",
       "[ 5,  0,  1, -3]])"
      ]
     },
     "metadata": {},
     "output_type": "display_data"
    },
    {
     "data": {
      "text/latex": [
       "$\\displaystyle \\left[\\begin{matrix}14\\\\56\\\\5\\\\-6\\end{matrix}\\right]$"
      ],
      "text/plain": [
       "Matrix([\n",
       "[14],\n",
       "[56],\n",
       "[ 5],\n",
       "[-6]])"
      ]
     },
     "metadata": {},
     "output_type": "display_data"
    },
    {
     "name": "stdout",
     "output_type": "stream",
     "text": [
      "rg(A) = rg(Ab) = 4\n",
      "Значит, система совместна\n",
      "\n",
      "b)\n"
     ]
    },
    {
     "data": {
      "text/latex": [
       "$\\displaystyle \\left[\\begin{matrix}1 & 3 & 5 & 2\\\\2 & -1 & 4 & 1\\\\3 & 4 & -1 & 0\\\\5 & 3 & 3 & 1\\end{matrix}\\right]$"
      ],
      "text/plain": [
       "Matrix([\n",
       "[1,  3,  5, 2],\n",
       "[2, -1,  4, 1],\n",
       "[3,  4, -1, 0],\n",
       "[5,  3,  3, 1]])"
      ]
     },
     "metadata": {},
     "output_type": "display_data"
    },
    {
     "data": {
      "text/latex": [
       "$\\displaystyle \\left[\\begin{matrix}24\\\\20\\\\5\\\\5\\end{matrix}\\right]$"
      ],
      "text/plain": [
       "Matrix([\n",
       "[24],\n",
       "[20],\n",
       "[ 5],\n",
       "[ 5]])"
      ]
     },
     "metadata": {},
     "output_type": "display_data"
    },
    {
     "name": "stdout",
     "output_type": "stream",
     "text": [
      "rg(A) = 3\n",
      "rg(Ab) = 4\n",
      "Значит, система не совместна\n",
      "\n",
      "c)\n"
     ]
    },
    {
     "data": {
      "text/latex": [
       "$\\displaystyle \\left[\\begin{matrix}1 & 3 & 5 & 2\\\\2 & -1 & 4 & 1\\\\3 & 2 & 9 & 3\\\\1 & -4 & -1 & -1\\end{matrix}\\right]$"
      ],
      "text/plain": [
       "Matrix([\n",
       "[1,  3,  5,  2],\n",
       "[2, -1,  4,  1],\n",
       "[3,  2,  9,  3],\n",
       "[1, -4, -1, -1]])"
      ]
     },
     "metadata": {},
     "output_type": "display_data"
    },
    {
     "data": {
      "text/latex": [
       "$\\displaystyle \\left[\\begin{matrix}24\\\\20\\\\44\\\\-4\\end{matrix}\\right]$"
      ],
      "text/plain": [
       "Matrix([\n",
       "[24],\n",
       "[20],\n",
       "[44],\n",
       "[-4]])"
      ]
     },
     "metadata": {},
     "output_type": "display_data"
    },
    {
     "name": "stdout",
     "output_type": "stream",
     "text": [
      "rg(A) = rg(Ab) = 2\n",
      "Значит, система совместна\n",
      "\n"
     ]
    }
   ],
   "source": [
    "def KK (A, b):\n",
    "    Ab = A.row_join(b);\n",
    "    display(A, b)\n",
    "    if (A.rank() == Ab.rank()):\n",
    "        print(f'rg(A) = rg(Ab) = {A.rank()}\\nЗначит, система совместна')\n",
    "    else:\n",
    "        print(f'rg(A) = {A.rank()}\\nrg(Ab) = {Ab.rank()}\\nЗначит, система не совместна')\n",
    "    print()\n",
    "num = [\"a)\", \"b)\", \"c)\"]\n",
    "A = [Matrix([[-1, -3, 5, 2],\n",
    "           [2, -1, 4, 7],\n",
    "           [3, 4, -1, 0],\n",
    "           [5, 0, 1, -3]]),\n",
    "     Matrix([[1, 3, 5, 2],\n",
    "           [2, -1, 4, 1],\n",
    "           [3, 4, -1, 0],\n",
    "           [5, 3, 3, 1]]),\n",
    "     Matrix([[1, 3, 5, 2],\n",
    "           [2, -1, 4, 1],\n",
    "           [3, 2, 9, 3],\n",
    "           [1, -4, -1, -1]])]\n",
    "b = [Matrix([14, 56, 5, -6]),\n",
    "     Matrix([24, 20, 5, 5]),\n",
    "     Matrix([24, 20, 44, -4])]\n",
    "for i in range(len(A)):\n",
    "    print(num[i])\n",
    "    KK(A[i], b[i])"
   ]
  },
  {
   "cell_type": "markdown",
   "metadata": {
    "id": "F3lXkJ3oO8SM"
   },
   "source": [
    "### Задание 2.\n",
    "\n",
    "Проверить единственность решения в совместных СЛАУ Задания 1."
   ]
  },
  {
   "cell_type": "code",
   "execution_count": 3,
   "metadata": {
    "colab": {
     "base_uri": "https://localhost:8080/",
     "height": 498
    },
    "id": "4CR_p8oGchk6",
    "outputId": "63b4f103-7edc-4407-ecb4-bd9a66303445"
   },
   "outputs": [
    {
     "name": "stdout",
     "output_type": "stream",
     "text": [
      "a)\n"
     ]
    },
    {
     "data": {
      "text/latex": [
       "$\\displaystyle \\left[\\begin{matrix}-1 & -3 & 5 & 2\\\\2 & -1 & 4 & 7\\\\3 & 4 & -1 & 0\\\\5 & 0 & 1 & -3\\end{matrix}\\right]$"
      ],
      "text/plain": [
       "Matrix([\n",
       "[-1, -3,  5,  2],\n",
       "[ 2, -1,  4,  7],\n",
       "[ 3,  4, -1,  0],\n",
       "[ 5,  0,  1, -3]])"
      ]
     },
     "metadata": {},
     "output_type": "display_data"
    },
    {
     "data": {
      "text/latex": [
       "$\\displaystyle \\left[\\begin{matrix}14\\\\56\\\\5\\\\-6\\end{matrix}\\right]$"
      ],
      "text/plain": [
       "Matrix([\n",
       "[14],\n",
       "[56],\n",
       "[ 5],\n",
       "[-6]])"
      ]
     },
     "metadata": {},
     "output_type": "display_data"
    },
    {
     "name": "stdout",
     "output_type": "stream",
     "text": [
      "rg(A) = rg(Ab) = n = 4\n",
      "Значит, система имеет единственное решение\n",
      "\n",
      "c)\n"
     ]
    },
    {
     "data": {
      "text/latex": [
       "$\\displaystyle \\left[\\begin{matrix}1 & 3 & 5 & 2\\\\2 & -1 & 4 & 1\\\\3 & 2 & 9 & 3\\\\1 & -4 & -1 & -1\\end{matrix}\\right]$"
      ],
      "text/plain": [
       "Matrix([\n",
       "[1,  3,  5,  2],\n",
       "[2, -1,  4,  1],\n",
       "[3,  2,  9,  3],\n",
       "[1, -4, -1, -1]])"
      ]
     },
     "metadata": {},
     "output_type": "display_data"
    },
    {
     "data": {
      "text/latex": [
       "$\\displaystyle \\left[\\begin{matrix}24\\\\20\\\\44\\\\-4\\end{matrix}\\right]$"
      ],
      "text/plain": [
       "Matrix([\n",
       "[24],\n",
       "[20],\n",
       "[44],\n",
       "[-4]])"
      ]
     },
     "metadata": {},
     "output_type": "display_data"
    },
    {
     "name": "stdout",
     "output_type": "stream",
     "text": [
      "rg(A) = rg(Ab) = 2\n",
      "n = 4\n",
      "Значит, система имеет не единственное решение\n",
      "\n"
     ]
    }
   ],
   "source": [
    "def single_solution (A, b):\n",
    "    display(A, b)\n",
    "    if (A.rank() == A.shape[1]):\n",
    "        print(f'rg(A) = rg(Ab) = n = {A.rank()}\\nЗначит, система имеет единственное решение')\n",
    "    else:\n",
    "        print(f'rg(A) = rg(Ab) = {A.rank()}\\nn = {A.shape[1]}\\nЗначит, система имеет не единственное решение')\n",
    "    print()\n",
    "num = [\"a)\", \"c)\"]\n",
    "A = [Matrix([[-1, -3, 5, 2],\n",
    "           [2, -1, 4, 7],\n",
    "           [3, 4, -1, 0],\n",
    "           [5, 0, 1, -3]]),\n",
    "     Matrix([[1, 3, 5, 2],\n",
    "           [2, -1, 4, 1],\n",
    "           [3, 2, 9, 3],\n",
    "           [1, -4, -1, -1]])]\n",
    "b = [Matrix([14, 56, 5, -6]),\n",
    "     Matrix([24, 20, 44, -4])]\n",
    "for i in range(len(A)):\n",
    "    print(num[i])\n",
    "    single_solution(A[i], b[i])"
   ]
  },
  {
   "cell_type": "markdown",
   "metadata": {
    "id": "cHZhM0_jO8SO"
   },
   "source": [
    "### Задание 3\n",
    "Для однородных СЛАУ, соответствующих СЛАУ из Задания 1 установить, есть ли у однородной СЛАУ нетривиальное решение. "
   ]
  },
  {
   "cell_type": "code",
   "execution_count": 4,
   "metadata": {
    "colab": {
     "base_uri": "https://localhost:8080/",
     "height": 556
    },
    "id": "2A24s3zfcjFm",
    "outputId": "738b0f7e-c29d-4414-86bb-a1100482d891"
   },
   "outputs": [
    {
     "name": "stdout",
     "output_type": "stream",
     "text": [
      "a)\n"
     ]
    },
    {
     "data": {
      "text/latex": [
       "$\\displaystyle \\left[\\begin{matrix}-1 & -3 & 5 & 2\\\\2 & -1 & 4 & 7\\\\3 & 4 & -1 & 0\\\\5 & 0 & 1 & -3\\end{matrix}\\right]$"
      ],
      "text/plain": [
       "Matrix([\n",
       "[-1, -3,  5,  2],\n",
       "[ 2, -1,  4,  7],\n",
       "[ 3,  4, -1,  0],\n",
       "[ 5,  0,  1, -3]])"
      ]
     },
     "metadata": {},
     "output_type": "display_data"
    },
    {
     "name": "stdout",
     "output_type": "stream",
     "text": [
      "rg(A) = 4\n",
      "n=4\n",
      "Значит, система не имеет нетривиальное решение\n",
      "\n",
      "b)\n"
     ]
    },
    {
     "data": {
      "text/latex": [
       "$\\displaystyle \\left[\\begin{matrix}1 & 3 & 5 & 2\\\\2 & -1 & 4 & 1\\\\3 & 4 & -1 & 0\\\\5 & 3 & 3 & 1\\end{matrix}\\right]$"
      ],
      "text/plain": [
       "Matrix([\n",
       "[1,  3,  5, 2],\n",
       "[2, -1,  4, 1],\n",
       "[3,  4, -1, 0],\n",
       "[5,  3,  3, 1]])"
      ]
     },
     "metadata": {},
     "output_type": "display_data"
    },
    {
     "name": "stdout",
     "output_type": "stream",
     "text": [
      "rg(A) = 3\n",
      "n=4\n",
      "rg(A) < n\n",
      "Значит, система имеет нетривиальное решение\n",
      "\n",
      "c)\n"
     ]
    },
    {
     "data": {
      "text/latex": [
       "$\\displaystyle \\left[\\begin{matrix}1 & 3 & 5 & 2\\\\2 & -1 & 4 & 1\\\\3 & 2 & 9 & 3\\\\1 & -4 & -1 & -1\\end{matrix}\\right]$"
      ],
      "text/plain": [
       "Matrix([\n",
       "[1,  3,  5,  2],\n",
       "[2, -1,  4,  1],\n",
       "[3,  2,  9,  3],\n",
       "[1, -4, -1, -1]])"
      ]
     },
     "metadata": {},
     "output_type": "display_data"
    },
    {
     "name": "stdout",
     "output_type": "stream",
     "text": [
      "rg(A) = 2\n",
      "n=4\n",
      "rg(A) < n\n",
      "Значит, система имеет нетривиальное решение\n",
      "\n"
     ]
    }
   ],
   "source": [
    "def not_trivial_solution (A):\n",
    "    display(A)\n",
    "    if (A.rank() < A.shape[1]):\n",
    "        print(f'rg(A) = {A.rank()}\\nn={A.shape[1]}\\nrg(A) < n\\nЗначит, система имеет нетривиальное решение')\n",
    "    else:\n",
    "        print(f'rg(A) = {A.rank()}\\nn={A.shape[1]}\\nЗначит, система не имеет нетривиальное решение')\n",
    "    print()\n",
    "num = [\"a)\", \"b)\", \"c)\"]\n",
    "A = [Matrix([[-1, -3, 5, 2],\n",
    "           [2, -1, 4, 7],\n",
    "           [3, 4, -1, 0],\n",
    "           [5, 0, 1, -3]]),\n",
    "     Matrix([[1, 3, 5, 2],\n",
    "           [2, -1, 4, 1],\n",
    "           [3, 4, -1, 0],\n",
    "           [5, 3, 3, 1]]),\n",
    "     Matrix([[1, 3, 5, 2],\n",
    "           [2, -1, 4, 1],\n",
    "           [3, 2, 9, 3],\n",
    "           [1, -4, -1, -1]])]\n",
    "for i in range(len(A)):\n",
    "    print(num[i])\n",
    "    not_trivial_solution(A[i])"
   ]
  },
  {
   "cell_type": "markdown",
   "metadata": {
    "id": "wmJb1QrxO8SQ"
   },
   "source": [
    "### Задание 4\n",
    "Для однородных СЛАУ из Задания 3, имеющих нетривиальное решение, составить ФСР. "
   ]
  },
  {
   "cell_type": "code",
   "execution_count": 5,
   "metadata": {
    "colab": {
     "base_uri": "https://localhost:8080/",
     "height": 482
    },
    "id": "hAnK6Ytsclbl",
    "outputId": "c92d2042-ef70-4b1e-9452-2e7a6addaa39"
   },
   "outputs": [
    {
     "name": "stdout",
     "output_type": "stream",
     "text": [
      "b)\n"
     ]
    },
    {
     "data": {
      "text/latex": [
       "$\\displaystyle \\left[\\begin{matrix}1 & 3 & 5 & 2\\\\2 & -1 & 4 & 1\\\\3 & 4 & -1 & 0\\\\5 & 3 & 3 & 1\\end{matrix}\\right]$"
      ],
      "text/plain": [
       "Matrix([\n",
       "[1,  3,  5, 2],\n",
       "[2, -1,  4, 1],\n",
       "[3,  4, -1, 0],\n",
       "[5,  3,  3, 1]])"
      ]
     },
     "metadata": {},
     "output_type": "display_data"
    },
    {
     "name": "stdout",
     "output_type": "stream",
     "text": [
      "rg(A) = 3\n",
      "\n"
     ]
    },
    {
     "data": {
      "text/latex": [
       "ФСР\\ \\left[\\begin{matrix}\\frac{7}{82}\\\\- \\frac{6}{41}\\\\- \\frac{27}{82}\\\\1\\end{matrix}\\right]."
      ],
      "text/plain": [
       "<IPython.core.display.Latex object>"
      ]
     },
     "metadata": {},
     "output_type": "display_data"
    },
    {
     "name": "stdout",
     "output_type": "stream",
     "text": [
      "\n",
      "c)\n"
     ]
    },
    {
     "data": {
      "text/latex": [
       "$\\displaystyle \\left[\\begin{matrix}1 & 3 & 5 & 2\\\\2 & -1 & 4 & 1\\\\3 & 2 & 9 & 3\\\\1 & -4 & -1 & -1\\end{matrix}\\right]$"
      ],
      "text/plain": [
       "Matrix([\n",
       "[1,  3,  5,  2],\n",
       "[2, -1,  4,  1],\n",
       "[3,  2,  9,  3],\n",
       "[1, -4, -1, -1]])"
      ]
     },
     "metadata": {},
     "output_type": "display_data"
    },
    {
     "name": "stdout",
     "output_type": "stream",
     "text": [
      "rg(A) = 2\n",
      "\n"
     ]
    },
    {
     "data": {
      "text/latex": [
       "Первый\\ вектор\\ ФСР\\ \\left[\\begin{matrix}- \\frac{17}{7}\\\\- \\frac{6}{7}\\\\1\\\\0\\end{matrix}\\right],\\ второй\\ вектор\\ ФСР\\ \\left[\\begin{matrix}- \\frac{5}{7}\\\\- \\frac{3}{7}\\\\0\\\\1\\end{matrix}\\right]."
      ],
      "text/plain": [
       "<IPython.core.display.Latex object>"
      ]
     },
     "metadata": {},
     "output_type": "display_data"
    },
    {
     "name": "stdout",
     "output_type": "stream",
     "text": [
      "\n"
     ]
    }
   ],
   "source": [
    "def FSR (A):\n",
    "    display(A)\n",
    "    print(f'rg(A) = {A.rank()}\\n')\n",
    "    res = A.nullspace()\n",
    "    if (len(res) == 2):\n",
    "        display(Latex(f'Первый\\ вектор\\ ФСР\\ {latex(res[0])},\\ второй\\ вектор\\ ФСР\\ {latex(res[1])}.'))\n",
    "    if (len(res) == 1):\n",
    "        display(Latex(f'ФСР\\ {latex(res[0])}.'))\n",
    "    print()\n",
    "\n",
    "num = [\"b)\", \"c)\"]\n",
    "A = [Matrix([[1, 3, 5, 2],\n",
    "           [2, -1, 4, 1],\n",
    "           [3, 4, -1, 0],\n",
    "           [5, 3, 3, 1]]),\n",
    "     Matrix([[1, 3, 5, 2],\n",
    "           [2, -1, 4, 1],\n",
    "           [3, 2, 9, 3],\n",
    "           [1, -4, -1, -1]])]\n",
    "for i in range(len(A)):\n",
    "    print(num[i])\n",
    "    FSR(A[i])"
   ]
  },
  {
   "cell_type": "markdown",
   "metadata": {
    "id": "TbcC_Tc-O8ST"
   },
   "source": [
    "### Задание 5\n",
    "Для однородных СЛАУ из Задания 4 построить общее решение, используя построенную в Задании 4 ФСР. Сравнить с результатом, возвращаемым linsolve. "
   ]
  },
  {
   "cell_type": "code",
   "execution_count": 6,
   "metadata": {
    "colab": {
     "base_uri": "https://localhost:8080/",
     "height": 216
    },
    "id": "x9rBc4uRcnm9",
    "outputId": "5de30ea0-6f39-4147-8e92-f85b45b848f8"
   },
   "outputs": [
    {
     "name": "stdout",
     "output_type": "stream",
     "text": [
      "b)\n"
     ]
    },
    {
     "data": {
      "text/latex": [
       "Общее\\ решение\\ \\left[\\begin{matrix}\\frac{7 \\alpha_{1}}{82}\\\\- \\frac{6 \\alpha_{1}}{41}\\\\- \\frac{27 \\alpha_{1}}{82}\\\\\\alpha_{1}\\end{matrix}\\right],\\ решение\\ linsolve\\ \\left( \\frac{7 x_{4}}{82}, \\  - \\frac{6 x_{4}}{41}, \\  - \\frac{27 x_{4}}{82}, \\  x_{4}\\right)."
      ],
      "text/plain": [
       "<IPython.core.display.Latex object>"
      ]
     },
     "metadata": {},
     "output_type": "display_data"
    },
    {
     "name": "stdout",
     "output_type": "stream",
     "text": [
      "c)\n"
     ]
    },
    {
     "data": {
      "text/latex": [
       "Общее\\ решение\\ \\left[\\begin{matrix}- \\frac{17 \\alpha_{1}}{7} - \\frac{5 \\alpha_{2}}{7}\\\\- \\frac{6 \\alpha_{1}}{7} - \\frac{3 \\alpha_{2}}{7}\\\\\\alpha_{1}\\\\\\alpha_{2}\\end{matrix}\\right],\\ решение\\ linsolve\\ \\left( - \\frac{17 x_{3}}{7} - \\frac{5 x_{4}}{7}, \\  - \\frac{6 x_{3}}{7} - \\frac{3 x_{4}}{7}, \\  x_{3}, \\  x_{4}\\right)."
      ],
      "text/plain": [
       "<IPython.core.display.Latex object>"
      ]
     },
     "metadata": {},
     "output_type": "display_data"
    }
   ],
   "source": [
    "for i in range(len(A)):\n",
    "    print(num[i])\n",
    "    n, m = A[i].shape\n",
    "    x = symbols(f'x1:{m + 1}')\n",
    "    X = zeros(m, 1)\n",
    "    for i, vect in enumerate(A[i].nullspace()):\n",
    "        X += vect * Symbol(f'alpha{i + 1}')\n",
    "    display(Latex(f'Общее\\ решение\\ {latex(X)},\\ решение\\ linsolve\\ {latex(*linsolve((A[i], zeros(n, 1)), x))}.')) "
   ]
  },
  {
   "cell_type": "markdown",
   "metadata": {
    "id": "q96MSia2O8SU"
   },
   "source": [
    "### Индивидуальное задание.\n",
    "Дана СЛАУ $AX = b$. Проверить совместность по теореме Кронекера-Капелли. Если СЛАУ совместна, проверить единственность решения.\n",
    "Для соответствующей однородной СЛАУ проверить существование нетривиального решения. В случае, если оно существует, \n",
    "найти размерность пространства решений и составить ФСР и общее решение однородной СЛАУ.\n",
    "\\begin{align*}\n",
    " A = \\left[\\begin{matrix}7 & -2 & -4 & -4 & -1\\\\8 & -7 & 8 & -4 & 8\\\\60 & -36 & 16 & -32 & 28\\\\-4 & 20 & -48 & 0 & -36\\\\0 & -8 & 9 & 8 & 9\\end{matrix}\\right],\n",
    "\\ b = \\left[\\begin{matrix}-94\\\\-7\\\\-404\\\\-348\\\\159\\end{matrix}\\right]. \n",
    " \\end{align*}"
   ]
  },
  {
   "cell_type": "code",
   "execution_count": 7,
   "metadata": {
    "colab": {
     "base_uri": "https://localhost:8080/",
     "height": 685
    },
    "id": "NsSJ58zFcpK1",
    "outputId": "48f61497-64f7-492b-bec3-dcb4f6940235"
   },
   "outputs": [
    {
     "data": {
      "text/latex": [
       "$\\displaystyle \\left[\\begin{matrix}7 & -2 & -4 & -4 & -1\\\\8 & -7 & 8 & -4 & 8\\\\60 & -36 & 16 & -32 & 28\\\\-4 & 20 & -48 & 0 & -36\\\\0 & -8 & 9 & 8 & 9\\end{matrix}\\right]$"
      ],
      "text/plain": [
       "Matrix([\n",
       "[ 7,  -2,  -4,  -4,  -1],\n",
       "[ 8,  -7,   8,  -4,   8],\n",
       "[60, -36,  16, -32,  28],\n",
       "[-4,  20, -48,   0, -36],\n",
       "[ 0,  -8,   9,   8,   9]])"
      ]
     },
     "metadata": {},
     "output_type": "display_data"
    },
    {
     "data": {
      "text/latex": [
       "$\\displaystyle \\left[\\begin{matrix}-94\\\\-7\\\\-404\\\\-348\\\\159\\end{matrix}\\right]$"
      ],
      "text/plain": [
       "Matrix([\n",
       "[ -94],\n",
       "[  -7],\n",
       "[-404],\n",
       "[-348],\n",
       "[ 159]])"
      ]
     },
     "metadata": {},
     "output_type": "display_data"
    },
    {
     "name": "stdout",
     "output_type": "stream",
     "text": [
      "По теореме Кронекера-Капелли:\n",
      "rg(A) = rg(Ab) = 3\n",
      "Значит, система совместна \n",
      "\n",
      "rg(A) = rg(Ab) = 3\n",
      "n = 5\n",
      "Значит, система имеет не единственное решение\n",
      "\n",
      "Для соответствующей однородной СЛАУ:\n",
      "rg(A) = 3\n",
      "n=5\n",
      "rg(A) < n\n",
      "Значит, система имеет нетривиальное решение\n",
      "\n",
      "Размерность решений однородной СЛАУ = 2\n"
     ]
    },
    {
     "data": {
      "text/latex": [
       "Первый\\ вектор\\ ФСР\\ \\left[\\begin{matrix}\\frac{556}{407}\\\\\\frac{668}{407}\\\\\\frac{232}{407}\\\\1\\\\0\\end{matrix}\\right],\\ второй\\ вектор\\ ФСР\\ \\left[\\begin{matrix}- \\frac{3}{407}\\\\\\frac{216}{407}\\\\- \\frac{215}{407}\\\\0\\\\1\\end{matrix}\\right]."
      ],
      "text/plain": [
       "<IPython.core.display.Latex object>"
      ]
     },
     "metadata": {},
     "output_type": "display_data"
    },
    {
     "data": {
      "text/latex": [
       "Общее\\ решение\\ \\left[\\begin{matrix}\\frac{556 \\alpha_{1}}{407} - \\frac{3 \\alpha_{2}}{407}\\\\\\frac{668 \\alpha_{1}}{407} + \\frac{216 \\alpha_{2}}{407}\\\\\\frac{232 \\alpha_{1}}{407} - \\frac{215 \\alpha_{2}}{407}\\\\\\alpha_{1}\\\\\\alpha_{2}\\end{matrix}\\right],\\ решение\\ linsolve\\ \\left( \\frac{556 x_{4}}{407} - \\frac{3 x_{5}}{407}, \\  \\frac{668 x_{4}}{407} + \\frac{216 x_{5}}{407}, \\  \\frac{232 x_{4}}{407} - \\frac{215 x_{5}}{407}, \\  x_{4}, \\  x_{5}\\right)."
      ],
      "text/plain": [
       "<IPython.core.display.Latex object>"
      ]
     },
     "metadata": {},
     "output_type": "display_data"
    }
   ],
   "source": [
    "A = Matrix([[7, -2, -4, -4, -1],\n",
    "           [8, -7, 8, -4, 8],\n",
    "           [60, -36, 16, -32, 28],\n",
    "           [-4, 20, -48, 0, -36],\n",
    "           [0, -8, 9, 8, 9]])\n",
    "b = Matrix([-94, -7, -404, -348, 159])\n",
    "display(A, b)\n",
    "\n",
    "print(\"По теореме Кронекера-Капелли:\")\n",
    "Ab = A.row_join(b);\n",
    "if (A.rank() == Ab.rank()):\n",
    "    print(f'rg(A) = rg(Ab) = {A.rank()}\\nЗначит, система совместна \\n')\n",
    "else:\n",
    "    print(f'rg(A) = {A.rank()}\\nrg(Ab) = {Ab.rank()}\\nЗначит, система не совместна\\n')\n",
    "if (A.rank() == A.shape[1]):\n",
    "    print(f'rg(A) = rg(Ab) = n = {A.rank()}\\nЗначит, система имеет единственное решение\\n')\n",
    "else:\n",
    "    print(f'rg(A) = rg(Ab) = {A.rank()}\\nn = {A.shape[1]}\\nЗначит, система имеет не единственное решение\\n')\n",
    "print(\"Для соответствующей однородной СЛАУ:\")\n",
    "if (A.rank() < A.shape[1]):\n",
    "    print(f'rg(A) = {A.rank()}\\nn={A.shape[1]}\\nrg(A) < n\\nЗначит, система имеет нетривиальное решение\\n')\n",
    "    print(f\"Размерность решений однородной СЛАУ = {A.shape[1] - A.rank()}\")\n",
    "else:\n",
    "    print(f'rg(A) = {A.rank()}\\nn={A.shape[1]}\\nЗначит, система не имеет нетривиальное решение\\n')\n",
    "\n",
    "res = A.nullspace()\n",
    "display(Latex(f'Первый\\ вектор\\ ФСР\\ {latex(res[0])},\\ второй\\ вектор\\ ФСР\\ {latex(res[1])}.'))\n",
    "n, m = A.shape\n",
    "x = symbols(f'x1:{m + 1}')\n",
    "X = zeros(m, 1)\n",
    "for i, vect in enumerate(res):\n",
    "    X += vect * Symbol(f'alpha{i + 1}')\n",
    "display(Latex(f'Общее\\ решение\\ {latex(X)},\\ решение\\ linsolve\\ {latex(*linsolve((A, zeros(n, 1)), x))}.')) "
   ]
  }
 ],
 "metadata": {
  "colab": {
   "provenance": []
  },
  "kernelspec": {
   "display_name": "Python 3 (ipykernel)",
   "language": "python",
   "name": "python3"
  },
  "language_info": {
   "codemirror_mode": {
    "name": "ipython",
    "version": 3
   },
   "file_extension": ".py",
   "mimetype": "text/x-python",
   "name": "python",
   "nbconvert_exporter": "python",
   "pygments_lexer": "ipython3",
   "version": "3.9.13"
  }
 },
 "nbformat": 4,
 "nbformat_minor": 1
}
