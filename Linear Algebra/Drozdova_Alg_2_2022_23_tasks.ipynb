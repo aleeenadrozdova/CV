{
 "cells": [
  {
   "cell_type": "markdown",
   "metadata": {
    "id": "V1qo8kCJaU1a"
   },
   "source": [
    "# Практическое занятие 2\n",
    "# Компьютерный практикум по алгебре на Python"
   ]
  },
  {
   "cell_type": "markdown",
   "metadata": {
    "id": "nrNldgTvaU1k"
   },
   "source": [
    "## Матрицы. Подстановки, действия над строками, столбцами и элементами. Формулы Крамера для решения СЛАУ.\n",
    "https://docs.sympy.org/latest/tutorial/matrices.html"
   ]
  },
  {
   "cell_type": "code",
   "execution_count": 1,
   "metadata": {
    "id": "DW7G-QrZaU1l"
   },
   "outputs": [],
   "source": [
    "#https://www.sympy.org/en/index.html\n",
    "# sympy - модуль для символьных преобразований\n",
    "from sympy import *"
   ]
  },
  {
   "cell_type": "markdown",
   "metadata": {
    "id": "pebe8gBxaU1n"
   },
   "source": [
    "### Задание 1\n",
    "Решить по формулам Крамера СЛАУ \n",
    "\\begin{align*}\n",
    "\\left\\{\\begin{matrix} 2 x_{1} +  x_{3}  = -8\n",
    "\\\\- 4 x_{1} + 5 x_{2}  = 20\n",
    "\\\\- 6 x_{2} + x_{3}  = 2\n",
    "\\end{matrix}\\right.\n",
    " \\end{align*}\n",
    "Проверить правильность найденного решения подстановкой (в математическом смысле! subs не нужно использовать). \n",
    "\n",
    "Под проверкой правильности понимается проверка выполнения равенства $AX=b$ или $AX-b=\\bar 0$."
   ]
  },
  {
   "cell_type": "code",
   "execution_count": 2,
   "metadata": {
    "colab": {
     "base_uri": "https://localhost:8080/",
     "height": 174
    },
    "id": "1yTApGRTHz3S",
    "outputId": "7daa71c1-5660-4016-eef1-9a612e003875"
   },
   "outputs": [
    {
     "name": "stdout",
     "output_type": "stream",
     "text": [
      "Решение СЛАУ:\n"
     ]
    },
    {
     "data": {
      "text/latex": [
       "$\\displaystyle \\left[\\begin{matrix}-5\\\\0\\\\2\\end{matrix}\\right]$"
      ],
      "text/plain": [
       "Matrix([\n",
       "[-5],\n",
       "[ 0],\n",
       "[ 2]])"
      ]
     },
     "metadata": {},
     "output_type": "display_data"
    },
    {
     "name": "stdout",
     "output_type": "stream",
     "text": [
      "Проверка:\n"
     ]
    },
    {
     "data": {
      "text/latex": [
       "$\\displaystyle \\left[\\begin{matrix}-8\\\\20\\\\2\\end{matrix}\\right]$"
      ],
      "text/plain": [
       "Matrix([\n",
       "[-8],\n",
       "[20],\n",
       "[ 2]])"
      ]
     },
     "metadata": {},
     "output_type": "display_data"
    },
    {
     "data": {
      "text/plain": [
       "True"
      ]
     },
     "execution_count": 2,
     "metadata": {},
     "output_type": "execute_result"
    }
   ],
   "source": [
    "A = Matrix([[2,0,1], [-4,5,0], [0,-6,1]]) #матрица левой части СЛАУ\n",
    "b = Matrix([-8,20,2]) #матрица правой части\n",
    "n = A.shape[0]\n",
    "A_det = A.det()\n",
    "X = []\n",
    "for i in range(n):\n",
    "    Ai = A.copy()\n",
    "    Ai[:, i] = b\n",
    "    X += [Ai.det() / A_det]\n",
    "X = Matrix(X)    \n",
    "print(\"Решение СЛАУ:\")\n",
    "display(X)       \n",
    "print(\"Проверка:\")\n",
    "display(A * X)\n",
    "A * X == b"
   ]
  },
  {
   "cell_type": "markdown",
   "metadata": {
    "id": "WfVS2gyDaU1r"
   },
   "source": [
    "### Задание 2\n",
    "Решить по формулам Крамера СЛАУ с параметром\n",
    "\\begin{align*}\n",
    "\\left\\{\\begin{matrix} a x_{1} + 2 x_{2}  = -7\n",
    "\\\\- 4 x_{1} + 5 x_{2} + 3 x_{3} = 9\n",
    "\\\\ 3 x_{1} + x_{3}  = 2\n",
    "\\end{matrix}\\right.\n",
    " \\end{align*}\n",
    "Проверить правильность найденного решения подстановкой.\n",
    "\n",
    "Составить матрицу $S$, столбцы которой являются решениями данной СЛАУ при $a = -1, 0, 3$.\n",
    "\n",
    "**Указание.** \n",
    "\n",
    "Оформить решение по формулам Крамера в виде функции.\n",
    "\n",
    "Параметр $a$ описать как символ.\n",
    "\n",
    "Использовать подстановки **subs** для построения матриц данной СЛАУ при $a = -1, 0, 3$ на основе матрицы с параметром.\n",
    "\n",
    "Воспользоваться **simplify** для того, чтобы упростить выражение при проверке."
   ]
  },
  {
   "cell_type": "code",
   "execution_count": 3,
   "metadata": {
    "colab": {
     "base_uri": "https://localhost:8080/",
     "height": 203
    },
    "id": "wejcdzaeH1xV",
    "outputId": "a398468e-ad2e-4335-f92c-0a7d906575dc"
   },
   "outputs": [
    {
     "name": "stdout",
     "output_type": "stream",
     "text": [
      "Решение СЛАУ:\n"
     ]
    },
    {
     "data": {
      "text/latex": [
       "$\\displaystyle \\left[\\begin{matrix}- \\frac{41}{5 a + 26}\\\\\\frac{3 a - 91}{5 a + 26}\\\\\\frac{10 a + 175}{5 a + 26}\\end{matrix}\\right]$"
      ],
      "text/plain": [
       "Matrix([\n",
       "[         -41/(5*a + 26)],\n",
       "[  (3*a - 91)/(5*a + 26)],\n",
       "[(10*a + 175)/(5*a + 26)]])"
      ]
     },
     "metadata": {},
     "output_type": "display_data"
    },
    {
     "name": "stdout",
     "output_type": "stream",
     "text": [
      "Проверка:\n"
     ]
    },
    {
     "data": {
      "text/latex": [
       "$\\displaystyle \\left[\\begin{matrix}-7\\\\9\\\\2\\end{matrix}\\right]$"
      ],
      "text/plain": [
       "Matrix([\n",
       "[-7],\n",
       "[ 9],\n",
       "[ 2]])"
      ]
     },
     "metadata": {},
     "output_type": "display_data"
    },
    {
     "name": "stdout",
     "output_type": "stream",
     "text": [
      "True\n",
      "Матрица S:\n"
     ]
    },
    {
     "data": {
      "text/latex": [
       "$\\displaystyle \\left[\\begin{matrix}- \\frac{41}{21} & - \\frac{41}{26} & -1\\\\- \\frac{94}{21} & - \\frac{7}{2} & -2\\\\\\frac{55}{7} & \\frac{175}{26} & 5\\end{matrix}\\right]$"
      ],
      "text/plain": [
       "Matrix([\n",
       "[-41/21, -41/26, -1],\n",
       "[-94/21,   -7/2, -2],\n",
       "[  55/7, 175/26,  5]])"
      ]
     },
     "metadata": {},
     "output_type": "display_data"
    }
   ],
   "source": [
    "a = Symbol('a')\n",
    "x0 = Matrix(symbols('x:5'))\n",
    "x,s  = symbols(\"X S\")\n",
    "A = Matrix([[a,2,0], [-4,5,3], [3,0,1]])\n",
    "b = Matrix([-7,9,2])\n",
    "n = A.shape[0]\n",
    "A_det = A.det()\n",
    "X = []\n",
    "for i in range(n):\n",
    "    Ai = A.copy()\n",
    "    Ai[:, i] = b\n",
    "    X += [Ai.det() / A_det]\n",
    "X = Matrix(X)\n",
    "Eq(Matrix([[x]]), X)\n",
    "a_list = [-1, 0, 3]\n",
    "S = Matrix([[]])\n",
    "for i in range(len(a_list)):\n",
    "    S = S.col_insert(i,X.subs(a, a_list[i]))\n",
    "print(\"Решение СЛАУ:\")\n",
    "display(X)       \n",
    "print(\"Проверка:\")\n",
    "display(simplify(A * X))\n",
    "print(simplify(A * X) == b)\n",
    "print(\"Матрица S:\")\n",
    "display(S) "
   ]
  },
  {
   "cell_type": "markdown",
   "metadata": {
    "id": "Ufm8BDgxaU1t"
   },
   "source": [
    "### Задание 3.\n",
    "Решить по формулам Крамера СЛАУ с параметрами\n",
    "\\begin{align*}\n",
    "\\left\\{\\begin{matrix} x_{1} + a_{12} x_{2}  = b_1\n",
    "\\\\ x_{1} + a_{22} x_{2}  = b_2\n",
    "\\end{matrix}\\right.\n",
    "\\end{align*}\n",
    "Проверить правильность найденного решения подстановкой.\n",
    "\n",
    "Найти такие наборы параметров, для которых полученное решение неприменимо (подсказка - из-за деления на ноль).\n",
    "\n",
    "Показать, что для этих наборов определитель матрицы левой части равен нулю, использовать подстановки subs."
   ]
  },
  {
   "cell_type": "code",
   "execution_count": 4,
   "metadata": {
    "colab": {
     "base_uri": "https://localhost:8080/",
     "height": 437
    },
    "id": "WzfK_ZOFH3tK",
    "outputId": "14acf164-0d54-4db7-950e-b6db35b0d62b"
   },
   "outputs": [
    {
     "name": "stdout",
     "output_type": "stream",
     "text": [
      "Решение СЛАУ:\n"
     ]
    },
    {
     "data": {
      "text/latex": [
       "$\\displaystyle \\left[\\begin{matrix}\\frac{- a_{12} b_{2} + a_{22} b_{1}}{- a_{12} + a_{22}}\\\\\\frac{- b_{1} + b_{2}}{- a_{12} + a_{22}}\\end{matrix}\\right]$"
      ],
      "text/plain": [
       "Matrix([\n",
       "[(-a12*b2 + a22*b1)/(-a12 + a22)],\n",
       "[        (-b1 + b2)/(-a12 + a22)]])"
      ]
     },
     "metadata": {},
     "output_type": "display_data"
    },
    {
     "name": "stdout",
     "output_type": "stream",
     "text": [
      "Проверка:\n"
     ]
    },
    {
     "data": {
      "text/latex": [
       "$\\displaystyle \\left[\\begin{matrix}b_{1}\\\\b_{2}\\end{matrix}\\right]$"
      ],
      "text/plain": [
       "Matrix([\n",
       "[b1],\n",
       "[b2]])"
      ]
     },
     "metadata": {},
     "output_type": "display_data"
    },
    {
     "name": "stdout",
     "output_type": "stream",
     "text": [
      "True\n",
      "Решение неприменимо при\n",
      "a12 = a22\n",
      "det A = 0\n"
     ]
    }
   ],
   "source": [
    "a12, a22, b1, b2 = symbols('a12 a22 b1 b2')\n",
    "A = Matrix([[1,a12], [1,a22]])\n",
    "b = Matrix([b1,b2])\n",
    "n = A.shape[0]\n",
    "A_det = A.det()\n",
    "X = []\n",
    "for i in range(n):\n",
    "    Ai = A.copy()\n",
    "    Ai[:, i] = b\n",
    "    X += [Ai.det() / A_det]\n",
    "X = Matrix(X) \n",
    "print(\"Решение СЛАУ:\")\n",
    "display(X)       \n",
    "print(\"Проверка:\")\n",
    "display(simplify(A * X))\n",
    "print(simplify(A * X) == b)\n",
    "print(\"Решение неприменимо при\")\n",
    "print(f\"{a12} = {a22}\")\n",
    "print(\"det A =\", A_det.subs(a12, a22))"
   ]
  },
  {
   "cell_type": "markdown",
   "metadata": {
    "id": "bsNtxeRDaU1w"
   },
   "source": [
    "### Задание 4.\n",
    "Дана матрица \n",
    "\\begin{align*}\n",
    "M =\n",
    "\\left(\\begin{matrix} \n",
    "p & 1 & 0 \\\\\n",
    "1 & q & 1 \\\\\n",
    "0 & 1 & r\n",
    "\\end{matrix}\\right)\n",
    "\\end{align*}\n",
    "Вычислить определитель этой матрицы.\n",
    "Найти целочисленные наборы параметров $p$, $q$, $r$, для которых определитель $M$ равен нулю. Рассматривать целые числа от 0 до 12 (НЕ включительно). Использовать подстановки subs в заранее вычисленный определитель.\n",
    "\n",
    "Из найденных наборов, содержащих равный 0 элемент, как столбцов составить матрицу $P$.\n",
    "\n",
    "Из найденных наборов, состоящих только из положительных элементов, как строк составить матрицу $R$."
   ]
  },
  {
   "cell_type": "code",
   "execution_count": 5,
   "metadata": {
    "colab": {
     "base_uri": "https://localhost:8080/",
     "height": 374
    },
    "id": "aBDfnRUGH5gl",
    "outputId": "8a6100d5-1075-44b9-edc7-816f0d067524"
   },
   "outputs": [
    {
     "name": "stdout",
     "output_type": "stream",
     "text": [
      "Определитель равен p*q*r - p - r\n"
     ]
    },
    {
     "data": {
      "text/latex": [
       "$\\displaystyle \\left[\\begin{array}{cccccccccccc}0 & 0 & 0 & 0 & 0 & 0 & 0 & 0 & 0 & 0 & 0 & 0\\\\0 & 1 & 2 & 3 & 4 & 5 & 6 & 7 & 8 & 9 & 10 & 11\\\\0 & 0 & 0 & 0 & 0 & 0 & 0 & 0 & 0 & 0 & 0 & 0\\end{array}\\right]$"
      ],
      "text/plain": [
       "Matrix([\n",
       "[0, 0, 0, 0, 0, 0, 0, 0, 0, 0,  0,  0],\n",
       "[0, 1, 2, 3, 4, 5, 6, 7, 8, 9, 10, 11],\n",
       "[0, 0, 0, 0, 0, 0, 0, 0, 0, 0,  0,  0]])"
      ]
     },
     "metadata": {},
     "output_type": "display_data"
    },
    {
     "data": {
      "text/latex": [
       "$\\displaystyle \\left[\\begin{matrix}1 & 2 & 1\\\\2 & 1 & 2\\end{matrix}\\right]$"
      ],
      "text/plain": [
       "Matrix([\n",
       "[1, 2, 1],\n",
       "[2, 1, 2]])"
      ]
     },
     "metadata": {},
     "output_type": "display_data"
    }
   ],
   "source": [
    "p, q, r = symbols(\"p q r\")\n",
    "M = Matrix([[p, 1, 0],[1, q, 1],[0,1,r]])\n",
    "det_M = M.det()\n",
    "print(\"Определитель равен\", det_M)\n",
    "P = Matrix([[]])\n",
    "R = Matrix([[]])\n",
    "for i in range(0,12):\n",
    "      for j in range(0,12):\n",
    "            res = solve(det_M.subs([(p, i), (q, j)]))\n",
    "            for k in res:\n",
    "                if (k < 12) & (k >= 0) & (int(k) == k):\n",
    "                    if (k == 0) | (i == 0) | (j == 0):\n",
    "                            P = P.col_insert(P.shape[1], Matrix([i,j,k]))\n",
    "                    else:\n",
    "                            R = R.row_insert(R.shape[0], Matrix([[i,j,k]]))\n",
    "P = Matrix(P)\n",
    "R = Matrix(R)\n",
    "display(P,R)"
   ]
  },
  {
   "cell_type": "markdown",
   "metadata": {
    "id": "sr7hz7rNaU1y"
   },
   "source": [
    "### Индивидуальное задание.\n",
    "\n",
    "N33\n",
    "\n",
    "В данной матрице выполнить заданные подстановки:\n",
    "\\begin{align*}\n",
    "\\left[\\begin{matrix}6 & -4 & -1 & x_{1} & -4\\\\2 & -5 & 9 & 0 & 4\\\\x_{5} & 1 & x_{3} & -8 & -6\\\\4 & -2 & 7 & x_{2} & -8\\end{matrix}\\right]\n",
    "\\end{align*}\n",
    "\n",
    "\n",
    "$x_{1}$ = 10, $x_{2}$ = 8, $x_{3}$ = 8, $x_{4}$ = 10, $x_{5}$ = 6, \n",
    "\n",
    "$x_{1}$ = 7, $x_{2}$ = 9, $x_{3}$ = 8, $x_{4}$ = 6, $x_{5}$ = 7, \n",
    "\n",
    "$x_{1}$ = 8, $x_{2}$ = 7, $x_{3}$ = 9, $x_{4}$ = 10, $x_{5}$ = 7, \n",
    "\n",
    "$x_{1}$ = 10, $x_{2}$ = 7, $x_{3}$ = 7, $x_{4}$ = 8, $x_{5}$ = 10, \n",
    "\n",
    "результат каждой подстановки выводить в виде отдельной матрицы."
   ]
  },
  {
   "cell_type": "code",
   "execution_count": 6,
   "metadata": {
    "id": "pXpz1Q1qILvN"
   },
   "outputs": [
    {
     "data": {
      "text/latex": [
       "$\\displaystyle \\left[\\begin{matrix}6 & -4 & -1 & x_{0} & -4\\\\2 & -5 & 9 & 0 & 4\\\\x_{4} & 1 & x_{2} & -8 & -6\\\\4 & -2 & 7 & x_{1} & -8\\end{matrix}\\right]$"
      ],
      "text/plain": [
       "Matrix([\n",
       "[ 6, -4, -1, x0, -4],\n",
       "[ 2, -5,  9,  0,  4],\n",
       "[x4,  1, x2, -8, -6],\n",
       "[ 4, -2,  7, x1, -8]])"
      ]
     },
     "metadata": {},
     "output_type": "display_data"
    },
    {
     "name": "stdout",
     "output_type": "stream",
     "text": [
      "x1 = 10; x2 = 8; x3 = 8; x4 = 10; x5 = 6; "
     ]
    },
    {
     "data": {
      "text/latex": [
       "$\\displaystyle \\left[\\begin{matrix}6 & -4 & -1 & 10 & -4\\\\2 & -5 & 9 & 0 & 4\\\\6 & 1 & 8 & -8 & -6\\\\4 & -2 & 7 & 8 & -8\\end{matrix}\\right]$"
      ],
      "text/plain": [
       "Matrix([\n",
       "[6, -4, -1, 10, -4],\n",
       "[2, -5,  9,  0,  4],\n",
       "[6,  1,  8, -8, -6],\n",
       "[4, -2,  7,  8, -8]])"
      ]
     },
     "metadata": {},
     "output_type": "display_data"
    },
    {
     "name": "stdout",
     "output_type": "stream",
     "text": [
      "x1 = 7; x2 = 9; x3 = 8; x4 = 6; x5 = 7; "
     ]
    },
    {
     "data": {
      "text/latex": [
       "$\\displaystyle \\left[\\begin{matrix}6 & -4 & -1 & 7 & -4\\\\2 & -5 & 9 & 0 & 4\\\\7 & 1 & 8 & -8 & -6\\\\4 & -2 & 7 & 9 & -8\\end{matrix}\\right]$"
      ],
      "text/plain": [
       "Matrix([\n",
       "[6, -4, -1,  7, -4],\n",
       "[2, -5,  9,  0,  4],\n",
       "[7,  1,  8, -8, -6],\n",
       "[4, -2,  7,  9, -8]])"
      ]
     },
     "metadata": {},
     "output_type": "display_data"
    },
    {
     "name": "stdout",
     "output_type": "stream",
     "text": [
      "x1 = 8; x2 = 7; x3 = 9; x4 = 10; x5 = 7; "
     ]
    },
    {
     "data": {
      "text/latex": [
       "$\\displaystyle \\left[\\begin{matrix}6 & -4 & -1 & 8 & -4\\\\2 & -5 & 9 & 0 & 4\\\\7 & 1 & 9 & -8 & -6\\\\4 & -2 & 7 & 7 & -8\\end{matrix}\\right]$"
      ],
      "text/plain": [
       "Matrix([\n",
       "[6, -4, -1,  8, -4],\n",
       "[2, -5,  9,  0,  4],\n",
       "[7,  1,  9, -8, -6],\n",
       "[4, -2,  7,  7, -8]])"
      ]
     },
     "metadata": {},
     "output_type": "display_data"
    },
    {
     "name": "stdout",
     "output_type": "stream",
     "text": [
      "x1 = 10; x2 = 7; x3 = 7; x4 = 8; x5 = 10; "
     ]
    },
    {
     "data": {
      "text/latex": [
       "$\\displaystyle \\left[\\begin{matrix}6 & -4 & -1 & 10 & -4\\\\2 & -5 & 9 & 0 & 4\\\\10 & 1 & 7 & -8 & -6\\\\4 & -2 & 7 & 7 & -8\\end{matrix}\\right]$"
      ],
      "text/plain": [
       "Matrix([\n",
       "[ 6, -4, -1, 10, -4],\n",
       "[ 2, -5,  9,  0,  4],\n",
       "[10,  1,  7, -8, -6],\n",
       "[ 4, -2,  7,  7, -8]])"
      ]
     },
     "metadata": {},
     "output_type": "display_data"
    }
   ],
   "source": [
    "x = symbols('x:5')\n",
    "X = Matrix([[6, -4, -1, x[0], -4], [2, -5, 9, 0 ,4], [x[4], 1, x[2], -8, -6], [4, -2, 7, x[1], -8]])\n",
    "Subs = [[10, 8, 8, 10, 6], [7, 9, 8, 6, 7], [8, 7, 9, 10, 7], [10, 7, 7, 8, 10]]\n",
    "display(X)\n",
    "for i in Subs:\n",
    "    for j in range(5):\n",
    "        print(f\"x{j+1} = {i[j]}\", end = '; ')\n",
    "    display(X.subs((x[j], i[j]) for j in range(5)))\n",
    "        "
   ]
  }
 ],
 "metadata": {
  "colab": {
   "provenance": []
  },
  "kernelspec": {
   "display_name": "Python 3 (ipykernel)",
   "language": "python",
   "name": "python3"
  },
  "language_info": {
   "codemirror_mode": {
    "name": "ipython",
    "version": 3
   },
   "file_extension": ".py",
   "mimetype": "text/x-python",
   "name": "python",
   "nbconvert_exporter": "python",
   "pygments_lexer": "ipython3",
   "version": "3.9.13"
  }
 },
 "nbformat": 4,
 "nbformat_minor": 1
}
