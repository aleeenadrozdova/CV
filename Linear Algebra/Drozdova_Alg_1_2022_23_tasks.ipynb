{
 "cells": [
  {
   "cell_type": "markdown",
   "metadata": {
    "id": "NWxN--Ciycml"
   },
   "source": [
    "# Практическое занятие 1\n",
    "# Компьютерный практикум по алгебре на Python"
   ]
  },
  {
   "cell_type": "markdown",
   "metadata": {
    "id": "JITt7G7iycmp"
   },
   "source": [
    "https://docs.sympy.org/latest/tutorial/intro.html"
   ]
  },
  {
   "cell_type": "code",
   "execution_count": 1,
   "metadata": {
    "id": "VKvRy_UGycmq"
   },
   "outputs": [],
   "source": [
    "#Вначале для простоты будем подключать модуль sympy целиком\n",
    "from sympy import *"
   ]
  },
  {
   "cell_type": "markdown",
   "metadata": {
    "id": "x3mNO8qJycmr"
   },
   "source": [
    "## Действия с числами, числовые выражения\n",
    "Об основных типах данных Python 3.10 читайте здесь:\n",
    "https://docs.python.org/3/reference/datamodel.html#index-19\n",
    "\n",
    "Сейчас нам понадобятся типы:\n",
    "\n",
    "int - целое число (насколько большим оно может быть, зависит только от объема доступной памяти)\n",
    "\n",
    "float - вещественное число (double precision floating point numbers)\n",
    "\n",
    "### Задание 1.\n",
    "Вычислите значение выражения\n",
    "$$\n",
    "3\\left(2^{4}+6\\sin\\frac{\\pi}{4}-5\\sqrt{2}\\right)\n",
    "$$\n",
    "**Указание**: воспользоваться имеющимися в sympy функциями sin и sqrt."
   ]
  },
  {
   "cell_type": "code",
   "execution_count": 2,
   "metadata": {
    "id": "GAKObJZh3YkM"
   },
   "outputs": [
    {
     "data": {
      "text/latex": [
       "$\\displaystyle 3 \\cdot \\left(2^{4} + 6 \\sin{\\left(\\frac{\\pi}{4} \\right)} - 5 \\sqrt{2}\\right) = 48 - 6 \\sqrt{2}$"
      ],
      "text/plain": [
       "Eq(3*(2**4 + 6*sin(pi/4) - 5*sqrt(2)), 48 - 6*sqrt(2))"
      ]
     },
     "execution_count": 2,
     "metadata": {},
     "output_type": "execute_result"
    }
   ],
   "source": [
    "x, y, z = symbols('3 2 4')\n",
    "exp = x*(y**4+6*sin(pi/z)-5*sqrt(2))\n",
    "Eq(exp, 3*(2**4+6*sin(pi/4)-5*sqrt(2)))"
   ]
  },
  {
   "cell_type": "markdown",
   "metadata": {
    "id": "G3b9I6dNycmr"
   },
   "source": [
    "## Символы, символьные выражения\n",
    "Для аналитических преобразований в sympy используется класс Symbol\n",
    "\n",
    "https://docs.sympy.org/latest/modules/core.html?highlight=symbol#module-sympy.core.symbol\n",
    "\n",
    "В этом классе есть метод Symbol для создания одного символа.\n",
    "###  Задание 2.\n",
    "Создайте символ $t$ и составьте выражение $\\frac{\\sqrt{t}+t^3}{t-1}$"
   ]
  },
  {
   "cell_type": "code",
   "execution_count": 3,
   "metadata": {
    "id": "WUQN5zY_4AYo"
   },
   "outputs": [
    {
     "data": {
      "text/latex": [
       "$\\displaystyle \\frac{\\sqrt{t} + t^{3}}{t - 1}$"
      ],
      "text/plain": [
       "(sqrt(t) + t**3)/(t - 1)"
      ]
     },
     "execution_count": 3,
     "metadata": {},
     "output_type": "execute_result"
    }
   ],
   "source": [
    "t = Symbol('t')\n",
    "exp = (sqrt(t)+t**3)/(t-1)\n",
    "exp"
   ]
  },
  {
   "cell_type": "markdown",
   "metadata": {
    "id": "qMlP2YM5ycms"
   },
   "source": [
    "## Операции с символьными выражениями: simplify, expand,factor,collect\n",
    "#### simplify\n",
    "используется для упрощения выражения\n",
    "#### expand \n",
    "используется для раскрытия скобок\n",
    "#### factor \n",
    "для разложения на множители\n",
    "#### collect \n",
    "для группировки по степеням переменной\n",
    "###  Задание 3.\n",
    "Упростите выражение\n",
    "$$\n",
    "\\frac{(u+v)^2-4uv}{u-v}+2v-1\n",
    "$$"
   ]
  },
  {
   "cell_type": "code",
   "execution_count": 4,
   "metadata": {
    "id": "5n7kmIBR4CoQ"
   },
   "outputs": [
    {
     "data": {
      "text/latex": [
       "$\\displaystyle 2 v - 1 + \\frac{- 4 u v + \\left(u + v\\right)^{2}}{u - v} = u + v - 1$"
      ],
      "text/plain": [
       "Eq(2*v - 1 + (-4*u*v + (u + v)**2)/(u - v), u + v - 1)"
      ]
     },
     "execution_count": 4,
     "metadata": {},
     "output_type": "execute_result"
    }
   ],
   "source": [
    "u, v = symbols('u v')\n",
    "exp = ((u+v)**2-4*u*v)/(u-v)+2*v-1\n",
    "Eq(exp, simplify(exp))\n"
   ]
  },
  {
   "cell_type": "markdown",
   "metadata": {
    "id": "gasezWy-ycmt"
   },
   "source": [
    "###  Задание 4.\n",
    "Раскройте скобки в выражении $(a_1+a_2+a_3)^3-(a_1-a_2)^2$"
   ]
  },
  {
   "cell_type": "code",
   "execution_count": 5,
   "metadata": {
    "id": "EhD4Wzlp4EA4"
   },
   "outputs": [
    {
     "data": {
      "text/latex": [
       "$\\displaystyle - \\left(a_{1} - a_{2}\\right)^{2} + \\left(a_{1} + a_{2} + a_{3}\\right)^{3} = a_{1}^{3} + 3 a_{1}^{2} a_{2} + 3 a_{1}^{2} a_{3} - a_{1}^{2} + 3 a_{1} a_{2}^{2} + 6 a_{1} a_{2} a_{3} + 2 a_{1} a_{2} + 3 a_{1} a_{3}^{2} + a_{2}^{3} + 3 a_{2}^{2} a_{3} - a_{2}^{2} + 3 a_{2} a_{3}^{2} + a_{3}^{3}$"
      ],
      "text/plain": [
       "Eq(-(a1 - a2)**2 + (a1 + a2 + a3)**3, a1**3 + 3*a1**2*a2 + 3*a1**2*a3 - a1**2 + 3*a1*a2**2 + 6*a1*a2*a3 + 2*a1*a2 + 3*a1*a3**2 + a2**3 + 3*a2**2*a3 - a2**2 + 3*a2*a3**2 + a3**3)"
      ]
     },
     "execution_count": 5,
     "metadata": {},
     "output_type": "execute_result"
    }
   ],
   "source": [
    "a1,a2,a3 = symbols('a1 a2 a3')\n",
    "exp = (a1+a2+a3)**3-(a1-a2)**2\n",
    "Eq(exp, expand(exp))"
   ]
  },
  {
   "cell_type": "markdown",
   "metadata": {
    "id": "d9_rZkk7ycmt"
   },
   "source": [
    "###  Задание 5.\n",
    "Разложите на множители\n",
    "$2u^4+3u^3v-2u^2v^2-2u^2v-3uv^2+2v^3$"
   ]
  },
  {
   "cell_type": "code",
   "execution_count": 6,
   "metadata": {
    "id": "Mz8-EGSW4FNY"
   },
   "outputs": [
    {
     "data": {
      "text/latex": [
       "$\\displaystyle 2 u^{4} + 3 u^{3} v - 2 u^{2} v^{2} - 2 u^{2} v - 3 u v^{2} + 2 v^{3} = \\left(u + 2 v\\right) \\left(2 u - v\\right) \\left(u^{2} - v\\right)$"
      ],
      "text/plain": [
       "Eq(2*u**4 + 3*u**3*v - 2*u**2*v**2 - 2*u**2*v - 3*u*v**2 + 2*v**3, (u + 2*v)*(2*u - v)*(u**2 - v))"
      ]
     },
     "execution_count": 6,
     "metadata": {},
     "output_type": "execute_result"
    }
   ],
   "source": [
    "u, v = symbols('u v')\n",
    "exp = 2*u**4+3*u**3*v-2*u**2*v**2-2*u**2*v-3*u*v**2+2*v**3\n",
    "Eq(exp, factor(exp))"
   ]
  },
  {
   "cell_type": "markdown",
   "metadata": {
    "id": "Cnm5vka3ycmu"
   },
   "source": [
    "###  Задание 6.\n",
    "Сгруппируйте выражение из Задания 5 по степеням $u$."
   ]
  },
  {
   "cell_type": "code",
   "execution_count": 7,
   "metadata": {
    "id": "IMQbCbJu4JPB"
   },
   "outputs": [
    {
     "data": {
      "text/latex": [
       "$\\displaystyle 2 u^{4} + 3 u^{3} v - 2 u^{2} v^{2} - 2 u^{2} v - 3 u v^{2} + 2 v^{3} = 2 u^{4} + 3 u^{3} v + u^{2} \\left(- 2 v^{2} - 2 v\\right) - 3 u v^{2} + 2 v^{3}$"
      ],
      "text/plain": [
       "Eq(2*u**4 + 3*u**3*v - 2*u**2*v**2 - 2*u**2*v - 3*u*v**2 + 2*v**3, 2*u**4 + 3*u**3*v + u**2*(-2*v**2 - 2*v) - 3*u*v**2 + 2*v**3)"
      ]
     },
     "execution_count": 7,
     "metadata": {},
     "output_type": "execute_result"
    }
   ],
   "source": [
    "Eq(exp, collect(exp,u))"
   ]
  },
  {
   "cell_type": "markdown",
   "metadata": {
    "id": "nvztFMwyycmv"
   },
   "source": [
    "## Списки и кортежи\n",
    "Нам понадобятся два итерируемых типа\n",
    "\n",
    "#### списки list\n",
    "изменяемый тип\n",
    "#### кортежи tuple\n",
    "неизменяемый тип\n",
    "\n",
    "### Задание 7\n",
    "Создайте список $Powers$ из трех кортежей, состоящих из символов $x$, $y$ и $z$ в степени, равной номеру кортежа в списке."
   ]
  },
  {
   "cell_type": "code",
   "execution_count": 8,
   "metadata": {
    "id": "MADdnb8V4Klo"
   },
   "outputs": [
    {
     "data": {
      "text/plain": [
       "[(1, 1, 1), (x, y, z), (x**2, y**2, z**2)]"
      ]
     },
     "execution_count": 8,
     "metadata": {},
     "output_type": "execute_result"
    }
   ],
   "source": [
    "x,y,z = symbols('x y z')\n",
    "Powers = [(1,1,1), (x,y,z), (x**2,y**2,z**2)]\n",
    "Powers"
   ]
  },
  {
   "cell_type": "markdown",
   "metadata": {
    "id": "sE10eEvqycmv"
   },
   "source": [
    "### Задание 8\n",
    "В списке Powers Задания 7 заменить $(x^2,y^2,z^2)$ на (0,0,0)."
   ]
  },
  {
   "cell_type": "code",
   "execution_count": 9,
   "metadata": {
    "id": "Mftd7x424OGR"
   },
   "outputs": [
    {
     "data": {
      "text/plain": [
       "[(1, 1, 1), (x, y, z), (0, 0, 0)]"
      ]
     },
     "execution_count": 9,
     "metadata": {},
     "output_type": "execute_result"
    }
   ],
   "source": [
    "Powers[2] = (0,0,0)\n",
    "Powers"
   ]
  },
  {
   "cell_type": "markdown",
   "metadata": {
    "id": "PmrUn7iVycmw"
   },
   "source": [
    "## Матрицы\n",
    "### Задание 9\n",
    "Составить матрицу  $A_{3\\times 4}$ из чисел вида $3k+1$, $k=1,2,...$:\n",
    "$$\n",
    "A=\n",
    "\\left(\n",
    "\\begin{matrix}\n",
    "4& 7& 10& 13\\\\\n",
    "16& 19& 22& 25\\\\\n",
    "28& 31& 34& 37\n",
    "\\end{matrix}\n",
    "\\right)\n",
    "$$"
   ]
  },
  {
   "cell_type": "code",
   "execution_count": 10,
   "metadata": {
    "id": "rAqyM2v-4Pdh"
   },
   "outputs": [
    {
     "data": {
      "text/latex": [
       "$\\displaystyle \\left[\\begin{matrix}4 & 7 & 10 & 13\\\\16 & 19 & 22 & 25\\\\28 & 31 & 34 & 37\\end{matrix}\\right]$"
      ],
      "text/plain": [
       "Matrix([\n",
       "[ 4,  7, 10, 13],\n",
       "[16, 19, 22, 25],\n",
       "[28, 31, 34, 37]])"
      ]
     },
     "execution_count": 10,
     "metadata": {},
     "output_type": "execute_result"
    }
   ],
   "source": [
    "n, m = 3, 4\n",
    "def function(i,j):\n",
    "    return 3*(j+i*m+1)+1\n",
    "A = Matrix(n,m, function)\n",
    "A"
   ]
  },
  {
   "cell_type": "markdown",
   "metadata": {
    "id": "lU6I_nCJycmw"
   },
   "source": [
    "### Задание 10\n",
    "В матрице А задания 9 удалить вторую строку и вставить третий столбец между первым и вторым (сам третий столбец не удалять!), должно получиться\n",
    "$$\n",
    "A=\n",
    "\\left(\n",
    "\\begin{matrix}\n",
    "4& 10& 7& 10& 13\\\\\n",
    "28& 34& 31& 34& 37\n",
    "\\end{matrix}\n",
    "\\right)\n",
    "$$"
   ]
  },
  {
   "cell_type": "code",
   "execution_count": 11,
   "metadata": {
    "id": "zZqNiJMh4TvQ"
   },
   "outputs": [
    {
     "data": {
      "text/latex": [
       "$\\displaystyle \\left[\\begin{matrix}4 & 10 & 7 & 10 & 13\\\\28 & 34 & 31 & 34 & 37\\end{matrix}\\right]$"
      ],
      "text/plain": [
       "Matrix([\n",
       "[ 4, 10,  7, 10, 13],\n",
       "[28, 34, 31, 34, 37]])"
      ]
     },
     "execution_count": 11,
     "metadata": {},
     "output_type": "execute_result"
    }
   ],
   "source": [
    "A.row_del(1)\n",
    "A = A.col_insert(1,A.col(2))\n",
    "A"
   ]
  },
  {
   "cell_type": "markdown",
   "metadata": {
    "id": "bSKQcn87ycmx"
   },
   "source": [
    "### Индивидуальное задание\n",
    "Составить матрицу левой части СЛАУ, вектор-столбец переменных, вектор-столбец правой части, вектор-столбец $X_0$. Показать, что $X_0$ является решением данной СЛАУ."
   ]
  },
  {
   "cell_type": "code",
   "execution_count": 12,
   "metadata": {
    "id": "6aU100MX4WX5"
   },
   "outputs": [
    {
     "data": {
      "text/latex": [
       "$\\displaystyle \\left[\\begin{matrix}7 & 7 & 0 & -9 & -3\\\\5 & 2 & 5 & 5 & -9\\\\-2 & -5 & -4 & 0 & 7\\end{matrix}\\right]$"
      ],
      "text/plain": [
       "Matrix([\n",
       "[ 7,  7,  0, -9, -3],\n",
       "[ 5,  2,  5,  5, -9],\n",
       "[-2, -5, -4,  0,  7]])"
      ]
     },
     "execution_count": 12,
     "metadata": {},
     "output_type": "execute_result"
    }
   ],
   "source": [
    "M = Matrix([[7,7,0,-9,-3],[5,2,5,5,-9],[-2,-5,-4,0,7]]) #матрица левой части СЛАУ\n",
    "M"
   ]
  },
  {
   "cell_type": "code",
   "execution_count": 13,
   "metadata": {},
   "outputs": [
    {
     "data": {
      "text/latex": [
       "$\\displaystyle \\left[\\begin{matrix}x_{0}\\\\x_{1}\\\\x_{2}\\\\x_{3}\\\\x_{4}\\end{matrix}\\right]$"
      ],
      "text/plain": [
       "Matrix([\n",
       "[x0],\n",
       "[x1],\n",
       "[x2],\n",
       "[x3],\n",
       "[x4]])"
      ]
     },
     "execution_count": 13,
     "metadata": {},
     "output_type": "execute_result"
    }
   ],
   "source": [
    "X = Matrix(symbols('x:5')) #вектор-столбец переменных\n",
    "X"
   ]
  },
  {
   "cell_type": "code",
   "execution_count": 14,
   "metadata": {},
   "outputs": [
    {
     "data": {
      "text/latex": [
       "$\\displaystyle \\left[\\begin{matrix}-56\\\\-43\\\\23\\end{matrix}\\right]$"
      ],
      "text/plain": [
       "Matrix([\n",
       "[-56],\n",
       "[-43],\n",
       "[ 23]])"
      ]
     },
     "execution_count": 14,
     "metadata": {},
     "output_type": "execute_result"
    }
   ],
   "source": [
    "B = Matrix([-56,-43,23]) # вектор-столбец правой части\n",
    "B"
   ]
  },
  {
   "cell_type": "code",
   "execution_count": 15,
   "metadata": {},
   "outputs": [
    {
     "data": {
      "text/latex": [
       "$\\displaystyle \\left[\\begin{matrix}-8\\\\0\\\\-7\\\\1\\\\-3\\end{matrix}\\right]$"
      ],
      "text/plain": [
       "Matrix([\n",
       "[-8],\n",
       "[ 0],\n",
       "[-7],\n",
       "[ 1],\n",
       "[-3]])"
      ]
     },
     "execution_count": 15,
     "metadata": {},
     "output_type": "execute_result"
    }
   ],
   "source": [
    "X0 = Matrix([-8,0,-7,1,-3]) #вектор-столбец Х0\n",
    "X0"
   ]
  },
  {
   "cell_type": "code",
   "execution_count": 16,
   "metadata": {},
   "outputs": [
    {
     "data": {
      "text/latex": [
       "$\\displaystyle \\left[\\begin{matrix}7 & 7 & 0 & -9 & -3\\\\5 & 2 & 5 & 5 & -9\\\\-2 & -5 & -4 & 0 & 7\\end{matrix}\\right]$"
      ],
      "text/plain": [
       "Matrix([\n",
       "[ 7,  7,  0, -9, -3],\n",
       "[ 5,  2,  5,  5, -9],\n",
       "[-2, -5, -4,  0,  7]])"
      ]
     },
     "metadata": {},
     "output_type": "display_data"
    },
    {
     "name": "stdout",
     "output_type": "stream",
     "text": [
      "*\n"
     ]
    },
    {
     "data": {
      "text/latex": [
       "$\\displaystyle \\left[\\begin{matrix}-8\\\\0\\\\-7\\\\1\\\\-3\\end{matrix}\\right]$"
      ],
      "text/plain": [
       "Matrix([\n",
       "[-8],\n",
       "[ 0],\n",
       "[-7],\n",
       "[ 1],\n",
       "[-3]])"
      ]
     },
     "metadata": {},
     "output_type": "display_data"
    },
    {
     "name": "stdout",
     "output_type": "stream",
     "text": [
      "=\n"
     ]
    },
    {
     "data": {
      "text/latex": [
       "$\\displaystyle \\left[\\begin{matrix}-56\\\\-43\\\\23\\end{matrix}\\right]$"
      ],
      "text/plain": [
       "Matrix([\n",
       "[-56],\n",
       "[-43],\n",
       "[ 23]])"
      ]
     },
     "metadata": {},
     "output_type": "display_data"
    },
    {
     "name": "stdout",
     "output_type": "stream",
     "text": [
      "True\n"
     ]
    }
   ],
   "source": [
    "B1 = M*X0 #При умножении матрицы левой части на столбец Х0 (решение) получается правая часть\n",
    "display(M)\n",
    "print(\"*\")\n",
    "display(X0)\n",
    "print(\"=\")\n",
    "display(B1)\n",
    "print(B == B1) #Если полученный результат равен правой части, то X0 - решение"
   ]
  }
 ],
 "metadata": {
  "colab": {
   "collapsed_sections": [],
   "provenance": []
  },
  "kernelspec": {
   "display_name": "Python 3 (ipykernel)",
   "language": "python",
   "name": "python3"
  },
  "language_info": {
   "codemirror_mode": {
    "name": "ipython",
    "version": 3
   },
   "file_extension": ".py",
   "mimetype": "text/x-python",
   "name": "python",
   "nbconvert_exporter": "python",
   "pygments_lexer": "ipython3",
   "version": "3.9.13"
  }
 },
 "nbformat": 4,
 "nbformat_minor": 1
}
