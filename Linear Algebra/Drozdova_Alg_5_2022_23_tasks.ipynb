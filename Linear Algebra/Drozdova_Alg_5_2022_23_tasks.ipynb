{
 "cells": [
  {
   "cell_type": "code",
   "execution_count": 1,
   "metadata": {
    "id": "49fg3dtG2vqf"
   },
   "outputs": [],
   "source": [
    "from sympy import linsolve, Matrix, S, Symbol, symbols, linear_eq_to_matrix, Eq, zeros, eye\n",
    "from sympy import transpose as T\n",
    "x,y,z, t = symbols(\"x y z t\")"
   ]
  },
  {
   "cell_type": "markdown",
   "metadata": {
    "id": "4GOGKWO62vqj"
   },
   "source": [
    "# Занятие 5\n",
    "# Алгебра\n",
    "\n",
    "##  Прямые и плоскости в пространстве. Уравнения прямых и  плоскостей.\n",
    "### Задание 1.\n",
    "Определить, пересекаются ли плоскости (все сразу). Если пересекаются, найти точку пересечения.\n",
    "\n",
    "Составить СЛАУ в виде списка уравнений, решить с помощью linsolve.\n",
    "\n",
    "Проверить подстановкой координат точки пересечения в уравнения плоскостей, что найденная точка принадлежит каждой из них.\n",
    "\n",
    "$-8x+5y-2z+28=0$\n",
    "\n",
    "$-11x-10y-16z+71=0$\n",
    "\n",
    "$-7x+3y+8z-27=0$."
   ]
  },
  {
   "cell_type": "markdown",
   "metadata": {},
   "source": [
    "Найдём точку пересечения:"
   ]
  },
  {
   "cell_type": "code",
   "execution_count": 2,
   "metadata": {
    "id": "MpIOpWvj2vqn"
   },
   "outputs": [
    {
     "data": {
      "text/latex": [
       "$\\displaystyle \\left( 1, \\  -2, \\  5\\right)$"
      ],
      "text/plain": [
       "(1, -2, 5)"
      ]
     },
     "metadata": {},
     "output_type": "display_data"
    }
   ],
   "source": [
    "System = [-8*x + 5*y - 2*z + 28, -11*x - 10*y - 16*z + 71, -7*x + 3*y + 8*z - 27]\n",
    "point = [*linsolve(System, x, y, z)][0]\n",
    "display(point)"
   ]
  },
  {
   "cell_type": "markdown",
   "metadata": {},
   "source": [
    "Выполним подстановку"
   ]
  },
  {
   "cell_type": "code",
   "execution_count": 3,
   "metadata": {},
   "outputs": [
    {
     "data": {
      "text/plain": [
       "[0, 0, 0]"
      ]
     },
     "metadata": {},
     "output_type": "display_data"
    }
   ],
   "source": [
    "display([i.subs([(x, point[0]), (y, point[1]), (z, point[2])]) for i in System])"
   ]
  },
  {
   "cell_type": "markdown",
   "metadata": {
    "id": "g9NmFR2i2vqn"
   },
   "source": [
    "### Задание 2.\n",
    "Найти точку пересечения плоскости, в которой лежат точки \n",
    "$K(4,3,0)$, $M(2,4,-2)$ и $N(-2,2,-1)$ с прямой, проходящей через точки $A(-3,5,1)$ и $B(5,2,-3)$."
   ]
  },
  {
   "cell_type": "markdown",
   "metadata": {},
   "source": [
    "Составим уравнение плоскости"
   ]
  },
  {
   "cell_type": "code",
   "execution_count": 4,
   "metadata": {
    "id": "0486pLRk2vqp"
   },
   "outputs": [
    {
     "data": {
      "text/latex": [
       "$\\displaystyle - 3 x + 10 y + 8 z - 18 = 0$"
      ],
      "text/plain": [
       "Eq(-3*x + 10*y + 8*z - 18, 0)"
      ]
     },
     "metadata": {},
     "output_type": "display_data"
    }
   ],
   "source": [
    "K = Matrix([4, 3, 0])\n",
    "M = Matrix([2, 4, -2])\n",
    "N = Matrix([-2, 2, -1])\n",
    "X = Matrix([x, y, z])\n",
    "KMN = Eq(Matrix([(X-K).T, (M-K).T, (N-K).T]).det(), 0)\n",
    "display(KMN) "
   ]
  },
  {
   "cell_type": "markdown",
   "metadata": {},
   "source": [
    "Составим уравнение прямой"
   ]
  },
  {
   "cell_type": "code",
   "execution_count": 5,
   "metadata": {},
   "outputs": [
    {
     "data": {
      "text/latex": [
       "$\\displaystyle x = 8 t - 3$"
      ],
      "text/plain": [
       "Eq(x, 8*t - 3)"
      ]
     },
     "metadata": {},
     "output_type": "display_data"
    },
    {
     "data": {
      "text/latex": [
       "$\\displaystyle y = 5 - 3 t$"
      ],
      "text/plain": [
       "Eq(y, 5 - 3*t)"
      ]
     },
     "metadata": {},
     "output_type": "display_data"
    },
    {
     "data": {
      "text/latex": [
       "$\\displaystyle z = 1 - 4 t$"
      ],
      "text/plain": [
       "Eq(z, 1 - 4*t)"
      ]
     },
     "metadata": {},
     "output_type": "display_data"
    }
   ],
   "source": [
    "A = Matrix([-3, 5, 1])\n",
    "B = Matrix([5, 2, -3])\n",
    "AB = A + t*(B-A)\n",
    "AB_sys = [Eq(X[i], AB[i]) for i in range(len(AB))]\n",
    "display(*AB_sys)"
   ]
  },
  {
   "cell_type": "markdown",
   "metadata": {},
   "source": [
    "Найдём координаты точки их пересечения"
   ]
  },
  {
   "cell_type": "code",
   "execution_count": 6,
   "metadata": {},
   "outputs": [
    {
     "data": {
      "text/latex": [
       "$\\displaystyle \\left[\\begin{matrix}\\frac{67}{43}\\\\\\frac{283}{86}\\\\- \\frac{55}{43}\\end{matrix}\\right]$"
      ],
      "text/plain": [
       "Matrix([\n",
       "[ 67/43],\n",
       "[283/86],\n",
       "[-55/43]])"
      ]
     },
     "metadata": {},
     "output_type": "display_data"
    }
   ],
   "source": [
    "AB_sys.append(KMN)\n",
    "display(Matrix(*linsolve(AB_sys,x,y,z,t))[:-1, :])"
   ]
  },
  {
   "cell_type": "markdown",
   "metadata": {
    "id": "Td8dwQaq2vqp"
   },
   "source": [
    "### Задание 3.\n",
    "Составить параметрические уравнения прямой, являющейся линией пересечения плоскостей $𝑦+2𝑧−4=0$ и $4𝑥+3𝑦+2𝑧−4=0$. \n",
    "\n",
    "Указание: составить СЛАУ из уравнений плоскостей, воспользоваться linsolve(), заменить переменную в полученном решении на параметр t и составить СЛАУ из параметрических уравнений."
   ]
  },
  {
   "cell_type": "markdown",
   "metadata": {},
   "source": [
    "Составим СЛАУ и решим"
   ]
  },
  {
   "cell_type": "code",
   "execution_count": 7,
   "metadata": {
    "id": "FkVOyBYI2vqq"
   },
   "outputs": [
    {
     "data": {
      "text/latex": [
       "$\\displaystyle \\left( z - 2, \\  4 - 2 z, \\  z\\right)$"
      ],
      "text/plain": [
       "(z - 2, 4 - 2*z, z)"
      ]
     },
     "metadata": {},
     "output_type": "display_data"
    }
   ],
   "source": [
    "System = [Eq(y + 2*z - 4, 0), Eq(4*x + 3*y + 2*z -4, 0)]\n",
    "display(*linsolve(System, x, y, z))\n",
    "AB = Matrix(*linsolve(System, x, y, z))\n"
   ]
  },
  {
   "cell_type": "markdown",
   "metadata": {},
   "source": [
    "Выполним замену на параметр t и составим СЛАУ"
   ]
  },
  {
   "cell_type": "code",
   "execution_count": 8,
   "metadata": {},
   "outputs": [
    {
     "data": {
      "text/latex": [
       "$\\displaystyle x = t - 2$"
      ],
      "text/plain": [
       "Eq(x, t - 2)"
      ]
     },
     "metadata": {},
     "output_type": "display_data"
    },
    {
     "data": {
      "text/latex": [
       "$\\displaystyle y = 4 - 2 t$"
      ],
      "text/plain": [
       "Eq(y, 4 - 2*t)"
      ]
     },
     "metadata": {},
     "output_type": "display_data"
    },
    {
     "data": {
      "text/latex": [
       "$\\displaystyle z = t$"
      ],
      "text/plain": [
       "Eq(z, t)"
      ]
     },
     "metadata": {},
     "output_type": "display_data"
    }
   ],
   "source": [
    "AB_sys = [Eq(X[i], AB[i].subs(z, t)) for i in range(len(AB))]\n",
    "display(*AB_sys)"
   ]
  },
  {
   "cell_type": "markdown",
   "metadata": {
    "id": "qW-zD7N52vqq"
   },
   "source": [
    "###  Задание 4.\n",
    "Прямая задана параметрическими уравнениями:\n",
    "$$\n",
    "\\left\\{\\begin{matrix}\n",
    "x=2+5t\\\\\n",
    "y=-1-2t\\\\\n",
    "z=4-3t\n",
    "\\end{matrix}\\right..\n",
    "$$\n",
    "Представить прямую в виде линии пересечения двух плоскостей, одна из которых проходит через начало координат, а вторая плоскость перпендикулярна первой плоскости. Вывести на экран уравнения плоскостей.\n",
    "\n",
    "Указание: составить параметрические уравнения прямой в виде списка правых частей уравнений, затем по образцу Примера 5 составить уравнение плоскости, проходящей через начало координат (по трем точкам). Для составления второй плоскости заметим, что вектор нормали к первой плоскости и любой вектор прямой параллельны второй плоскости, поэтому можно применить формулу 4 уравнения плоскости.\n",
    "Вектор нормали можно составить вручную, глядя на уравнение первой плоскости."
   ]
  },
  {
   "cell_type": "markdown",
   "metadata": {},
   "source": [
    "Найдём уравнение первой плоскости через 3 точки"
   ]
  },
  {
   "cell_type": "code",
   "execution_count": 9,
   "metadata": {
    "id": "lr6JUgBP2vqr"
   },
   "outputs": [
    {
     "data": {
      "text/latex": [
       "$\\displaystyle 11 x + 26 y + z = 0$"
      ],
      "text/plain": [
       "Eq(11*x + 26*y + z, 0)"
      ]
     },
     "metadata": {},
     "output_type": "display_data"
    }
   ],
   "source": [
    "O = zeros(3, 1)\n",
    "a = Matrix([2, -1, 4]) + t*Matrix([5, -2, -3])\n",
    "A = a.subs(t, 0)\n",
    "B = a.subs(t, 1)\n",
    "OAB = Matrix([(X-O).T, (A-O).T, (B-O).T]).det()\n",
    "display(Eq(OAB,0))"
   ]
  },
  {
   "cell_type": "markdown",
   "metadata": {},
   "source": [
    "Найдём уравнение второй плоскости через 2 вектора и точку"
   ]
  },
  {
   "cell_type": "code",
   "execution_count": 10,
   "metadata": {},
   "outputs": [
    {
     "data": {
      "text/latex": [
       "$\\displaystyle - 76 x + 38 y - 152 z + 798 = 0$"
      ],
      "text/plain": [
       "Eq(-76*x + 38*y - 152*z + 798, 0)"
      ]
     },
     "metadata": {},
     "output_type": "display_data"
    }
   ],
   "source": [
    "D = OAB.subs([(x, 0), (y, 0), (z, 0)])\n",
    "M = [[1,0,0], [0,1,0], [0,0,1]]\n",
    "n1 = Matrix([OAB.subs([(x, i[0]), (y, i[1]), (z, i[2])])-D for i in M])\n",
    "n2 = a.subs(t, 1) - a.subs(t, 0)\n",
    "#display(n1,n2)\n",
    "n1n2 = Eq(Matrix([(X-a.subs(t, 0)).T, n1.T, n2.T]).det(), 0)\n",
    "display(n1n2)"
   ]
  },
  {
   "cell_type": "markdown",
   "metadata": {},
   "source": [
    "Выполним проверку, найдя прямую пересечения и подставив $4-3t$ вместо $z$"
   ]
  },
  {
   "cell_type": "code",
   "execution_count": 11,
   "metadata": {},
   "outputs": [
    {
     "data": {
      "text/latex": [
       "$\\displaystyle x = 5 t + 2$"
      ],
      "text/plain": [
       "Eq(x, 5*t + 2)"
      ]
     },
     "metadata": {},
     "output_type": "display_data"
    },
    {
     "data": {
      "text/latex": [
       "$\\displaystyle y = - 2 t - 1$"
      ],
      "text/plain": [
       "Eq(y, -2*t - 1)"
      ]
     },
     "metadata": {},
     "output_type": "display_data"
    },
    {
     "data": {
      "text/latex": [
       "$\\displaystyle z = 4 - 3 t$"
      ],
      "text/plain": [
       "Eq(z, 4 - 3*t)"
      ]
     },
     "metadata": {},
     "output_type": "display_data"
    }
   ],
   "source": [
    "AB = Matrix(*linsolve([Eq(OAB,0),n1n2], x, y, z))\n",
    "AB_sys = [Eq(X[i], AB[i].subs(z, 4-3*t)) for i in range(len(AB))]\n",
    "display(*AB_sys)"
   ]
  },
  {
   "cell_type": "markdown",
   "metadata": {
    "id": "fC_Q1C_d2vqr"
   },
   "source": [
    "### Индивидуальное задание\n",
    "Даны три точки $A(-4,2,-1)$, $B(-4,-2,-4)$ и $C(4,-2,-2)$ в пространстве. Составить уравнение плоскости АВС, систему параметрических уравнений прямой АВ и прямой АМ, перпендикулярной плоскости АВС."
   ]
  },
  {
   "cell_type": "markdown",
   "metadata": {},
   "source": [
    "Составим уравнение плоскости АВС по 3 точкам"
   ]
  },
  {
   "cell_type": "code",
   "execution_count": 12,
   "metadata": {
    "id": "z_gDHdjD2vqs"
   },
   "outputs": [
    {
     "data": {
      "text/latex": [
       "$\\displaystyle - 8 x - 24 y + 32 z + 48 = 0$"
      ],
      "text/plain": [
       "Eq(-8*x - 24*y + 32*z + 48, 0)"
      ]
     },
     "metadata": {},
     "output_type": "display_data"
    }
   ],
   "source": [
    "A = Matrix([-4, 2, -1])\n",
    "B = Matrix([-4, -2, -4])\n",
    "C = Matrix([4, -2, -2])\n",
    "X = Matrix([x, y, z])\n",
    "ABC = Matrix([(X-A).T, (B-A).T, (C-A).T]).det()\n",
    "display(Eq(ABC,0))"
   ]
  },
  {
   "cell_type": "markdown",
   "metadata": {},
   "source": [
    "Составим систему параметрических уравнений прямой АВ"
   ]
  },
  {
   "cell_type": "code",
   "execution_count": 13,
   "metadata": {},
   "outputs": [
    {
     "data": {
      "text/latex": [
       "$\\displaystyle x = -4$"
      ],
      "text/plain": [
       "Eq(x, -4)"
      ]
     },
     "metadata": {},
     "output_type": "display_data"
    },
    {
     "data": {
      "text/latex": [
       "$\\displaystyle y = 2 - 4 t$"
      ],
      "text/plain": [
       "Eq(y, 2 - 4*t)"
      ]
     },
     "metadata": {},
     "output_type": "display_data"
    },
    {
     "data": {
      "text/latex": [
       "$\\displaystyle z = - 3 t - 1$"
      ],
      "text/plain": [
       "Eq(z, -3*t - 1)"
      ]
     },
     "metadata": {},
     "output_type": "display_data"
    }
   ],
   "source": [
    "AB = A + t*(B-A)\n",
    "AB_sys = [Eq(X[i], AB[i]) for i in range(len(AB))]\n",
    "display(*AB_sys)"
   ]
  },
  {
   "cell_type": "markdown",
   "metadata": {},
   "source": [
    "Составим систему параметрических уравнений прямой АМ, перпендикулярной плоскости АВС"
   ]
  },
  {
   "cell_type": "code",
   "execution_count": 14,
   "metadata": {},
   "outputs": [
    {
     "data": {
      "text/latex": [
       "$\\displaystyle x = 40 t - 4$"
      ],
      "text/plain": [
       "Eq(x, 40*t - 4)"
      ]
     },
     "metadata": {},
     "output_type": "display_data"
    },
    {
     "data": {
      "text/latex": [
       "$\\displaystyle y = 24 t + 2$"
      ],
      "text/plain": [
       "Eq(y, 24*t + 2)"
      ]
     },
     "metadata": {},
     "output_type": "display_data"
    },
    {
     "data": {
      "text/latex": [
       "$\\displaystyle z = 80 t - 1$"
      ],
      "text/plain": [
       "Eq(z, 80*t - 1)"
      ]
     },
     "metadata": {},
     "output_type": "display_data"
    }
   ],
   "source": [
    "D = OAB.subs([(x, 0), (y, 0), (z, 0)])\n",
    "M = [[1,0,0], [0,1,0], [0,0,1]]\n",
    "n = Matrix([ABC.subs([(x, i[0]), (y, i[1]), (z, i[2])])-D for i in M])\n",
    "AM = A + t * n\n",
    "AM_sys = [Eq(X[i], AM[i]) for i in range(len(AM))]\n",
    "display(*AM_sys)"
   ]
  }
 ],
 "metadata": {
  "colab": {
   "provenance": []
  },
  "kernelspec": {
   "display_name": "Python 3 (ipykernel)",
   "language": "python",
   "name": "python3"
  },
  "language_info": {
   "codemirror_mode": {
    "name": "ipython",
    "version": 3
   },
   "file_extension": ".py",
   "mimetype": "text/x-python",
   "name": "python",
   "nbconvert_exporter": "python",
   "pygments_lexer": "ipython3",
   "version": "3.9.13"
  }
 },
 "nbformat": 4,
 "nbformat_minor": 1
}
