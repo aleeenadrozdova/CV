{
 "cells": [
  {
   "cell_type": "code",
   "execution_count": 10,
   "metadata": {},
   "outputs": [],
   "source": [
    "import numpy as np\n",
    "import sympy\n",
    "from sympy import S, symbols, Function, dsolve, solveset, linsolve, integrate, diff, plot\n",
    "from sympy import sin as Sin\n",
    "from sympy import cos as Cos\n",
    "from sympy import exp as Exp\n",
    "from sympy import log as Log\n",
    "from sympy import pi as Pi\n",
    "import matplotlib.pyplot as plt"
   ]
  },
  {
   "cell_type": "markdown",
   "metadata": {},
   "source": [
    "## Занятие 18\n",
    "## Математический анализ\n",
    "## Линейные ОДУ второго порядка с постоянными коэффициентами\n",
    "### Задача 1\n",
    "Решить ОДУ $3y''+5y'-2y=0$ по формуле из файла с примерами и с помощью dsolve."
   ]
  },
  {
   "cell_type": "code",
   "execution_count": 11,
   "metadata": {},
   "outputs": [
    {
     "data": {
      "text/latex": [
       "$\\displaystyle \\left\\{-2, \\frac{1}{3}\\right\\}$"
      ],
      "text/plain": [
       "{-2, 1/3}"
      ]
     },
     "execution_count": 11,
     "metadata": {},
     "output_type": "execute_result"
    }
   ],
   "source": [
    "x, y, k, C1, C2 = symbols('x y k C_1 C_2')\n",
    "roots = solveset(3*k**2 + 5*k - 2)\n",
    "roots"
   ]
  },
  {
   "cell_type": "code",
   "execution_count": 23,
   "metadata": {},
   "outputs": [],
   "source": [
    "def y(x, C1, C2, lib='sympy'):\n",
    "    if lib == 'sympy':\n",
    "        return C1*Exp(-2*x) + C2*Exp(x*S(1)/3)\n",
    "    if lib == 'numpy':\n",
    "        return C1*np.exp(-2*x) + C2*np.exp(x*S(1)/3)\n",
    "    return 'error'"
   ]
  },
  {
   "cell_type": "code",
   "execution_count": 24,
   "metadata": {},
   "outputs": [
    {
     "data": {
      "text/latex": [
       "$\\displaystyle 0$"
      ],
      "text/plain": [
       "0"
      ]
     },
     "metadata": {},
     "output_type": "display_data"
    },
    {
     "data": {
      "text/latex": [
       "$\\displaystyle C_{1} e^{- 2 x} + C_{2} e^{\\frac{x}{3}}$"
      ],
      "text/plain": [
       "C_1*exp(-2*x) + C_2*exp(x/3)"
      ]
     },
     "metadata": {},
     "output_type": "display_data"
    },
    {
     "data": {
      "text/latex": [
       "$\\displaystyle - 2 C_{1} e^{- 2 x} + \\frac{C_{2} e^{\\frac{x}{3}}}{3}$"
      ],
      "text/plain": [
       "-2*C_1*exp(-2*x) + C_2*exp(x/3)/3"
      ]
     },
     "metadata": {},
     "output_type": "display_data"
    },
    {
     "data": {
      "text/latex": [
       "$\\displaystyle 4 C_{1} e^{- 2 x} + \\frac{C_{2} e^{\\frac{x}{3}}}{9}$"
      ],
      "text/plain": [
       "4*C_1*exp(-2*x) + C_2*exp(x/3)/9"
      ]
     },
     "metadata": {},
     "output_type": "display_data"
    }
   ],
   "source": [
    "display(sympy.collect(3*diff(y(x, C1, C2), x, 2) + 5*diff(y(x, C1, C2), x) - 2*y(x, C1, C2), Exp(S(1)/(3*x))),\n",
    "y(x, C1, C2), diff(y(x, C1, C2), x), diff(y(x, C1, C2), x, 2))"
   ]
  },
  {
   "cell_type": "code",
   "execution_count": 25,
   "metadata": {},
   "outputs": [
    {
     "data": {
      "text/latex": [
       "$\\displaystyle y{\\left(x \\right)} = C_{1} e^{- 2 x} + C_{2} e^{\\frac{x}{3}}$"
      ],
      "text/plain": [
       "Eq(y(x), C1*exp(-2*x) + C2*exp(x/3))"
      ]
     },
     "execution_count": 25,
     "metadata": {},
     "output_type": "execute_result"
    }
   ],
   "source": [
    "y = Function('y')\n",
    "res = dsolve(3*diff(y(x), x, 2) + 5*diff(y(x), x) - 2*y(x), y(x))\n",
    "res"
   ]
  },
  {
   "cell_type": "markdown",
   "metadata": {},
   "source": [
    "### Задача 2.\n",
    "Решить задачу Коши:\n",
    "$$\n",
    "\\left\\{\n",
    "\\begin{matrix}\n",
    "9y''+3y'+y=0\\\\\n",
    "y(0)=0\\\\\n",
    "y'(0)=2\\sqrt3\n",
    "\\end{matrix}\n",
    "\\right.\n",
    "$$\n",
    "##### Указание.\n",
    "Решить с помощью dsolve, затем составить словарь символов решения, ключи - 'x', 'C1', 'C2', а значения - соответствующие элементы из множества  ХХХ.rhs.free_symbols, решить систему линейных относительно С1 и С2 уравнений, описывающих начальные условия."
   ]
  },
  {
   "cell_type": "code",
   "execution_count": 43,
   "metadata": {},
   "outputs": [
    {
     "data": {
      "text/latex": [
       "$\\displaystyle y{\\left(x \\right)} = 12 e^{- \\frac{x}{6}} \\sin{\\left(\\frac{\\sqrt{3} x}{6} \\right)}$"
      ],
      "text/plain": [
       "Eq(y(x), 12*exp(-x/6)*sin(sqrt(3)*x/6))"
      ]
     },
     "metadata": {},
     "output_type": "display_data"
    }
   ],
   "source": [
    "y = Function('y')\n",
    "res = dsolve(9*diff(y(x), x, 2) + 3*diff(y(x), x) + y(x), y(x))\n",
    "y0 = 0\n",
    "dy0 = 2*3**S.Half\n",
    "symb_dict={str(item): item for item in res.rhs.free_symbols}\n",
    "c1, c2 = tuple(linsolve([sympy.Eq(res.rhs.subs(symb_dict['x'], 0), y0), sympy.Eq(res.rhs.diff(x).subs(symb_dict['x'], 0), dy0)], symb_dict['C1'], symb_dict['C2']))[0]\n",
    "display(sympy.Eq(res.lhs, res.rhs.subs({symb_dict['C1']:c1, symb_dict['C2']:c2})))"
   ]
  },
  {
   "cell_type": "markdown",
   "metadata": {},
   "source": [
    "### Индивидуальное задание\n",
    "Решить с помощью dsolve:\n",
    "$$\n",
    "y''' + y'' + y' + y = (-4x^2 - 8x + 2)e^{-x}.\n",
    "$$\n",
    "Построить график $y(x)$ при начальных условиях $y(0) = 0$, $y'(0) = 0$, $y''(0) = 0$."
   ]
  },
  {
   "cell_type": "code",
   "execution_count": 66,
   "metadata": {},
   "outputs": [
    {
     "data": {
      "text/latex": [
       "$\\displaystyle y{\\left(x \\right)} = \\left(- \\frac{4 \\sqrt{3} \\sin{\\left(\\frac{\\sqrt{3} x}{2} \\right)}}{3} - 16 \\cos{\\left(\\frac{\\sqrt{3} x}{2} \\right)}\\right) e^{- \\frac{x}{2}} + 2 \\cdot \\left(2 x^{2} + 12 x + 15\\right) e^{- x} - 14$"
      ],
      "text/plain": [
       "Eq(y(x), (-4*sqrt(3)*sin(sqrt(3)*x/2)/3 - 16*cos(sqrt(3)*x/2))*exp(-x/2) + 2*(2*x**2 + 12*x + 15)*exp(-x) - 14)"
      ]
     },
     "metadata": {},
     "output_type": "display_data"
    },
    {
     "data": {
      "text/plain": [
       "[<matplotlib.lines.Line2D at 0x218979d3460>]"
      ]
     },
     "execution_count": 66,
     "metadata": {},
     "output_type": "execute_result"
    },
    {
     "data": {
      "image/png": "[encoded data removed]",
      "text/plain": [
       "<Figure size 640x480 with 1 Axes>"
      ]
     },
     "metadata": {},
     "output_type": "display_data"
    }
   ],
   "source": [
    "y = Function('y')\n",
    "res = dsolve(sympy.Eq(diff(y(x), x, 3) + diff(y(x), x, 2) + diff(y(x), x), (-4*x**2 - 8*x + 2)*Exp(-x)), y(x))\n",
    "symb_dict={str(item): item for item in res.rhs.free_symbols}\n",
    "c1, c2, c3 = tuple(linsolve([sympy.Eq(res.rhs.subs(symb_dict['x'], 0), 0), \n",
    "                         sympy.Eq(res.rhs.diff(x).subs(symb_dict['x'], 0), 0),\n",
    "                         sympy.Eq(res.rhs.diff(x,2).subs(symb_dict['x'], 0), 0)], \n",
    "                        symb_dict['C1'], symb_dict['C2'], symb_dict['C3']))[0]\n",
    "res0 = res.rhs.subs({symb_dict['C1']:c1, symb_dict['C2']:c2, symb_dict['C3']:c3})\n",
    "display(sympy.Eq(res.lhs, res0))\n",
    "x, y = symbols('x y')\n",
    "X = np.linspace(-4.5, 5, 200)\n",
    "Y = [res0.subs(symb_dict['x'], i)for i in X]\n",
    "plt.plot(X, Y)"
   ]
  }
 ],
 "metadata": {
  "kernelspec": {
   "display_name": "Python 3 (ipykernel)",
   "language": "python",
   "name": "python3"
  },
  "language_info": {
   "codemirror_mode": {
    "name": "ipython",
    "version": 3
   },
   "file_extension": ".py",
   "mimetype": "text/x-python",
   "name": "python",
   "nbconvert_exporter": "python",
   "pygments_lexer": "ipython3",
   "version": "3.9.13"
  }
 },
 "nbformat": 4,
 "nbformat_minor": 2
}
