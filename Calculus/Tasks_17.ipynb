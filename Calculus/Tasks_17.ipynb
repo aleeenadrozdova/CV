{
 "cells": [
  {
   "cell_type": "code",
   "execution_count": 2,
   "metadata": {},
   "outputs": [],
   "source": [
    "import numpy as np\n",
    "import sympy\n",
    "from sympy import S, Symbol, symbols, Function, dsolve, solveset, plot_implicit, integrate, diff, plot\n",
    "from sympy import sin as Sin\n",
    "from sympy import cos as Cos\n",
    "from sympy import exp as Exp\n",
    "from sympy import log as Log\n",
    "from sympy import pi as Pi\n",
    "import matplotlib.pyplot as plt\n",
    "%matplotlib inline"
   ]
  },
  {
   "cell_type": "markdown",
   "metadata": {},
   "source": [
    "## Занятие 17\n",
    "## Математический анализ\n",
    "## Линейные ОДУ второго порядка с постоянными коэффициентами\n",
    "## Задание № 1\n",
    "Решить аналитически ОДУ с разделяющимися переменными\n",
    "$$\n",
    "y'=\\ln(x+2)e^{2-y}.\n",
    "$$\n",
    "Найти общий интеграл. "
   ]
  },
  {
   "cell_type": "code",
   "execution_count": 4,
   "metadata": {},
   "outputs": [
    {
     "data": {
      "text/latex": [
       "$\\displaystyle e^{y - 2} = C + x \\log{\\left(x + 2 \\right)} - x + 2 \\log{\\left(x + 2 \\right)}$"
      ],
      "text/plain": [
       "Eq(exp(y - 2), C + x*log(x + 2) - x + 2*log(x + 2))"
      ]
     },
     "execution_count": 4,
     "metadata": {},
     "output_type": "execute_result"
    }
   ],
   "source": [
    "x, y = symbols('x y', real=True)\n",
    "C = Symbol('C', positive=True)\n",
    "ODE1 = sympy.Eq(integrate(1/Exp(2 - y), y), integrate(Log(x + 2), x) + C)\n",
    "ODE1"
   ]
  },
  {
   "cell_type": "markdown",
   "metadata": {},
   "source": [
    "## Задание № 2\n",
    "Решить аналитически задачу Коши\n",
    "$$\n",
    "y^3y'=\\frac{1}{1+x^2},\\qquad y(0)=1.\n",
    "$$\n",
    "Найти общий интеграл, учесть начальное условие. \n",
    "Построить график $y$, пользуясь plot_implicit."
   ]
  },
  {
   "cell_type": "code",
   "execution_count": 11,
   "metadata": {},
   "outputs": [
    {
     "data": {
      "text/latex": [
       "$\\displaystyle \\frac{y^{4}}{4} = C + \\operatorname{atan}{\\left(x \\right)}$"
      ],
      "text/plain": [
       "Eq(y**4/4, C + atan(x))"
      ]
     },
     "metadata": {},
     "output_type": "display_data"
    },
    {
     "data": {
      "text/latex": [
       "$\\displaystyle \\frac{y^{4}}{4} = \\operatorname{atan}{\\left(x \\right)} + \\frac{1}{4}$"
      ],
      "text/plain": [
       "Eq(y**4/4, atan(x) + 1/4)"
      ]
     },
     "metadata": {},
     "output_type": "display_data"
    },
    {
     "data": {
      "image/png": "[encoded data removed]",
      "text/plain": [
       "<Figure size 640x480 with 1 Axes>"
      ]
     },
     "metadata": {},
     "output_type": "display_data"
    },
    {
     "data": {
      "text/plain": [
       "<sympy.plotting.plot.Plot at 0x138e84dfe20>"
      ]
     },
     "execution_count": 11,
     "metadata": {},
     "output_type": "execute_result"
    }
   ],
   "source": [
    "x, y, C = symbols('x y C', real=True)\n",
    "ODE2 = sympy.Eq(integrate(y**3, y), integrate(S(1)/(1 + x**2), x) + C)\n",
    "display(ODE2)\n",
    "x0y0 = {x: 0, y: 1}\n",
    "Cval = solveset(sympy.Eq(ODE2.lhs.subs(x0y0), ODE2.rhs.subs(x0y0)), C)\n",
    "display(sympy.Eq(ODE2.lhs, ODE2.rhs.subs(C, *Cval)))                \n",
    "plot_implicit(sympy.Eq(ODE2.lhs, ODE2.rhs.subs(C, *Cval)), (x, -2, 5), (y, -3, 3))"
   ]
  },
  {
   "cell_type": "markdown",
   "metadata": {},
   "source": [
    "## Индивидуальное задание\n",
    "Решить задачу Коши аналитически, методом Эйлера и методом Рунге-Кутты. Построить в одной координатной плоскости графики точного и приближенных решений.\n",
    "$$y'(x) = 2\\sqrt[3]xy(x)-6\\sqrt[3]x; \\\\ y(0) = -3$$\n",
    "\n",
    "$$y'(x) = \\sqrt[3]x(2y(x)-6)$$\n",
    "$$\\frac{y'(x)}{2y(x)-6} = \\sqrt[3]x$$\n",
    "$$\\frac{dy}{2y(x)-6} = \\sqrt[3]xdx$$"
   ]
  },
  {
   "cell_type": "code",
   "execution_count": 38,
   "metadata": {},
   "outputs": [
    {
     "data": {
      "text/latex": [
       "$\\displaystyle \\frac{\\log{\\left(2 y - 6 \\right)}}{2} = C + \\frac{3 x^{\\frac{4}{3}}}{4}$"
      ],
      "text/plain": [
       "Eq(log(2*y - 6)/2, C + 3*x**(4/3)/4)"
      ]
     },
     "metadata": {},
     "output_type": "display_data"
    },
    {
     "data": {
      "text/latex": [
       "$\\displaystyle \\emptyset$"
      ],
      "text/plain": [
       "EmptySet"
      ]
     },
     "metadata": {},
     "output_type": "display_data"
    },
    {
     "data": {
      "text/plain": [
       "-3"
      ]
     },
     "metadata": {},
     "output_type": "display_data"
    },
    {
     "data": {
      "text/latex": [
       "$\\displaystyle \\frac{e^{2 C}}{2} + 3$"
      ],
      "text/plain": [
       "exp(2*C)/2 + 3"
      ]
     },
     "metadata": {},
     "output_type": "display_data"
    }
   ],
   "source": [
    "x, y, C = symbols('x y C', real=True)\n",
    "ODE0 = sympy.Eq(integrate(S(1)/(2*y-6), y), integrate(x**(S(1)/3), x) + C)\n",
    "display(ODE0)\n",
    "x0y0 = {x: 0, y: -3}\n",
    "ODE0y = [*solveset(ODE0, y)][0]\n",
    "Cval = solveset(sympy.Eq(x0y0[y], ODE0y.subs(x0y0)), C)\n",
    "display(Cval, x0y0[y], ODE0y.subs(x0y0))"
   ]
  },
  {
   "cell_type": "markdown",
   "metadata": {},
   "source": [
    "Показательная функция всегда положительна, её сумма с 3 не может быть равна -3, значит, у уравнения только общее решение"
   ]
  }
 ],
 "metadata": {
  "kernelspec": {
   "display_name": "Python 3 (ipykernel)",
   "language": "python",
   "name": "python3"
  },
  "language_info": {
   "codemirror_mode": {
    "name": "ipython",
    "version": 3
   },
   "file_extension": ".py",
   "mimetype": "text/x-python",
   "name": "python",
   "nbconvert_exporter": "python",
   "pygments_lexer": "ipython3",
   "version": "3.9.13"
  }
 },
 "nbformat": 4,
 "nbformat_minor": 2
}
