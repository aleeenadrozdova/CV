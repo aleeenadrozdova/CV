{
 "cells": [
  {
   "cell_type": "code",
   "execution_count": 1,
   "metadata": {},
   "outputs": [],
   "source": [
    "import sympy\n",
    "from sympy import Symbol, symbols, S, Function, integrate, Integral, diff, solve"
   ]
  },
  {
   "cell_type": "markdown",
   "metadata": {},
   "source": [
    "## Занятие 9\n",
    "## Математический анализ\n",
    "## Интегрирование функции: первообразная и неопределенный интеграл\n",
    "https://docs.sympy.org/1.5.1/modules/integrals/integrals.html\n",
    "\n",
    "https://ru.wikipedia.org/wiki/%D0%9F%D0%B5%D1%80%D0%B2%D0%BE%D0%BE%D0%B1%D1%80%D0%B0%D0%B7%D0%BD%D0%B0%D1%8F\n",
    "\n",
    "https://ru.wikipedia.org/wiki/%D0%A1%D0%BF%D0%B8%D1%81%D0%BE%D0%BA_%D0%B8%D0%BD%D1%82%D0%B5%D0%B3%D1%80%D0%B0%D0%BB%D0%BE%D0%B2_%D1%8D%D0%BB%D0%B5%D0%BC%D0%B5%D0%BD%D1%82%D0%B0%D1%80%D0%BD%D1%8B%D1%85_%D1%84%D1%83%D0%BD%D0%BA%D1%86%D0%B8%D0%B9"
   ]
  },
  {
   "cell_type": "markdown",
   "metadata": {},
   "source": [
    "### Задача 1.\n",
    "Вычислить определенные интегралы:\n",
    "$$\n",
    "1)\\ \\int_2^3 \\frac{1}{\\sqrt{x-2}},\\ 2) \\int_1^6 \\frac{1}{(x-1)^3},\\ 3)\\ \\int_2^\\infty \\frac{1}{(x-1)^3} \n",
    "$$"
   ]
  },
  {
   "cell_type": "code",
   "execution_count": 2,
   "metadata": {},
   "outputs": [
    {
     "data": {
      "text/latex": [
       "$\\displaystyle 2$"
      ],
      "text/plain": [
       "2"
      ]
     },
     "metadata": {},
     "output_type": "display_data"
    },
    {
     "data": {
      "text/latex": [
       "$\\displaystyle \\infty$"
      ],
      "text/plain": [
       "oo"
      ]
     },
     "metadata": {},
     "output_type": "display_data"
    },
    {
     "data": {
      "text/latex": [
       "$\\displaystyle \\frac{1}{2}$"
      ],
      "text/plain": [
       "1/2"
      ]
     },
     "metadata": {},
     "output_type": "display_data"
    }
   ],
   "source": [
    "x = Symbol('x')\n",
    "display(integrate(sympy.S(1)/(x-2)**(sympy.S.Half), (x, 2, 3)),\n",
    "       integrate(sympy.S(1)/(x-1)**3, (x, 1, 6)),\n",
    "       integrate(sympy.S(1)/(x-1)**3, (x, 2, sympy.oo)))"
   ]
  },
  {
   "cell_type": "markdown",
   "metadata": {},
   "source": [
    "### Задача 2\n",
    "Описать функцию, находящую неопределенный интеграл $\\int f(x)\\,dx$ в виде $F(x)+C$.\n",
    "\n",
    "Использовать эту функцию для интегрирования $\\sin(3x+5)$, $x{\\rm tg}(x^2)$, $(e^{\\sin x})\\cos x$, $x^2e^{x^3}$"
   ]
  },
  {
   "cell_type": "code",
   "execution_count": 3,
   "metadata": {},
   "outputs": [
    {
     "data": {
      "text/latex": [
       "$\\displaystyle \\int \\sin{\\left(3 x + 5 \\right)}\\, dx = C - \\frac{\\cos{\\left(3 x + 5 \\right)}}{3}$"
      ],
      "text/plain": [
       "Eq(Integral(sin(3*x + 5), x), C - cos(3*x + 5)/3)"
      ]
     },
     "metadata": {},
     "output_type": "display_data"
    },
    {
     "data": {
      "text/latex": [
       "$\\displaystyle \\int x \\tan{\\left(x^{2} \\right)}\\, dx = C + \\frac{\\log{\\left(\\tan^{2}{\\left(x^{2} \\right)} + 1 \\right)}}{4}$"
      ],
      "text/plain": [
       "Eq(Integral(x*tan(x**2), x), C + log(tan(x**2)**2 + 1)/4)"
      ]
     },
     "metadata": {},
     "output_type": "display_data"
    },
    {
     "data": {
      "text/latex": [
       "$\\displaystyle \\int e^{\\sin{\\left(x \\right)}} \\cos{\\left(x \\right)}\\, dx = C + e^{\\sin{\\left(x \\right)}}$"
      ],
      "text/plain": [
       "Eq(Integral(exp(sin(x))*cos(x), x), C + exp(sin(x)))"
      ]
     },
     "metadata": {},
     "output_type": "display_data"
    },
    {
     "data": {
      "text/latex": [
       "$\\displaystyle \\int x^{2} e^{x^{3}}\\, dx = C + \\frac{e^{x^{3}}}{3}$"
      ],
      "text/plain": [
       "Eq(Integral(x**2*exp(x**3), x), C + exp(x**3)/3)"
      ]
     },
     "metadata": {},
     "output_type": "display_data"
    }
   ],
   "source": [
    "C = Symbol('C')\n",
    "def antiderivative(f):\n",
    "    return sympy.Eq(Integral(f), f.integrate() + C)\n",
    "display(antiderivative(sympy.sin(3*x+5)), antiderivative(x*sympy.tan(x*x)), \n",
    "        antiderivative(sympy.exp(sympy.sin(x))*sympy.cos(x)), antiderivative(x**2*sympy.exp(x**3)))"
   ]
  },
  {
   "cell_type": "markdown",
   "metadata": {},
   "source": [
    "### Задача 3.\n",
    "Найти первообразную функции $\\frac{x-3}{(x+1)^2}$, график которой проходит через начало координат."
   ]
  },
  {
   "cell_type": "code",
   "execution_count": 4,
   "metadata": {},
   "outputs": [
    {
     "data": {
      "text/latex": [
       "$\\displaystyle \\log{\\left(x + 1 \\right)} - 4 + \\frac{4}{x + 1}$"
      ],
      "text/plain": [
       "log(x + 1) - 4 + 4/(x + 1)"
      ]
     },
     "metadata": {},
     "output_type": "display_data"
    }
   ],
   "source": [
    "F = integrate((x-3)/(x+1)**2, x) + C\n",
    "Const = solve(F.subs(x, 0), C)[0]\n",
    "display(F.subs(C, Const))"
   ]
  },
  {
   "cell_type": "markdown",
   "metadata": {},
   "source": [
    "### Задача 4.\n",
    "Описать функцию, вычисляющую неопределенный интеграл от $\\frac{1}{\\sqrt{x^2+a}}$ по формуле \"длинного логарифма\":\n",
    "$$\n",
    "\\int\\frac{1}{\\sqrt{x^2+a}} = \\ln|x + \\sqrt{x^2 + a}| + C,\\quad a \\neq 0. \n",
    "$$\n",
    "Функция возвращает $\\ln|x| + C$ при $a = 0$. Аргументы функции - переменная интегрирования $x$ и параметр $a$.\n",
    "\n",
    "Вызвать функцию при $a = 0, 1, 4$. Сравнить с результатом integrate.\n",
    "\n",
    "Проверить дифференцированием, при необходимости использовать simplyfy для того, чтобы упростить выражение.\n",
    "\n",
    "Рекомендется создавать положительные символы, чтобы не было неоднозначности."
   ]
  },
  {
   "cell_type": "code",
   "execution_count": 8,
   "metadata": {},
   "outputs": [
    {
     "data": {
      "text/latex": [
       "$\\displaystyle \\int \\frac{1}{\\sqrt{x^{2}}}\\, dx = C + \\log{\\left(\\left|{x}\\right| \\right)}$"
      ],
      "text/plain": [
       "Eq(Integral(1/sqrt(x**2), x), C + log(Abs(x)))"
      ]
     },
     "metadata": {},
     "output_type": "display_data"
    },
    {
     "data": {
      "text/latex": [
       "$\\displaystyle \\int \\frac{1}{\\sqrt{x^{2} + 1}}\\, dx = C + \\log{\\left(\\left|{x + \\left(x^{2} + 1\\right)^{0.5}}\\right| \\right)}$"
      ],
      "text/plain": [
       "Eq(Integral(1/sqrt(x**2 + 1), x), C + log(Abs(x + (x**2 + 1)**0.5)))"
      ]
     },
     "metadata": {},
     "output_type": "display_data"
    },
    {
     "data": {
      "text/latex": [
       "$\\displaystyle \\int \\frac{1}{\\sqrt{x^{2} + 4}}\\, dx = C + \\log{\\left(\\left|{x + \\left(x^{2} + 4\\right)^{0.5}}\\right| \\right)}$"
      ],
      "text/plain": [
       "Eq(Integral(1/sqrt(x**2 + 4), x), C + log(Abs(x + (x**2 + 4)**0.5)))"
      ]
     },
     "metadata": {},
     "output_type": "display_data"
    },
    {
     "data": {
      "text/latex": [
       "$\\displaystyle \\int \\frac{1}{\\sqrt{x^{2}}}\\, dx = C + \\log{\\left(\\sqrt{x^{2}} \\right)}$"
      ],
      "text/plain": [
       "Eq(Integral(1/sqrt(x**2), x), C + log(sqrt(x**2)))"
      ]
     },
     "metadata": {},
     "output_type": "display_data"
    },
    {
     "data": {
      "text/latex": [
       "$\\displaystyle \\int \\frac{1}{\\sqrt{x^{2} + 1}}\\, dx = C + \\operatorname{asinh}{\\left(x \\right)}$"
      ],
      "text/plain": [
       "Eq(Integral(1/sqrt(x**2 + 1), x), C + asinh(x))"
      ]
     },
     "metadata": {},
     "output_type": "display_data"
    },
    {
     "data": {
      "text/latex": [
       "$\\displaystyle \\int \\frac{1}{\\sqrt{x^{2} + 4}}\\, dx = C + \\operatorname{asinh}{\\left(\\frac{x}{2} \\right)}$"
      ],
      "text/plain": [
       "Eq(Integral(1/sqrt(x**2 + 4), x), C + asinh(x/2))"
      ]
     },
     "metadata": {},
     "output_type": "display_data"
    }
   ],
   "source": [
    "def integral_log(x, a):\n",
    "    if a == 0:\n",
    "        return sympy.Eq(Integral(sympy.S(1)/(x**2 + a)**(sympy.S.Half)), sympy.ln(abs(x))+C)\n",
    "    return sympy.Eq(Integral(sympy.S(1)/(x**2 + a)**(sympy.S.Half)),sympy.ln(abs(x+(x**2+a)**(1/2)))+C)\n",
    "a = Symbol('a')\n",
    "a_list = [0, 1, 4]\n",
    "display(*[integral_log(x, k) for k in a_list])\n",
    "display(*[antiderivative(sympy.S(1)/(x**2 + k)**(sympy.S.Half)) for k in a_list])"
   ]
  },
  {
   "cell_type": "markdown",
   "metadata": {},
   "source": [
    "### Задача 5.\n",
    "Провести замену переменной $y = x^2$ в интеграле $\\int x e^{x^2}\\,dx$."
   ]
  },
  {
   "cell_type": "code",
   "execution_count": 9,
   "metadata": {},
   "outputs": [
    {
     "data": {
      "text/latex": [
       "$\\displaystyle \\int x e^{x^{2}}\\, dx = \\int \\frac{e^{y}}{2}\\, dy$"
      ],
      "text/plain": [
       "Eq(Integral(x*exp(x**2), x), Integral(exp(y)/2, y))"
      ]
     },
     "metadata": {},
     "output_type": "display_data"
    }
   ],
   "source": [
    "y = Symbol('y', positive=True)\n",
    "I1 = Integral(x*sympy.exp(x**2))\n",
    "display(sympy.Eq(I1, I1.transform(x**2, y)))"
   ]
  },
  {
   "cell_type": "markdown",
   "metadata": {},
   "source": [
    "### Индивидуальное задание\n",
    "Провести замену переменных в определенном интеграле, представить результат в виде двух уравнений, как в примере:\n",
    "\\begin{align*}\n",
    "\\int_1^4 \\frac{dx}{\\sqrt{x}\\left(\\sqrt{x}+1\\right)} = \\int_1^2 \\frac{2\\,dy}{y + 1}\\\\\n",
    "\\int_1^2 \\frac{2\\,dy}{y + 1} = 2(\\ln 3 - \\ln 2)\n",
    "\\end{align*}\n",
    "(с точностью до перестановки слагаемых и сомножителей)\n",
    "$$\\int\\limits_{\\frac{\\pi}{6}}^{\\frac{\\pi}{3}} \\frac{\\cos{\\left(x \\right)}}{\\sin{\\left(x \\right)}}\\, dx$$\n",
    "замена $y = \\sin{\\left(x \\right)}$"
   ]
  },
  {
   "cell_type": "code",
   "execution_count": 7,
   "metadata": {},
   "outputs": [
    {
     "data": {
      "text/latex": [
       "$\\displaystyle \\int\\limits_{\\frac{\\pi}{6}}^{\\frac{\\pi}{3}} \\frac{\\cos{\\left(x \\right)}}{\\sin{\\left(x \\right)}}\\, dx = \\int\\limits_{\\frac{1}{2}}^{\\frac{\\sqrt{3}}{2}} \\frac{1}{y}\\, dy$"
      ],
      "text/plain": [
       "Eq(Integral(cos(x)/sin(x), (x, pi/6, pi/3)), Integral(1/y, (y, 1/2, sqrt(3)/2)))"
      ]
     },
     "metadata": {},
     "output_type": "display_data"
    },
    {
     "data": {
      "text/latex": [
       "$\\displaystyle \\int\\limits_{\\frac{1}{2}}^{\\frac{\\sqrt{3}}{2}} \\frac{1}{y}\\, dy = \\log{\\left(\\frac{\\sqrt{3}}{2} \\right)} + \\log{\\left(2 \\right)}$"
      ],
      "text/plain": [
       "Eq(Integral(1/y, (y, 1/2, sqrt(3)/2)), log(sqrt(3)/2) + log(2))"
      ]
     },
     "metadata": {},
     "output_type": "display_data"
    }
   ],
   "source": [
    "y = Symbol('y')\n",
    "I = Integral(sympy.cos(x)/sympy.sin(x), (x, sympy.pi/6, sympy.pi/3))\n",
    "I_y = I.transform(sympy.sin(x), y)\n",
    "display(sympy.Eq(I, I_y), sympy.Eq(I.transform(sympy.sin(x), y), integrate(sympy.cos(x)/sympy.sin(x), (x, sympy.pi/6, sympy.pi/3))))\n"
   ]
  }
 ],
 "metadata": {
  "kernelspec": {
   "display_name": "Python 3 (ipykernel)",
   "language": "python",
   "name": "python3"
  },
  "language_info": {
   "codemirror_mode": {
    "name": "ipython",
    "version": 3
   },
   "file_extension": ".py",
   "mimetype": "text/x-python",
   "name": "python",
   "nbconvert_exporter": "python",
   "pygments_lexer": "ipython3",
   "version": "3.9.13"
  }
 },
 "nbformat": 4,
 "nbformat_minor": 2
}
