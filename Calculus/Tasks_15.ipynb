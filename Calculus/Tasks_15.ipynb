{
 "cells": [
  {
   "cell_type": "code",
   "execution_count": 13,
   "metadata": {},
   "outputs": [],
   "source": [
    "import sympy\n",
    "from sympy import S, Symbol, symbols, simplify, nonlinsolve, Matrix, diff, factor"
   ]
  },
  {
   "cell_type": "markdown",
   "metadata": {},
   "source": [
    "## Занятие 15\n",
    "## Математический анализ\n",
    "## Экстремум функции нескольких переменных \n",
    "### Задание 1\n",
    "Найти точки экстремума:\n",
    "\n",
    "1) $z = x^2 + xy + y^2 - 2x - y$\n",
    "\n",
    "2) $z = x^3y^2(6 - x - y)$, $(x, y > 0)$\n",
    "\n",
    "3) $z = \\frac{8}{x} + \\frac{x}{y} + y$\n",
    "\n",
    "4) $z = \\frac{1 + x - y}{\\sqrt{1 + x^2 + y^2}}$\n",
    "###### Указание.\n",
    "Вначале найти стационарные точки. Составить определитель из вторых производных в произвольной точке. Подставляя найденные (вещественные) стационарные точки, решить вопрос о наличии экстремума."
   ]
  },
  {
   "cell_type": "code",
   "execution_count": 15,
   "metadata": {},
   "outputs": [
    {
     "data": {
      "text/latex": [
       "$\\displaystyle z = x^{2} + x y - 2 x + y^{2} - y$"
      ],
      "text/plain": [
       "Eq(z, x**2 + x*y - 2*x + y**2 - y)"
      ]
     },
     "metadata": {},
     "output_type": "display_data"
    },
    {
     "data": {
      "text/plain": [
       "'stat_points:'"
      ]
     },
     "metadata": {},
     "output_type": "display_data"
    },
    {
     "data": {
      "text/latex": [
       "$\\displaystyle \\left( 1, \\  0\\right)$"
      ],
      "text/plain": [
       "(1, 0)"
      ]
     },
     "metadata": {},
     "output_type": "display_data"
    },
    {
     "data": {
      "text/plain": [
       "'minimum'"
      ]
     },
     "metadata": {},
     "output_type": "display_data"
    },
    {
     "data": {
      "text/latex": [
       "$\\displaystyle \\left( 1, \\  0\\right)$"
      ],
      "text/plain": [
       "(1, 0)"
      ]
     },
     "metadata": {},
     "output_type": "display_data"
    },
    {
     "data": {
      "text/latex": [
       "$\\displaystyle -1$"
      ],
      "text/plain": [
       "-1"
      ]
     },
     "metadata": {},
     "output_type": "display_data"
    },
    {
     "name": "stdout",
     "output_type": "stream",
     "text": [
      "\n"
     ]
    },
    {
     "data": {
      "text/latex": [
       "$\\displaystyle z = \\frac{x}{y} + y + \\frac{8}{x}$"
      ],
      "text/plain": [
       "Eq(z, x/y + y + 8/x)"
      ]
     },
     "metadata": {},
     "output_type": "display_data"
    },
    {
     "data": {
      "text/plain": [
       "'stat_points:'"
      ]
     },
     "metadata": {},
     "output_type": "display_data"
    },
    {
     "data": {
      "text/latex": [
       "$\\displaystyle \\left( 4, \\  2\\right)$"
      ],
      "text/plain": [
       "(4, 2)"
      ]
     },
     "metadata": {},
     "output_type": "display_data"
    },
    {
     "data": {
      "text/latex": [
       "$\\displaystyle \\left( \\left(-1 + \\sqrt{3} i\\right)^{2}, \\  -1 + \\sqrt{3} i\\right)$"
      ],
      "text/plain": [
       "((-1 + sqrt(3)*I)**2, -1 + sqrt(3)*I)"
      ]
     },
     "metadata": {},
     "output_type": "display_data"
    },
    {
     "data": {
      "text/latex": [
       "$\\displaystyle \\left( \\left(-1 - \\sqrt{3} i\\right)^{2}, \\  -1 - \\sqrt{3} i\\right)$"
      ],
      "text/plain": [
       "((-1 - sqrt(3)*I)**2, -1 - sqrt(3)*I)"
      ]
     },
     "metadata": {},
     "output_type": "display_data"
    },
    {
     "data": {
      "text/plain": [
       "'minimum'"
      ]
     },
     "metadata": {},
     "output_type": "display_data"
    },
    {
     "data": {
      "text/latex": [
       "$\\displaystyle \\left( 4, \\  2\\right)$"
      ],
      "text/plain": [
       "(4, 2)"
      ]
     },
     "metadata": {},
     "output_type": "display_data"
    },
    {
     "data": {
      "text/latex": [
       "$\\displaystyle 6$"
      ],
      "text/plain": [
       "6"
      ]
     },
     "metadata": {},
     "output_type": "display_data"
    },
    {
     "name": "stdout",
     "output_type": "stream",
     "text": [
      "\n"
     ]
    },
    {
     "data": {
      "text/latex": [
       "$\\displaystyle z = \\frac{x - y + 1}{\\sqrt{x^{2} + y^{2} + 1}}$"
      ],
      "text/plain": [
       "Eq(z, (x - y + 1)/sqrt(x**2 + y**2 + 1))"
      ]
     },
     "metadata": {},
     "output_type": "display_data"
    },
    {
     "data": {
      "text/plain": [
       "'stat_points:'"
      ]
     },
     "metadata": {},
     "output_type": "display_data"
    },
    {
     "data": {
      "text/latex": [
       "$\\displaystyle \\left( 1, \\  -1\\right)$"
      ],
      "text/plain": [
       "(1, -1)"
      ]
     },
     "metadata": {},
     "output_type": "display_data"
    },
    {
     "data": {
      "text/plain": [
       "'maximum'"
      ]
     },
     "metadata": {},
     "output_type": "display_data"
    },
    {
     "data": {
      "text/latex": [
       "$\\displaystyle \\left( 1, \\  -1\\right)$"
      ],
      "text/plain": [
       "(1, -1)"
      ]
     },
     "metadata": {},
     "output_type": "display_data"
    },
    {
     "data": {
      "text/latex": [
       "$\\displaystyle \\sqrt{3}$"
      ],
      "text/plain": [
       "sqrt(3)"
      ]
     },
     "metadata": {},
     "output_type": "display_data"
    },
    {
     "name": "stdout",
     "output_type": "stream",
     "text": [
      "\n"
     ]
    },
    {
     "data": {
      "text/latex": [
       "$\\displaystyle z = x^{3} y^{2} \\left(- x - y + 6\\right)$"
      ],
      "text/plain": [
       "Eq(z, x**3*y**2*(-x - y + 6))"
      ]
     },
     "metadata": {},
     "output_type": "display_data"
    },
    {
     "data": {
      "text/plain": [
       "'stat_points:'"
      ]
     },
     "metadata": {},
     "output_type": "display_data"
    },
    {
     "data": {
      "text/latex": [
       "$\\displaystyle \\left( 0, \\  y\\right)$"
      ],
      "text/plain": [
       "(0, y)"
      ]
     },
     "metadata": {},
     "output_type": "display_data"
    },
    {
     "data": {
      "text/latex": [
       "$\\displaystyle \\left( x, \\  0\\right)$"
      ],
      "text/plain": [
       "(x, 0)"
      ]
     },
     "metadata": {},
     "output_type": "display_data"
    },
    {
     "data": {
      "text/plain": [
       "'x, y > 0 so no stat_points'"
      ]
     },
     "metadata": {},
     "output_type": "display_data"
    }
   ],
   "source": [
    "x, y, z = symbols('x y z', positive=True)\n",
    "list_z = [x**2 + x*y + y**2 - 2*x - y, 8/x + x/y + y, (1 + x - y)/(1 + x**2 + y**2)**S.Half]\n",
    "\n",
    "\n",
    "def Delta(u, x, y):\n",
    "    return Matrix([[u.diff(x, 2), u.diff(x, y)], \n",
    "                [u.diff(y, x), u.diff(y, 2)]]).det()\n",
    "\n",
    "def stat_points(u, x, y):\n",
    "    stat_points = nonlinsolve([simplify(u.diff(x)), simplify(u.diff(y))], [x, y]) \n",
    "    display('stat_points:', *stat_points)\n",
    "    return stat_points\n",
    "\n",
    "def max_or_min(u):\n",
    "    x, y, z = symbols('x y z', positive=True)\n",
    "    for point in stat_points(u, x, y):\n",
    "        x0, y0 = point \n",
    "        if x0.is_real and y0.is_real:\n",
    "            if Delta(u, x, y).subs({x: x0, y: y0}) > 0:\n",
    "                A = u.diff(x, 2).subs({x: x0, y: y0})\n",
    "                B = u.diff(y, 2).subs({x: x0, y: y0})\n",
    "                if A > 0 or B > 0:\n",
    "                    display('minimum', point, u.subs({x: x0, y: y0}))\n",
    "                elif A < 0 or B < 0:\n",
    "                    display('maximum', point, u.subs({x: x0, y: y0}))\n",
    "for z_eq in list_z:\n",
    "    display(sympy.Eq(z, z_eq))\n",
    "    max_or_min(z_eq)\n",
    "    print('')\n",
    "    \n",
    "u = x**3*y**2*(6 - x - y)\n",
    "display(sympy.Eq(z, u))\n",
    "stat_points(u, x, y)\n",
    "display('x, y > 0 so no stat_points')\n"
   ]
  },
  {
   "cell_type": "markdown",
   "metadata": {},
   "source": [
    "### Задание 2.\n",
    "С помощью метода Лагранжа найти условный экстремум функции\n",
    "$z = x + 2y$ при условии $x^2 + y^2 = 5$."
   ]
  },
  {
   "cell_type": "code",
   "execution_count": 3,
   "metadata": {},
   "outputs": [
    {
     "data": {
      "text/latex": [
       "$\\displaystyle \\left\\{\\left( -1, \\  -2, \\  \\frac{1}{2}\\right), \\left( 1, \\  2, \\  - \\frac{1}{2}\\right)\\right\\}$"
      ],
      "text/plain": [
       "{(-1, -2, 1/2), (1, 2, -1/2)}"
      ]
     },
     "metadata": {},
     "output_type": "display_data"
    },
    {
     "data": {
      "text/latex": [
       "$\\displaystyle 2 \\lambda \\left(dx^{2} + dy^{2}\\right)$"
      ],
      "text/plain": [
       "2*lamda*(dx^2 + dy^2)"
      ]
     },
     "execution_count": 3,
     "metadata": {},
     "output_type": "execute_result"
    }
   ],
   "source": [
    "x, y, lam = symbols('x y lamda')# нужны символы без ограничений по знаку!\n",
    "varrs = [x, y, lam]\n",
    "f = x + 2*y\n",
    "restriction = x**2 + y**2 - 5\n",
    "L = f + lam*restriction\n",
    "stat_points = nonlinsolve([L.diff(var)for var in varrs], varrs)\n",
    "display(stat_points)\n",
    "dx, dy, dx2, dy2 = symbols('dx dy dx^2 dy^2')\n",
    "d2L = L.diff(x,2)*dx2 + 2*L.diff(x,y)*dx*dy + L.diff(y,2)*dy2\n",
    "factor(d2L)"
   ]
  },
  {
   "cell_type": "markdown",
   "metadata": {},
   "source": [
    "При $\\lambda>0$ второй дифференциал положителен, при $\\lambda<0$ отрицателен, поэтому точка $(1,2)$ - точка локального максимума, $(-1,-2)$ - точка локального минимума.\n",
    "\n",
    "Найдем максимальное и минимальное значение функции $z = x + 2y$ при условии $x^2 + y^2 = 5$:"
   ]
  },
  {
   "cell_type": "code",
   "execution_count": 5,
   "metadata": {},
   "outputs": [
    {
     "data": {
      "text/latex": [
       "$\\displaystyle \\lambda = \\frac{1}{2}$"
      ],
      "text/plain": [
       "Eq(lamda, 1/2)"
      ]
     },
     "metadata": {},
     "output_type": "display_data"
    },
    {
     "data": {
      "text/latex": [
       "$\\displaystyle \\left( -1, \\  -2\\right)$"
      ],
      "text/plain": [
       "(-1, -2)"
      ]
     },
     "metadata": {},
     "output_type": "display_data"
    },
    {
     "data": {
      "text/latex": [
       "$\\displaystyle z = -5$"
      ],
      "text/plain": [
       "Eq(z, -5)"
      ]
     },
     "metadata": {},
     "output_type": "display_data"
    },
    {
     "data": {
      "text/latex": [
       "$\\displaystyle \\lambda = - \\frac{1}{2}$"
      ],
      "text/plain": [
       "Eq(lamda, -1/2)"
      ]
     },
     "metadata": {},
     "output_type": "display_data"
    },
    {
     "data": {
      "text/latex": [
       "$\\displaystyle \\left( 1, \\  2\\right)$"
      ],
      "text/plain": [
       "(1, 2)"
      ]
     },
     "metadata": {},
     "output_type": "display_data"
    },
    {
     "data": {
      "text/latex": [
       "$\\displaystyle z = 5$"
      ],
      "text/plain": [
       "Eq(z, 5)"
      ]
     },
     "metadata": {},
     "output_type": "display_data"
    }
   ],
   "source": [
    "z = Symbol('z')\n",
    "for point in stat_points:\n",
    "    display(sympy.Eq(lam, point[-1]), point[:-1], sympy.Eq(z, f.subs({var: point[j] for j, var in enumerate(varrs)})))"
   ]
  },
  {
   "cell_type": "markdown",
   "metadata": {},
   "source": [
    "### Задание 3.\n",
    "С помощью метода Лагранжа найти условный экстремум функции\n",
    "$z=x^2+y^2$ при условии $\\frac{x}{2}+\\frac{y}{3}=1$."
   ]
  },
  {
   "cell_type": "code",
   "execution_count": 6,
   "metadata": {},
   "outputs": [
    {
     "data": {
      "text/latex": [
       "$\\displaystyle \\left\\{\\left( \\frac{18}{13}, \\  \\frac{12}{13}, \\  - \\frac{72}{13}\\right)\\right\\}$"
      ],
      "text/plain": [
       "{(18/13, 12/13, -72/13)}"
      ]
     },
     "metadata": {},
     "output_type": "display_data"
    },
    {
     "name": "stdout",
     "output_type": "stream",
     "text": [
      "Второй дифференциал положителен всегда, поэтому это точка минимума\n"
     ]
    },
    {
     "data": {
      "text/latex": [
       "$\\displaystyle \\lambda = - \\frac{72}{13}$"
      ],
      "text/plain": [
       "Eq(lamda, -72/13)"
      ]
     },
     "metadata": {},
     "output_type": "display_data"
    },
    {
     "data": {
      "text/latex": [
       "$\\displaystyle \\left( \\frac{18}{13}, \\  \\frac{12}{13}\\right)$"
      ],
      "text/plain": [
       "(18/13, 12/13)"
      ]
     },
     "metadata": {},
     "output_type": "display_data"
    },
    {
     "data": {
      "text/latex": [
       "$\\displaystyle z = \\frac{36}{13}$"
      ],
      "text/plain": [
       "Eq(z, 36/13)"
      ]
     },
     "metadata": {},
     "output_type": "display_data"
    }
   ],
   "source": [
    "x, y, lam = symbols('x y lamda')\n",
    "varrs = [x, y, lam]\n",
    "f = x**2 + y**2\n",
    "restriction = x/2 + y/3 - 1\n",
    "L = f + lam*restriction\n",
    "stat_points = nonlinsolve([L.diff(var)for var in varrs], varrs)\n",
    "display(stat_points)\n",
    "dx, dy, dx2, dy2 = symbols('dx dy dx^2 dy^2')\n",
    "d2L = L.diff(x,2)*dx2 + 2*L.diff(x,y)*dx*dy + L.diff(y,2)*dy2\n",
    "factor(d2L)\n",
    "print(\"Второй дифференциал положителен всегда, поэтому это точка минимума\")\n",
    "z = Symbol('z')\n",
    "for point in stat_points:\n",
    "    display(sympy.Eq(lam, point[-1]), point[:-1], sympy.Eq(z, f.subs({var: point[j] for j, var in enumerate(varrs)})))"
   ]
  },
  {
   "cell_type": "markdown",
   "metadata": {},
   "source": [
    "### Задание 4.\n",
    "С помощью метода Лагранжа найти экстремум функции $u = x - 2y + 2z$ при условии $x^2 + y^2 + z^2 = 9$."
   ]
  },
  {
   "cell_type": "code",
   "execution_count": 9,
   "metadata": {
    "scrolled": true
   },
   "outputs": [
    {
     "data": {
      "text/latex": [
       "$\\displaystyle \\left\\{\\left( -1, \\  2, \\  -2, \\  \\frac{1}{2}\\right), \\left( 1, \\  -2, \\  2, \\  - \\frac{1}{2}\\right)\\right\\}$"
      ],
      "text/plain": [
       "{(-1, 2, -2, 1/2), (1, -2, 2, -1/2)}"
      ]
     },
     "metadata": {},
     "output_type": "display_data"
    },
    {
     "data": {
      "text/latex": [
       "$\\displaystyle 2 dx^{2} \\lambda + 2 dy^{2} \\lambda + 2 dz^{2} \\lambda$"
      ],
      "text/plain": [
       "2*dx^2*lamda + 2*dy^2*lamda + 2*dz^2*lamda"
      ]
     },
     "metadata": {},
     "output_type": "display_data"
    }
   ],
   "source": [
    "x, y, z, lam = symbols('x y z lamda')\n",
    "varrs = [x, y, z, lam]\n",
    "u = x - 2*y + 2*z\n",
    "restriction = x**2 + y**2 + z**2 - 9\n",
    "L = u + lam*restriction\n",
    "stat_points = nonlinsolve([L.diff(var)for var in varrs], varrs)\n",
    "display(stat_points)\n",
    "dx, dy, dz, dx2, dy2, dz2 = symbols('dx dy dz dx^2 dy^2 dz^2')\n",
    "d2L = 0\n",
    "diffs = {x: (dx, dx2), y: (dy, dy2), z: (dz, dz2)}\n",
    "for i, var in enumerate(varrs[:-1]):\n",
    "    d2L += L.diff(var, 2)*diffs[var][1]\n",
    "    for j in range(i + 1, 3):\n",
    "        d2L += 2*L.diff(var, varrs[j])*diffs[var][0]*diffs[varrs[j]][0]\n",
    "display(d2L)\n"
   ]
  },
  {
   "cell_type": "markdown",
   "metadata": {},
   "source": [
    "При $\\lambda>0$ второй дифференциал положителен, при $\\lambda<0$ отрицателен, поэтому точка $(1,-2,2)$ - точка локального максимума,  $(-1,2,-2)$ - точка локального минимума.\n",
    "\n",
    "Найдем максимальное и минимальное значение функции $u = x - 2y + 2z$ при условии $x^2 + y^2 + z^2 = 9$:"
   ]
  },
  {
   "cell_type": "code",
   "execution_count": 10,
   "metadata": {},
   "outputs": [
    {
     "data": {
      "text/latex": [
       "$\\displaystyle \\lambda = \\frac{1}{2}$"
      ],
      "text/plain": [
       "Eq(lamda, 1/2)"
      ]
     },
     "metadata": {},
     "output_type": "display_data"
    },
    {
     "data": {
      "text/latex": [
       "$\\displaystyle \\left( -1, \\  2, \\  -2\\right)$"
      ],
      "text/plain": [
       "(-1, 2, -2)"
      ]
     },
     "metadata": {},
     "output_type": "display_data"
    },
    {
     "data": {
      "text/latex": [
       "$\\displaystyle u = -9$"
      ],
      "text/plain": [
       "Eq(u, -9)"
      ]
     },
     "metadata": {},
     "output_type": "display_data"
    },
    {
     "data": {
      "text/latex": [
       "$\\displaystyle \\lambda = - \\frac{1}{2}$"
      ],
      "text/plain": [
       "Eq(lamda, -1/2)"
      ]
     },
     "metadata": {},
     "output_type": "display_data"
    },
    {
     "data": {
      "text/latex": [
       "$\\displaystyle \\left( 1, \\  -2, \\  2\\right)$"
      ],
      "text/plain": [
       "(1, -2, 2)"
      ]
     },
     "metadata": {},
     "output_type": "display_data"
    },
    {
     "data": {
      "text/latex": [
       "$\\displaystyle u = 9$"
      ],
      "text/plain": [
       "Eq(u, 9)"
      ]
     },
     "metadata": {},
     "output_type": "display_data"
    }
   ],
   "source": [
    "uu = Symbol('u')\n",
    "for point in stat_points:\n",
    "    display(sympy.Eq(lam, point[-1]), point[:-1], sympy.Eq(uu, u.subs({var: point[j] for j, var in enumerate(varrs)})))"
   ]
  },
  {
   "cell_type": "markdown",
   "metadata": {},
   "source": [
    "### Индивидуальное задание\n",
    "Найти точки экстремума $f(x, y, z) = 5x^2 − xy − 2xz + 2y^2 + 3yz + 5y + 2z^2 + 3z$"
   ]
  },
  {
   "cell_type": "code",
   "execution_count": 11,
   "metadata": {},
   "outputs": [
    {
     "data": {
      "text/latex": [
       "$\\displaystyle \\left( - \\frac{5}{62}, \\  - \\frac{48}{31}, \\  \\frac{23}{62}\\right)$"
      ],
      "text/plain": [
       "(-5/62, -48/31, 23/62)"
      ]
     },
     "metadata": {},
     "output_type": "display_data"
    },
    {
     "data": {
      "text/plain": [
       "'minimum'"
      ]
     },
     "metadata": {},
     "output_type": "display_data"
    },
    {
     "data": {
      "text/latex": [
       "$\\displaystyle \\left( - \\frac{5}{62}, \\  - \\frac{48}{31}, \\  \\frac{23}{62}\\right)$"
      ],
      "text/plain": [
       "(-5/62, -48/31, 23/62)"
      ]
     },
     "metadata": {},
     "output_type": "display_data"
    },
    {
     "data": {
      "text/latex": [
       "$\\displaystyle - \\frac{411}{124}$"
      ],
      "text/plain": [
       "-411/124"
      ]
     },
     "metadata": {},
     "output_type": "display_data"
    }
   ],
   "source": [
    "x, y, z = symbols('x y z', positive=True)\n",
    "u = 5*x**2 - x*y - 2*x*z + 2*y**2 + 3*y*z + 5*y + 2*z**2 + 3*z\n",
    "stat_points = nonlinsolve([u.diff(x), u.diff(y), u.diff(z)], [x, y, z]) \n",
    "display(*stat_points)\n",
    "def Delta(u, x, y, z):\n",
    "    return Matrix([[u.diff(x, 2), u.diff(x, y), u.diff(x, z)], \n",
    "                [u.diff(y, x), u.diff(y, 2), u.diff(y, z)],\n",
    "                [u.diff(z, x), u.diff(z, y), u.diff(z,2)],]).det()\n",
    "for point in stat_points:\n",
    "        x0, y0, z0 = point \n",
    "        if x0.is_real and y0.is_real and z0.is_real:\n",
    "            if Delta(u, x, y, z).subs({x: x0, y: y0, z: z0}) > 0:\n",
    "                A = u.diff(x, 2).subs({x: x0, y: y0, z: z0})\n",
    "                B = u.diff(y, 2).subs({x: x0, y: y0, z: z0})\n",
    "                C = u.diff(z, 2).subs({x: x0, y: y0, z: z0})\n",
    "                if A > 0 or B > 0 or C > 0:\n",
    "                    display('minimum', point, u.subs({x: x0, y: y0, z: z0}))\n",
    "                elif A < 0 or B < 0 or C < 0:\n",
    "                    display('maximum', point, u.subs({x: x0, y: y0, z: z0}))    "
   ]
  }
 ],
 "metadata": {
  "kernelspec": {
   "display_name": "Python 3 (ipykernel)",
   "language": "python",
   "name": "python3"
  },
  "language_info": {
   "codemirror_mode": {
    "name": "ipython",
    "version": 3
   },
   "file_extension": ".py",
   "mimetype": "text/x-python",
   "name": "python",
   "nbconvert_exporter": "python",
   "pygments_lexer": "ipython3",
   "version": "3.9.13"
  }
 },
 "nbformat": 4,
 "nbformat_minor": 2
}
