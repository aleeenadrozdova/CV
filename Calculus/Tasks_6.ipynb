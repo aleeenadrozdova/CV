{
 "cells": [
  {
   "cell_type": "markdown",
   "metadata": {},
   "source": [
    "## Занятие 6\n",
    "## Математический анализ\n",
    "## Дифференцирование"
   ]
  },
  {
   "cell_type": "code",
   "execution_count": 1,
   "metadata": {},
   "outputs": [],
   "source": [
    "import numpy as np\n",
    "import matplotlib.pyplot as plt\n",
    "import sympy\n",
    "from sympy import diff, solve, nsolve, solveset, latex, S, simplify, fraction\n",
    "from sympy import sin as Sin\n",
    "from sympy.calculus.util import continuous_domain\n",
    "x = sympy.Symbol(\"x\")\n",
    "%matplotlib inline"
   ]
  },
  {
   "cell_type": "markdown",
   "metadata": {},
   "source": [
    "## Лабораторная работа 6\n",
    "## Математический анализ\n",
    "## Задание 1\n",
    "Исследовать функцию с помощью производной, найти необходимые пределы и решить уравнения.\n",
    "\n",
    "Построить график функции и асимптот, отметить и подписать точки экстремума и точки перегиба,\n",
    "включить функцию и асимптоты в легенду. \n",
    "$$\n",
    "y = x^2e^{-x}\n",
    "$$"
   ]
  },
  {
   "cell_type": "markdown",
   "metadata": {},
   "source": [
    "#### 1. Область определения"
   ]
  },
  {
   "cell_type": "code",
   "execution_count": 2,
   "metadata": {},
   "outputs": [
    {
     "data": {
      "text/latex": [
       "$\\displaystyle \\mathbb{R}$"
      ],
      "text/plain": [
       "Reals"
      ]
     },
     "execution_count": 2,
     "metadata": {},
     "output_type": "execute_result"
    }
   ],
   "source": [
    "x = sympy.Symbol(\"x\")\n",
    "def f(x):\n",
    "    return x**2 * np.e**(-x)\n",
    "D = continuous_domain(f(x), x, S.Reals)\n",
    "D"
   ]
  },
  {
   "cell_type": "markdown",
   "metadata": {},
   "source": [
    "#### 2.Чётность"
   ]
  },
  {
   "cell_type": "code",
   "execution_count": 3,
   "metadata": {},
   "outputs": [
    {
     "name": "stdout",
     "output_type": "stream",
     "text": [
      "Функция общего вида\n"
     ]
    }
   ],
   "source": [
    "if f(-x) == f(x):\n",
    "    print('Четная функция')\n",
    "elif f(-x) == -f(x):\n",
    "    print('Нечетная функция')   \n",
    "else:\n",
    "    print('Функция общего вида')"
   ]
  },
  {
   "cell_type": "markdown",
   "metadata": {},
   "source": [
    "#### 3. Периодичность"
   ]
  },
  {
   "cell_type": "markdown",
   "metadata": {},
   "source": [
    "Функция не периодична"
   ]
  },
  {
   "cell_type": "markdown",
   "metadata": {},
   "source": [
    "#### 4. Точки пересечения с осями координат"
   ]
  },
  {
   "cell_type": "code",
   "execution_count": 4,
   "metadata": {},
   "outputs": [
    {
     "data": {
      "text/plain": [
       "[0]"
      ]
     },
     "execution_count": 4,
     "metadata": {},
     "output_type": "execute_result"
    }
   ],
   "source": [
    "roots = list(solveset(f(x), domain=S.Reals))\n",
    "roots.sort()\n",
    "roots"
   ]
  },
  {
   "cell_type": "markdown",
   "metadata": {},
   "source": [
    "#### 5. Точки экстремума"
   ]
  },
  {
   "cell_type": "code",
   "execution_count": 5,
   "metadata": {},
   "outputs": [
    {
     "name": "stdout",
     "output_type": "stream",
     "text": [
      "Точки нуля производной:  0.0, 2.00000000000000\n",
      "Точки максимума:  2.00000000000000\n",
      "Точки минимума:  0.0\n"
     ]
    }
   ],
   "source": [
    "df = f(x).diff(x)\n",
    "df_roots = solve(df, x)\n",
    "print(\"Точки нуля производной: \", \", \".join(map(str, df_roots)))\n",
    "points = [df_roots[0] - 1 ]\n",
    "points.extend([(df_roots[i] + df_roots[i + 1])/2 for i in range(len(df_roots) - 1)])\n",
    "points.append(df_roots[-1] + 1)                                                                \n",
    "max_arr = []\n",
    "min_arr = []\n",
    "for i, item in enumerate(df_roots):\n",
    "    df_left = df.subs(x, points[i])\n",
    "    df_right = df.subs(x, points[i + 1])\n",
    "    if df_left < 0 and df_right > 0:\n",
    "        min_arr.append(item)\n",
    "    elif df_left > 0 and df_right < 0:\n",
    "        max_arr.append(item) \n",
    "print(\"Точки максимума: \", \", \".join(map(str, max_arr)))\n",
    "print(\"Точки минимума: \", \", \".join(map(str, min_arr)))"
   ]
  },
  {
   "cell_type": "markdown",
   "metadata": {},
   "source": [
    "#### 6. Точки перегиба"
   ]
  },
  {
   "cell_type": "code",
   "execution_count": 6,
   "metadata": {
    "scrolled": true
   },
   "outputs": [
    {
     "name": "stdout",
     "output_type": "stream",
     "text": [
      "Точки нуля второй производной:  0.585786437626905, 3.41421356237309\n",
      "Точки перегиба:  0.585786437626905, 3.41421356237309\n"
     ]
    }
   ],
   "source": [
    "df2 = f(x).diff(x, 2)\n",
    "df2_roots = solve(df2, x)\n",
    "df2_roots.sort() # Упорядочили корни по возрастанию\n",
    "print(\"Точки нуля второй производной: \", \", \".join(map(str, df2_roots)))\n",
    "points2 = [df2_roots[0] - 1 ]\n",
    "points2.extend([(df2_roots[i] + df2_roots[i + 1])/2 for i in range(len(df2_roots) - 1)])\n",
    "points2.append(df2_roots[-1] + 1)                                                                \n",
    "inflection_arr = [item for i, item in enumerate(df2_roots) if df2.subs(x, points2[i])*df2.subs(x, points2[i + 1]) < 0]\n",
    "print(\"Точки перегиба: \", \", \".join(map(str, inflection_arr)))"
   ]
  },
  {
   "cell_type": "markdown",
   "metadata": {},
   "source": [
    "#### 7. Асимптоты"
   ]
  },
  {
   "cell_type": "code",
   "execution_count": 7,
   "metadata": {},
   "outputs": [
    {
     "data": {
      "text/latex": [
       "$\\displaystyle 0$"
      ],
      "text/plain": [
       "0"
      ]
     },
     "metadata": {},
     "output_type": "display_data"
    },
    {
     "data": {
      "text/latex": [
       "$\\displaystyle \\infty$"
      ],
      "text/plain": [
       "oo"
      ]
     },
     "metadata": {},
     "output_type": "display_data"
    },
    {
     "data": {
      "text/latex": [
       "$\\displaystyle 0$"
      ],
      "text/plain": [
       "0"
      ]
     },
     "metadata": {},
     "output_type": "display_data"
    },
    {
     "data": {
      "text/latex": [
       "$\\displaystyle - \\infty x$"
      ],
      "text/plain": [
       "-oo*x"
      ]
     },
     "metadata": {},
     "output_type": "display_data"
    }
   ],
   "source": [
    "y0pos = f(x).limit(x, +sympy.oo)\n",
    "y0neg = f(x).limit(x, -sympy.oo)\n",
    "display(y0pos, y0neg)\n",
    "\n",
    "kpos = sympy.limit(f(x)/x, x, +sympy.oo)\n",
    "kneg = sympy.limit(f(x)/x, x, -sympy.oo)\n",
    "if kpos == kneg:\n",
    "    k = kpos\n",
    "    b = sympy.limit(f(x) - k*x, x, sympy.oo)\n",
    "    y_as = k*x + b\n",
    "    display(y_as)\n",
    "else:\n",
    "    bpos = sympy.limit(f(x) - kpos*x, x, sympy.oo)\n",
    "    bneg = sympy.limit(f(x) - kpos*x, x, sympy.oo)\n",
    "    y_as_pos = kpos*x + bpos\n",
    "    y_as_neg = kneg*x + bneg\n",
    "    display(y_as_pos, y_as_neg)"
   ]
  },
  {
   "cell_type": "markdown",
   "metadata": {},
   "source": [
    "Существует правая асимптота y = 0"
   ]
  },
  {
   "cell_type": "markdown",
   "metadata": {},
   "source": [
    "#### 8. График"
   ]
  },
  {
   "cell_type": "code",
   "execution_count": 18,
   "metadata": {
    "scrolled": true
   },
   "outputs": [
    {
     "data": {
      "image/png": "[encoded data removed]",
      "text/plain": [
       "<Figure size 640x480 with 1 Axes>"
      ]
     },
     "metadata": {},
     "output_type": "display_data"
    }
   ],
   "source": [
    "ax = plt.gca() \n",
    "X = np.linspace(-1, 10, 100)\n",
    "X_D = [x for x in X if x in D] \n",
    "Y_D = [f(x) for x in X if x in D]\n",
    "minY = min(Y_D)-0.5\n",
    "maxY = max(Y_D)\n",
    "ax.plot(X, f(X), color='green', label=r'$f(x)=' + 'x^2e^{-x}' + r'$')\n",
    "ax.plot(X, [0 for i in X], color='red', label=r'$asympt. y=0' + r'$', linestyle='--')\n",
    "ax.set_ylim(minY, maxY)\n",
    "ax.spines['right'].set_color('none')\n",
    "ax.spines['top'].set_color('none')\n",
    "ax.spines['bottom'].set_position(('data', 0))\n",
    "ax.spines['left'].set_position(('data', 0))\n",
    "ax.plot(1, 0, '>k', transform=ax.get_yaxis_transform(), clip_on=False)\n",
    "ax.plot(0, 1, '^k', transform=ax.get_xaxis_transform(), clip_on=False)\n",
    "ax.legend(loc='best')\n",
    "for i, x0 in enumerate(sorted(min_arr+max_arr)):\n",
    "    f0 = f(x0)\n",
    "    ax.scatter([x0],[f0], 50, color='red')\n",
    "    XYtext = (-20, -10)\n",
    "    ax.annotate(r'$\\left(' + latex(round(x0,2)) + ',\\,' + latex(round(f0,2)) + r'\\right)$', xy=(x0, f0), xycoords='data',\n",
    "             xytext=XYtext, textcoords='offset points', fontsize=8)\n",
    "    ax.annotate(r'$A_' + str(i + 1) + r'$', xy=(x0, f0), xycoords='data',\n",
    "             xytext=(-5, 10), textcoords='offset points', fontsize=10)\n",
    "for i, x0 in enumerate(inflection_arr):\n",
    "    f0 = f(x0)\n",
    "    ax.scatter([x0],[f0], 50, color='blue')\n",
    "    XYtext = (-20, -10)\n",
    "    ax.annotate(r'$\\left(' + latex(round(x0,2)) + ',\\,' + latex(round(f0,2)) + r'\\right)$', xy=(x0, f0), xycoords='data',\n",
    "             xytext=XYtext, textcoords='offset points', fontsize=8)\n",
    "    ax.annotate(r'$B_' + str(i + 1) + r'$', xy=(x0, f0), xycoords='data',\n",
    "             xytext=(-5, 10), textcoords='offset points', fontsize=10)"
   ]
  },
  {
   "cell_type": "markdown",
   "metadata": {},
   "source": [
    "## Задание 2\n",
    "Исследовать функцию с помощью производной, найти необходимые пределы и решить уравнения.\n",
    "\n",
    "Построить график функции и асимптот, отметить и подписать точки экстремума и точки перегиба,\n",
    "включить функцию и асимптоты в легенду. \n",
    "$$\n",
    "y=xe^{2/x} + 1 \n",
    "$$"
   ]
  },
  {
   "cell_type": "markdown",
   "metadata": {},
   "source": [
    "#### 1. Область определения"
   ]
  },
  {
   "cell_type": "code",
   "execution_count": 38,
   "metadata": {},
   "outputs": [
    {
     "data": {
      "text/latex": [
       "$\\displaystyle \\left(-\\infty, 0\\right) \\cup \\left(0, \\infty\\right)$"
      ],
      "text/plain": [
       "Union(Interval.open(-oo, 0), Interval.open(0, oo))"
      ]
     },
     "execution_count": 38,
     "metadata": {},
     "output_type": "execute_result"
    }
   ],
   "source": [
    "x = sympy.Symbol(\"x\")\n",
    "def f(x):\n",
    "    return x * np.e**(2/x)+1\n",
    "D = continuous_domain(f(x), x, S.Reals)\n",
    "D"
   ]
  },
  {
   "cell_type": "markdown",
   "metadata": {},
   "source": [
    "#### 2.Чётность"
   ]
  },
  {
   "cell_type": "code",
   "execution_count": 20,
   "metadata": {},
   "outputs": [
    {
     "name": "stdout",
     "output_type": "stream",
     "text": [
      "Функция общего вида\n"
     ]
    }
   ],
   "source": [
    "if f(-x) == f(x):\n",
    "    print('Четная функция')\n",
    "elif f(-x) == -f(x):\n",
    "    print('Нечетная функция')   \n",
    "else:\n",
    "    print('Функция общего вида')"
   ]
  },
  {
   "cell_type": "markdown",
   "metadata": {},
   "source": [
    "#### 3. Периодичность"
   ]
  },
  {
   "cell_type": "markdown",
   "metadata": {},
   "source": [
    "Функция не периодична"
   ]
  },
  {
   "cell_type": "markdown",
   "metadata": {},
   "source": [
    "#### 4. Точки пересечения с осями координат"
   ]
  },
  {
   "cell_type": "code",
   "execution_count": 41,
   "metadata": {},
   "outputs": [
    {
     "data": {
      "text/latex": [
       "$\\displaystyle -2.34575075492277$"
      ],
      "text/plain": [
       "-2.34575075492277"
      ]
     },
     "execution_count": 41,
     "metadata": {},
     "output_type": "execute_result"
    },
    {
     "data": {
      "image/png": "[encoded data removed]",
      "text/plain": [
       "<Figure size 640x480 with 1 Axes>"
      ]
     },
     "metadata": {},
     "output_type": "display_data"
    }
   ],
   "source": [
    "X = np.linspace(-6, 6, 100)\n",
    "Y = f(X)\n",
    "ax = plt.gca()  \n",
    "ax.plot(X, Y)\n",
    "ax.set_ylim(-5, 30)\n",
    "ax.spines['right'].set_color('none')\n",
    "ax.spines['top'].set_color('none')\n",
    "ax.spines['left'].set_position(('data', 0))\n",
    "ax.spines['bottom'].set_position(('data', 0))\n",
    "roots = sympy.nsolve(f(x), x, -2)\n",
    "roots"
   ]
  },
  {
   "cell_type": "markdown",
   "metadata": {},
   "source": [
    "#### 5. Точки экстремума"
   ]
  },
  {
   "cell_type": "code",
   "execution_count": 42,
   "metadata": {},
   "outputs": [
    {
     "name": "stdout",
     "output_type": "stream",
     "text": [
      "Точки нуля производной:  2.00000000000000\n",
      "Точки максимума:  \n",
      "Точки минимума:  2.00000000000000\n"
     ]
    }
   ],
   "source": [
    "df = f(x).diff(x)\n",
    "df_roots = solve(df, x)\n",
    "print(\"Точки нуля производной: \", \", \".join(map(str, df_roots)))\n",
    "points = [df_roots[0] - 1 ]\n",
    "points.extend([(df_roots[i] + df_roots[i + 1])/2 for i in range(len(df_roots) - 1)])\n",
    "points.append(df_roots[-1] + 1)                                                                \n",
    "max_arr = []\n",
    "min_arr = []\n",
    "for i, item in enumerate(df_roots):\n",
    "    df_left = df.subs(x, points[i])\n",
    "    df_right = df.subs(x, points[i + 1])\n",
    "    if df_left < 0 and df_right > 0:\n",
    "        min_arr.append(item)\n",
    "    elif df_left > 0 and df_right < 0:\n",
    "        max_arr.append(item) \n",
    "print(\"Точки максимума: \", \", \".join(map(str, max_arr)))\n",
    "print(\"Точки минимума: \", \", \".join(map(str, min_arr)))"
   ]
  },
  {
   "cell_type": "markdown",
   "metadata": {},
   "source": [
    "#### 6. Точки перегиба"
   ]
  },
  {
   "cell_type": "code",
   "execution_count": 43,
   "metadata": {
    "scrolled": true
   },
   "outputs": [
    {
     "data": {
      "text/latex": [
       "$\\displaystyle \\frac{4.0 \\cdot 2.71828182845905^{\\frac{2}{x}}}{x^{3}}$"
      ],
      "text/plain": [
       "4.0*2.71828182845905**(2/x)/x**3"
      ]
     },
     "metadata": {},
     "output_type": "display_data"
    }
   ],
   "source": [
    "df2 = f(x).diff(x, 2)\n",
    "display(df2)"
   ]
  },
  {
   "cell_type": "markdown",
   "metadata": {},
   "source": [
    "Точек перегиба нет"
   ]
  },
  {
   "cell_type": "markdown",
   "metadata": {},
   "source": [
    "#### 7. Асимптоты"
   ]
  },
  {
   "cell_type": "markdown",
   "metadata": {},
   "source": [
    "Существует вертикальная асимптота х = 0"
   ]
  },
  {
   "cell_type": "code",
   "execution_count": 55,
   "metadata": {},
   "outputs": [
    {
     "name": "stdout",
     "output_type": "stream",
     "text": [
      "-oo oo\n"
     ]
    }
   ],
   "source": [
    "v_as = 0\n",
    "print(f(x).limit(x, v_as, dir='-'), f(x).limit(x, v_as))"
   ]
  },
  {
   "cell_type": "code",
   "execution_count": 44,
   "metadata": {},
   "outputs": [
    {
     "data": {
      "text/latex": [
       "$\\displaystyle \\infty$"
      ],
      "text/plain": [
       "oo"
      ]
     },
     "metadata": {},
     "output_type": "display_data"
    },
    {
     "data": {
      "text/latex": [
       "$\\displaystyle -\\infty$"
      ],
      "text/plain": [
       "-oo"
      ]
     },
     "metadata": {},
     "output_type": "display_data"
    },
    {
     "data": {
      "text/latex": [
       "$\\displaystyle x + 1 + \\log{\\left(\\frac{2955622439572270452199010761}{400000000000000000000000000} \\right)}$"
      ],
      "text/plain": [
       "x + 1 + log(2955622439572270452199010761/400000000000000000000000000)"
      ]
     },
     "metadata": {},
     "output_type": "display_data"
    }
   ],
   "source": [
    "y0pos = f(x).limit(x, +sympy.oo)\n",
    "y0neg = f(x).limit(x, -sympy.oo)\n",
    "display(y0pos, y0neg)\n",
    "\n",
    "kpos = sympy.limit(f(x)/x, x, +sympy.oo)\n",
    "kneg = sympy.limit(f(x)/x, x, -sympy.oo)\n",
    "if kpos == kneg:\n",
    "    k = kpos\n",
    "    b = sympy.limit(x * np.e**(2/x)+1 - x, x, sympy.oo)\n",
    "    y_as = simplify(k*x + b)\n",
    "    display(y_as)\n",
    "else:\n",
    "    bpos = sympy.limit(f(x) - kpos*x, x, sympy.oo)\n",
    "    bneg = sympy.limit(f(x) - kpos*x, x, sympy.oo)\n",
    "    y_as_pos = kpos*x + bpos\n",
    "    y_as_neg = kneg*x + bneg\n",
    "    display(y_as_pos, y_as_neg)"
   ]
  },
  {
   "cell_type": "markdown",
   "metadata": {},
   "source": [
    "#### 8. График"
   ]
  },
  {
   "cell_type": "code",
   "execution_count": 47,
   "metadata": {
    "scrolled": true
   },
   "outputs": [
    {
     "data": {
      "image/png": "[encoded data removed]",
      "text/plain": [
       "<Figure size 640x480 with 1 Axes>"
      ]
     },
     "metadata": {},
     "output_type": "display_data"
    }
   ],
   "source": [
    "ax = plt.gca() \n",
    "X1 = np.linspace(v_as-6, float(v_as - 0.01), 100) \n",
    "X2 = np.linspace(float(v_as + 0.01), v_as+6, 100)\n",
    "Y1 = f(X1)\n",
    "Y2 = f(X2)\n",
    "ax.plot(X1, Y1, 'k-', label=r'$f(x)=' + \"xe^{2/x} + 1\" + r'$') # График левой ветви функции\n",
    "ax.plot(X2, Y2, 'k-')\n",
    "minY = -5\n",
    "maxY = 30\n",
    "ax.set_ylim(minY, maxY)\n",
    "ax.spines['right'].set_color('none')\n",
    "ax.spines['top'].set_color('none')\n",
    "ax.spines['bottom'].set_position(('data', 0))\n",
    "ax.spines['left'].set_position(('data', 0))\n",
    "ax.plot(1, 0, '>k', transform=ax.get_yaxis_transform(), clip_on=False)\n",
    "ax.plot(0, 1, '^k', transform=ax.get_xaxis_transform(), clip_on=False)\n",
    "ax.plot([X1[0], X2[-1]], [y_as.subs(x, X1[0]), y_as.subs(x, X2[-1])], 'g--', \n",
    "         label=r'$asympt. y=' + sympy.latex(y_as) + r'$')\n",
    "ax.axvline(x=v_as, color='red', label=r'$asympt. x=' + sympy.latex(v_as) + r'$', linestyle='--')  \n",
    "ax.legend(loc='best')\n",
    "for i, x0 in enumerate(sorted(min_arr+max_arr)):\n",
    "    f0 = f(x0)\n",
    "    ax.scatter([x0],[f0], 50, color='red')\n",
    "    XYtext = (-20, -10)\n",
    "    ax.annotate(r'$\\left(' + latex(round(x0,2)) + ',\\,' + latex(round(f0,2)) + r'\\right)$', xy=(x0, f0), xycoords='data',\n",
    "             xytext=XYtext, textcoords='offset points', fontsize=8)\n",
    "    ax.annotate(r'$A_' + str(i + 1) + r'$', xy=(x0, f0), xycoords='data',\n",
    "             xytext=(-5, 10), textcoords='offset points', fontsize=10)\n"
   ]
  },
  {
   "cell_type": "code",
   "execution_count": null,
   "metadata": {},
   "outputs": [],
   "source": []
  },
  {
   "cell_type": "markdown",
   "metadata": {},
   "source": [
    "## Индивидуальное задание\n",
    "Исследовать функцию с помощью производной, найти необходимые пределы и решить уравнения.\n",
    "\n",
    "Построить график функции и асимптот (если есть), отметить и подписать точки экстремума и точки перегиба (если есть),\n",
    "включить функцию и асимптоты (если есть) в легенду. \n",
    "$$\n",
    "f(x) = \\frac{(4x−7)(6x−1)}{x−4}\n",
    "$$"
   ]
  },
  {
   "cell_type": "markdown",
   "metadata": {},
   "source": [
    "#### 1. Область определения"
   ]
  },
  {
   "cell_type": "code",
   "execution_count": 48,
   "metadata": {},
   "outputs": [
    {
     "data": {
      "text/latex": [
       "$\\displaystyle \\left(-\\infty, 4\\right) \\cup \\left(4, \\infty\\right)$"
      ],
      "text/plain": [
       "Union(Interval.open(-oo, 4), Interval.open(4, oo))"
      ]
     },
     "execution_count": 48,
     "metadata": {},
     "output_type": "execute_result"
    }
   ],
   "source": [
    "x = sympy.Symbol(\"x\")\n",
    "def f(x):\n",
    "    return ((4*x-7)*(6*x-1))/(x-4)\n",
    "D = continuous_domain(f(x), x, S.Reals)\n",
    "D"
   ]
  },
  {
   "cell_type": "markdown",
   "metadata": {},
   "source": [
    "#### 2.Чётность"
   ]
  },
  {
   "cell_type": "code",
   "execution_count": 49,
   "metadata": {},
   "outputs": [
    {
     "name": "stdout",
     "output_type": "stream",
     "text": [
      "Функция общего вида\n"
     ]
    }
   ],
   "source": [
    "if f(-x) == f(x):\n",
    "    print('Четная функция')\n",
    "elif f(-x) == -f(x):\n",
    "    print('Нечетная функция')   \n",
    "else:\n",
    "    print('Функция общего вида')"
   ]
  },
  {
   "cell_type": "markdown",
   "metadata": {},
   "source": [
    "#### 3. Периодичность"
   ]
  },
  {
   "cell_type": "markdown",
   "metadata": {},
   "source": [
    "Функция не периодична"
   ]
  },
  {
   "cell_type": "markdown",
   "metadata": {},
   "source": [
    "#### 4. Точки пересечения с осями координат"
   ]
  },
  {
   "cell_type": "code",
   "execution_count": 50,
   "metadata": {},
   "outputs": [
    {
     "data": {
      "text/plain": [
       "[1/6, 7/4]"
      ]
     },
     "execution_count": 50,
     "metadata": {},
     "output_type": "execute_result"
    }
   ],
   "source": [
    "roots = list(solveset(f(x), domain=S.Reals))\n",
    "roots.sort()\n",
    "roots"
   ]
  },
  {
   "cell_type": "markdown",
   "metadata": {},
   "source": [
    "#### 5. Точки экстремума"
   ]
  },
  {
   "cell_type": "code",
   "execution_count": 51,
   "metadata": {
    "scrolled": true
   },
   "outputs": [
    {
     "name": "stdout",
     "output_type": "stream",
     "text": [
      "Точки нуля производной:  4 - sqrt(138)/4, sqrt(138)/4 + 4\n",
      "Точки максимума:  4 - sqrt(138)/4\n",
      "Точки минимума:  sqrt(138)/4 + 4\n"
     ]
    }
   ],
   "source": [
    "df = f(x).diff(x)\n",
    "df_roots = solve(df, x)\n",
    "print(\"Точки нуля производной: \", \", \".join(map(str, df_roots)))\n",
    "points = [df_roots[0] - 1 ]\n",
    "points.extend([(df_roots[i] + 2*df_roots[i + 1])/3 for i in range(len(df_roots) - 1)])\n",
    "points.append(df_roots[-1] + 1)    \n",
    "max_arr = []\n",
    "min_arr = []\n",
    "for i, item in enumerate(df_roots):\n",
    "    df_left = simplify(df.subs(x, points[i]))\n",
    "    df_right = simplify(df.subs(x, points[i + 1]))\n",
    "    if df_left < 0 and df_right > 0:\n",
    "        min_arr.append(item)\n",
    "    elif df_left > 0 and df_right < 0:\n",
    "        max_arr.append(item) \n",
    "print(\"Точки максимума: \", \", \".join(map(str, max_arr)))\n",
    "print(\"Точки минимума: \", \", \".join(map(str, min_arr)))"
   ]
  },
  {
   "cell_type": "markdown",
   "metadata": {},
   "source": [
    "#### 6. Точки перегиба"
   ]
  },
  {
   "cell_type": "code",
   "execution_count": 52,
   "metadata": {
    "scrolled": true
   },
   "outputs": [
    {
     "data": {
      "text/latex": [
       "$\\displaystyle \\frac{414}{x^{3} - 12 x^{2} + 48 x - 64}$"
      ],
      "text/plain": [
       "414/(x**3 - 12*x**2 + 48*x - 64)"
      ]
     },
     "metadata": {},
     "output_type": "display_data"
    },
    {
     "name": "stdout",
     "output_type": "stream",
     "text": [
      "Точки нуля второй производной:  \n"
     ]
    }
   ],
   "source": [
    "df2 = simplify(f(x).diff(x, 2))\n",
    "display(df2)\n"
   ]
  },
  {
   "cell_type": "markdown",
   "metadata": {},
   "source": [
    "Точек перигиба нет"
   ]
  },
  {
   "cell_type": "markdown",
   "metadata": {},
   "source": [
    "#### 7. Асимптоты"
   ]
  },
  {
   "cell_type": "markdown",
   "metadata": {},
   "source": [
    "Существует вертикальная асимптота х = 4"
   ]
  },
  {
   "cell_type": "code",
   "execution_count": 55,
   "metadata": {},
   "outputs": [
    {
     "name": "stdout",
     "output_type": "stream",
     "text": [
      "-oo oo\n"
     ]
    }
   ],
   "source": [
    "v_as = 4\n",
    "print(f(x).limit(x, v_as, dir='-'), f(x).limit(x, v_as))"
   ]
  },
  {
   "cell_type": "code",
   "execution_count": 56,
   "metadata": {},
   "outputs": [
    {
     "data": {
      "text/latex": [
       "$\\displaystyle \\infty$"
      ],
      "text/plain": [
       "oo"
      ]
     },
     "metadata": {},
     "output_type": "display_data"
    },
    {
     "data": {
      "text/latex": [
       "$\\displaystyle -\\infty$"
      ],
      "text/plain": [
       "-oo"
      ]
     },
     "metadata": {},
     "output_type": "display_data"
    },
    {
     "data": {
      "text/latex": [
       "$\\displaystyle 24 x + 50$"
      ],
      "text/plain": [
       "24*x + 50"
      ]
     },
     "metadata": {},
     "output_type": "display_data"
    }
   ],
   "source": [
    "y0pos = f(x).limit(x, +sympy.oo)\n",
    "y0neg = f(x).limit(x, -sympy.oo)\n",
    "display(y0pos, y0neg)\n",
    "\n",
    "kpos = sympy.limit(f(x)/x, x, +sympy.oo)\n",
    "kneg = sympy.limit(f(x)/x, x, -sympy.oo)\n",
    "if kpos == kneg:\n",
    "    k = kpos\n",
    "    b = sympy.limit(f(x) - k*x, x, sympy.oo)\n",
    "    y_as = k*x + b\n",
    "    display(y_as)\n",
    "else:\n",
    "    bpos = sympy.limit(f(x) - kpos*x, x, sympy.oo)\n",
    "    bneg = sympy.limit(f(x) - kpos*x, x, sympy.oo)\n",
    "    y_as_pos = kpos*x + bpos\n",
    "    y_as_neg = kneg*x + bneg\n",
    "    display(y_as_pos, y_as_neg)"
   ]
  },
  {
   "cell_type": "markdown",
   "metadata": {},
   "source": [
    "#### 8. График"
   ]
  },
  {
   "cell_type": "code",
   "execution_count": 59,
   "metadata": {
    "scrolled": true
   },
   "outputs": [
    {
     "data": {
      "text/plain": [
       "<matplotlib.legend.Legend at 0x1ffafb00070>"
      ]
     },
     "execution_count": 59,
     "metadata": {},
     "output_type": "execute_result"
    },
    {
     "data": {
      "image/png": "[encoded data removed]",
      "text/plain": [
       "<Figure size 640x480 with 1 Axes>"
      ]
     },
     "metadata": {},
     "output_type": "display_data"
    }
   ],
   "source": [
    "ax = plt.gca() \n",
    "X1 = np.linspace(v_as-8, float(v_as - 0.01), 100) \n",
    "X2 = np.linspace(float(v_as + 0.01), v_as+8, 100)\n",
    "Y1 = f(X1)\n",
    "Y2 = f(X2)\n",
    "ax.plot(X1, Y1, 'k-', label=r'$f(x)=' + sympy.latex(f(x)) + r'$') # График левой ветви функции\n",
    "ax.plot(X2, Y2, 'k-')\n",
    "minY = -500\n",
    "maxY = 700\n",
    "ax.set_ylim(minY, maxY)\n",
    "ax.spines['right'].set_color('none')\n",
    "ax.spines['top'].set_color('none')\n",
    "ax.spines['bottom'].set_position(('data', 0))\n",
    "ax.spines['left'].set_position(('data', 0))\n",
    "ax.plot(1, 0, '>k', transform=ax.get_yaxis_transform(), clip_on=False)\n",
    "ax.plot(0, 1, '^k', transform=ax.get_xaxis_transform(), clip_on=False)\n",
    "for i, x0 in enumerate(sorted(min_arr+max_arr)):\n",
    "    f0 = f(x0)\n",
    "    ax.scatter([x0],[f0], 50, color='red')\n",
    "    XYtext = (-20, -10)\n",
    "    ax.annotate(r'$\\left(' + latex(round(x0,2)) + ',\\,' + latex(round(f0,2)) + r'\\right)$', xy=(x0, f0), xycoords='data',\n",
    "             xytext=XYtext, textcoords='offset points', fontsize=8)\n",
    "    ax.annotate(r'$A_' + str(i + 1) + r'$', xy=(x0, f0), xycoords='data',\n",
    "             xytext=(-5, 10), textcoords='offset points', fontsize=10)\n",
    "ax.axvline(x=v_as, color='red', label=r'$asympt. x=' + sympy.latex(v_as) + r'$', linestyle='--')   \n",
    "ax.plot([X1[0], X2[-1]], [y_as.subs(x, X1[0]), y_as.subs(x, X2[-1])], 'g--', \n",
    "         label=r'$asympt. y=' + sympy.latex(y_as) + r'$')\n",
    "ax.legend(loc='lower right')\n"
   ]
  }
 ],
 "metadata": {
  "kernelspec": {
   "display_name": "Python 3 (ipykernel)",
   "language": "python",
   "name": "python3"
  },
  "language_info": {
   "codemirror_mode": {
    "name": "ipython",
    "version": 3
   },
   "file_extension": ".py",
   "mimetype": "text/x-python",
   "name": "python",
   "nbconvert_exporter": "python",
   "pygments_lexer": "ipython3",
   "version": "3.9.13"
  }
 },
 "nbformat": 4,
 "nbformat_minor": 2
}
